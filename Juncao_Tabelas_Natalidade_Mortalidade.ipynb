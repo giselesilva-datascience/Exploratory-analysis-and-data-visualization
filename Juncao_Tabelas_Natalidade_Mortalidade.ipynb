{
 "cells": [
  {
   "cell_type": "code",
   "execution_count": 1,
   "id": "6a2711ce",
   "metadata": {},
   "outputs": [
    {
     "data": {
      "text/html": [
       "<div>\n",
       "<style scoped>\n",
       "    .dataframe tbody tr th:only-of-type {\n",
       "        vertical-align: middle;\n",
       "    }\n",
       "\n",
       "    .dataframe tbody tr th {\n",
       "        vertical-align: top;\n",
       "    }\n",
       "\n",
       "    .dataframe thead th {\n",
       "        text-align: right;\n",
       "    }\n",
       "</style>\n",
       "<table border=\"1\" class=\"dataframe\">\n",
       "  <thead>\n",
       "    <tr style=\"text-align: right;\">\n",
       "      <th></th>\n",
       "      <th>Anos</th>\n",
       "      <th>Total de Obitos</th>\n",
       "      <th>Masculino</th>\n",
       "      <th>Feminino</th>\n",
       "      <th>Obitos menos de 1 ano</th>\n",
       "      <th>Taxa bruta de mortalidade</th>\n",
       "      <th>Taxa de mortalidade infantil</th>\n",
       "      <th>Esperanca de vida a nascenca</th>\n",
       "    </tr>\n",
       "  </thead>\n",
       "  <tbody>\n",
       "    <tr>\n",
       "      <th>0</th>\n",
       "      <td>1900</td>\n",
       "      <td>110330</td>\n",
       "      <td>56304</td>\n",
       "      <td>54026</td>\n",
       "      <td>NaN</td>\n",
       "      <td>20.4</td>\n",
       "      <td>NaN</td>\n",
       "      <td>NaN</td>\n",
       "    </tr>\n",
       "    <tr>\n",
       "      <th>1</th>\n",
       "      <td>1910</td>\n",
       "      <td>113161</td>\n",
       "      <td>58132</td>\n",
       "      <td>55653</td>\n",
       "      <td>25024.0</td>\n",
       "      <td>19.2</td>\n",
       "      <td>133.9</td>\n",
       "      <td>NaN</td>\n",
       "    </tr>\n",
       "    <tr>\n",
       "      <th>2</th>\n",
       "      <td>1920</td>\n",
       "      <td>142862</td>\n",
       "      <td>72220</td>\n",
       "      <td>70662</td>\n",
       "      <td>33302.0</td>\n",
       "      <td>23.7</td>\n",
       "      <td>164.1</td>\n",
       "      <td>NaN</td>\n",
       "    </tr>\n",
       "    <tr>\n",
       "      <th>3</th>\n",
       "      <td>1930</td>\n",
       "      <td>116352</td>\n",
       "      <td>59508</td>\n",
       "      <td>56844</td>\n",
       "      <td>29077.0</td>\n",
       "      <td>17.1</td>\n",
       "      <td>143.6</td>\n",
       "      <td>NaN</td>\n",
       "    </tr>\n",
       "    <tr>\n",
       "      <th>4</th>\n",
       "      <td>1940</td>\n",
       "      <td>120486</td>\n",
       "      <td>60930</td>\n",
       "      <td>59556</td>\n",
       "      <td>23690.0</td>\n",
       "      <td>15.7</td>\n",
       "      <td>126.1</td>\n",
       "      <td>NaN</td>\n",
       "    </tr>\n",
       "  </tbody>\n",
       "</table>\n",
       "</div>"
      ],
      "text/plain": [
       "   Anos  Total de Obitos  Masculino  Feminino  Obitos menos de 1 ano  \\\n",
       "0  1900           110330      56304     54026                    NaN   \n",
       "1  1910           113161      58132     55653                25024.0   \n",
       "2  1920           142862      72220     70662                33302.0   \n",
       "3  1930           116352      59508     56844                29077.0   \n",
       "4  1940           120486      60930     59556                23690.0   \n",
       "\n",
       "   Taxa bruta de mortalidade  Taxa de mortalidade infantil  \\\n",
       "0                       20.4                           NaN   \n",
       "1                       19.2                         133.9   \n",
       "2                       23.7                         164.1   \n",
       "3                       17.1                         143.6   \n",
       "4                       15.7                         126.1   \n",
       "\n",
       "   Esperanca de vida a nascenca  \n",
       "0                           NaN  \n",
       "1                           NaN  \n",
       "2                           NaN  \n",
       "3                           NaN  \n",
       "4                           NaN  "
      ]
     },
     "execution_count": 1,
     "metadata": {},
     "output_type": "execute_result"
    }
   ],
   "source": [
    "import pandas as pd\n",
    "\n",
    "df1 = pd.read_csv('ETL_Taxa_Mortalidade_1900_a_2023.csv', sep=';', encoding='latin1')\n",
    "df1.head()  \n"
   ]
  },
  {
   "cell_type": "code",
   "execution_count": 2,
   "id": "3b5e85f3",
   "metadata": {},
   "outputs": [
    {
     "data": {
      "text/html": [
       "<div>\n",
       "<style scoped>\n",
       "    .dataframe tbody tr th:only-of-type {\n",
       "        vertical-align: middle;\n",
       "    }\n",
       "\n",
       "    .dataframe tbody tr th {\n",
       "        vertical-align: top;\n",
       "    }\n",
       "\n",
       "    .dataframe thead th {\n",
       "        text-align: right;\n",
       "    }\n",
       "</style>\n",
       "<table border=\"1\" class=\"dataframe\">\n",
       "  <thead>\n",
       "    <tr style=\"text-align: right;\">\n",
       "      <th></th>\n",
       "      <th>Anos</th>\n",
       "      <th>Total de Nados-vivos</th>\n",
       "      <th>Masculino</th>\n",
       "      <th>Feminino</th>\n",
       "      <th>Nascimento Fora do Casamento</th>\n",
       "      <th>Taxa bruta de natalidade</th>\n",
       "      <th>Ãndice sintÃ©tico de fecundidade</th>\n",
       "      <th>Idade mÃ©dia da mulher ao nascimento do primeiro filho</th>\n",
       "      <th>Idade mÃ©dia da mulher ao nascimento de um filho</th>\n",
       "    </tr>\n",
       "  </thead>\n",
       "  <tbody>\n",
       "    <tr>\n",
       "      <th>0</th>\n",
       "      <td>1900</td>\n",
       "      <td>165245</td>\n",
       "      <td>85274</td>\n",
       "      <td>79971</td>\n",
       "      <td>19236</td>\n",
       "      <td>30.6</td>\n",
       "      <td>NaN</td>\n",
       "      <td>NaN</td>\n",
       "      <td>NaN</td>\n",
       "    </tr>\n",
       "    <tr>\n",
       "      <th>1</th>\n",
       "      <td>1910</td>\n",
       "      <td>186953</td>\n",
       "      <td>96845</td>\n",
       "      <td>90108</td>\n",
       "      <td>20601</td>\n",
       "      <td>31.7</td>\n",
       "      <td>NaN</td>\n",
       "      <td>NaN</td>\n",
       "      <td>NaN</td>\n",
       "    </tr>\n",
       "    <tr>\n",
       "      <th>2</th>\n",
       "      <td>1920</td>\n",
       "      <td>202908</td>\n",
       "      <td>103984</td>\n",
       "      <td>98924</td>\n",
       "      <td>27274</td>\n",
       "      <td>33.7</td>\n",
       "      <td>NaN</td>\n",
       "      <td>NaN</td>\n",
       "      <td>NaN</td>\n",
       "    </tr>\n",
       "    <tr>\n",
       "      <th>3</th>\n",
       "      <td>1930</td>\n",
       "      <td>202529</td>\n",
       "      <td>103928</td>\n",
       "      <td>98601</td>\n",
       "      <td>29409</td>\n",
       "      <td>29.8</td>\n",
       "      <td>NaN</td>\n",
       "      <td>NaN</td>\n",
       "      <td>NaN</td>\n",
       "    </tr>\n",
       "    <tr>\n",
       "      <th>4</th>\n",
       "      <td>1940</td>\n",
       "      <td>187892</td>\n",
       "      <td>97147</td>\n",
       "      <td>90745</td>\n",
       "      <td>29463</td>\n",
       "      <td>24.4</td>\n",
       "      <td>NaN</td>\n",
       "      <td>NaN</td>\n",
       "      <td>NaN</td>\n",
       "    </tr>\n",
       "  </tbody>\n",
       "</table>\n",
       "</div>"
      ],
      "text/plain": [
       "   Anos  Total de Nados-vivos  Masculino  Feminino  \\\n",
       "0  1900                165245      85274     79971   \n",
       "1  1910                186953      96845     90108   \n",
       "2  1920                202908     103984     98924   \n",
       "3  1930                202529     103928     98601   \n",
       "4  1940                187892      97147     90745   \n",
       "\n",
       "   Nascimento Fora do Casamento  Taxa bruta de natalidade  \\\n",
       "0                         19236                      30.6   \n",
       "1                         20601                      31.7   \n",
       "2                         27274                      33.7   \n",
       "3                         29409                      29.8   \n",
       "4                         29463                      24.4   \n",
       "\n",
       "   Ãndice sintÃ©tico de fecundidade  \\\n",
       "0                                NaN   \n",
       "1                                NaN   \n",
       "2                                NaN   \n",
       "3                                NaN   \n",
       "4                                NaN   \n",
       "\n",
       "   Idade mÃ©dia da mulher ao nascimento do primeiro filho  \\\n",
       "0                                                NaN        \n",
       "1                                                NaN        \n",
       "2                                                NaN        \n",
       "3                                                NaN        \n",
       "4                                                NaN        \n",
       "\n",
       "   Idade mÃ©dia da mulher ao nascimento de um filho  \n",
       "0                                               NaN  \n",
       "1                                               NaN  \n",
       "2                                               NaN  \n",
       "3                                               NaN  \n",
       "4                                               NaN  "
      ]
     },
     "execution_count": 2,
     "metadata": {},
     "output_type": "execute_result"
    }
   ],
   "source": [
    "df2 = pd.read_csv('ETL_Natalidade_1900_a_2023.csv', sep=';', encoding='latin1')\n",
    "df2.head()\n"
   ]
  },
  {
   "cell_type": "code",
   "execution_count": 3,
   "id": "4297bdd5",
   "metadata": {},
   "outputs": [],
   "source": [
    "df_combinado = pd.merge(df1, df2, on='Anos', how='inner')"
   ]
  },
  {
   "cell_type": "code",
   "execution_count": 4,
   "id": "79ec1fae",
   "metadata": {},
   "outputs": [
    {
     "name": "stdout",
     "output_type": "stream",
     "text": [
      "   Anos  Total de Obitos  Masculino_x  Feminino_x  Obitos menos de 1 ano  \\\n",
      "0  1900           110330        56304       54026                    NaN   \n",
      "1  1910           113161        58132       55653                25024.0   \n",
      "2  1920           142862        72220       70662                33302.0   \n",
      "3  1930           116352        59508       56844                29077.0   \n",
      "4  1940           120486        60930       59556                23690.0   \n",
      "\n",
      "   Taxa bruta de mortalidade  Taxa de mortalidade infantil  \\\n",
      "0                       20.4                           NaN   \n",
      "1                       19.2                         133.9   \n",
      "2                       23.7                         164.1   \n",
      "3                       17.1                         143.6   \n",
      "4                       15.7                         126.1   \n",
      "\n",
      "   Esperanca de vida a nascenca  Total de Nados-vivos  Masculino_y  \\\n",
      "0                           NaN                165245        85274   \n",
      "1                           NaN                186953        96845   \n",
      "2                           NaN                202908       103984   \n",
      "3                           NaN                202529       103928   \n",
      "4                           NaN                187892        97147   \n",
      "\n",
      "   Feminino_y  Nascimento Fora do Casamento  Taxa bruta de natalidade  \\\n",
      "0       79971                         19236                      30.6   \n",
      "1       90108                         20601                      31.7   \n",
      "2       98924                         27274                      33.7   \n",
      "3       98601                         29409                      29.8   \n",
      "4       90745                         29463                      24.4   \n",
      "\n",
      "   Ãndice sintÃ©tico de fecundidade  \\\n",
      "0                                NaN   \n",
      "1                                NaN   \n",
      "2                                NaN   \n",
      "3                                NaN   \n",
      "4                                NaN   \n",
      "\n",
      "   Idade mÃ©dia da mulher ao nascimento do primeiro filho  \\\n",
      "0                                                NaN        \n",
      "1                                                NaN        \n",
      "2                                                NaN        \n",
      "3                                                NaN        \n",
      "4                                                NaN        \n",
      "\n",
      "   Idade mÃ©dia da mulher ao nascimento de um filho  \n",
      "0                                               NaN  \n",
      "1                                               NaN  \n",
      "2                                               NaN  \n",
      "3                                               NaN  \n",
      "4                                               NaN  \n"
     ]
    }
   ],
   "source": [
    "print(df_combinado.head())"
   ]
  },
  {
   "cell_type": "code",
   "execution_count": 15,
   "id": "17945522",
   "metadata": {},
   "outputs": [],
   "source": [
    "# Exemplo de criação do dataframe tabela_long\n",
    "tabela_long = df_combinado.melt(id_vars=['Anos'], value_vars=['Total de Nados-vivos', 'Total de Obitos'], \n",
    "                          var_name='Pessoas', value_name='Nascimento x Obitos')  # ou o nome correto das colunas"
   ]
  },
  {
   "cell_type": "code",
   "execution_count": 16,
   "id": "ee633be3",
   "metadata": {},
   "outputs": [
    {
     "name": "stdout",
     "output_type": "stream",
     "text": [
      "['Anos', 'Pessoas', 'Nascimento x Obitos']\n"
     ]
    }
   ],
   "source": [
    "print(tabela_long.columns.tolist())\n"
   ]
  },
  {
   "cell_type": "code",
   "execution_count": 35,
   "id": "61262a99",
   "metadata": {},
   "outputs": [
    {
     "data": {
      "application/vnd.plotly.v1+json": {
       "config": {
        "plotlyServerURL": "https://plot.ly"
       },
       "data": [
        {
         "hovertemplate": "Pessoas=%{y}<br>Anos=1900<br>Nascimento x Obitos=%{text}<extra></extra>",
         "ids": [
          "Total de Nados-vivos"
         ],
         "legendgroup": "Total de Nados-vivos",
         "marker": {
          "color": "blue",
          "pattern": {
           "shape": ""
          }
         },
         "name": "Total de Nados-vivos",
         "orientation": "h",
         "showlegend": true,
         "text": {
          "bdata": "AAAAAOgrBEE=",
          "dtype": "f8"
         },
         "textposition": "auto",
         "type": "bar",
         "x": {
          "bdata": "fYUCAA==",
          "dtype": "i4"
         },
         "xaxis": "x",
         "y": [
          "Total de Nados-vivos"
         ],
         "yaxis": "y"
        },
        {
         "hovertemplate": "Pessoas=%{y}<br>Anos=1900<br>Nascimento x Obitos=%{text}<extra></extra>",
         "ids": [
          "Total de Obitos"
         ],
         "legendgroup": "Total de Obitos",
         "marker": {
          "color": "red",
          "pattern": {
           "shape": ""
          }
         },
         "name": "Total de Obitos",
         "orientation": "h",
         "showlegend": true,
         "text": {
          "bdata": "AAAAAKDv+kA=",
          "dtype": "f8"
         },
         "textposition": "auto",
         "type": "bar",
         "x": {
          "bdata": "+q4BAA==",
          "dtype": "i4"
         },
         "xaxis": "x",
         "y": [
          "Total de Obitos"
         ],
         "yaxis": "y"
        }
       ],
       "frames": [
        {
         "data": [
          {
           "hovertemplate": "Pessoas=%{y}<br>Anos=1900<br>Nascimento x Obitos=%{text}<extra></extra>",
           "ids": [
            "Total de Nados-vivos"
           ],
           "legendgroup": "Total de Nados-vivos",
           "marker": {
            "color": "blue",
            "pattern": {
             "shape": ""
            }
           },
           "name": "Total de Nados-vivos",
           "orientation": "h",
           "showlegend": true,
           "text": {
            "bdata": "AAAAAOgrBEE=",
            "dtype": "f8"
           },
           "textposition": "auto",
           "type": "bar",
           "x": {
            "bdata": "fYUCAA==",
            "dtype": "i4"
           },
           "xaxis": "x",
           "y": [
            "Total de Nados-vivos"
           ],
           "yaxis": "y"
          },
          {
           "hovertemplate": "Pessoas=%{y}<br>Anos=1900<br>Nascimento x Obitos=%{text}<extra></extra>",
           "ids": [
            "Total de Obitos"
           ],
           "legendgroup": "Total de Obitos",
           "marker": {
            "color": "red",
            "pattern": {
             "shape": ""
            }
           },
           "name": "Total de Obitos",
           "orientation": "h",
           "showlegend": true,
           "text": {
            "bdata": "AAAAAKDv+kA=",
            "dtype": "f8"
           },
           "textposition": "auto",
           "type": "bar",
           "x": {
            "bdata": "+q4BAA==",
            "dtype": "i4"
           },
           "xaxis": "x",
           "y": [
            "Total de Obitos"
           ],
           "yaxis": "y"
          }
         ],
         "name": "1900"
        },
        {
         "data": [
          {
           "hovertemplate": "Pessoas=%{y}<br>Anos=1910<br>Nascimento x Obitos=%{text}<extra></extra>",
           "ids": [
            "Total de Nados-vivos"
           ],
           "legendgroup": "Total de Nados-vivos",
           "marker": {
            "color": "blue",
            "pattern": {
             "shape": ""
            }
           },
           "name": "Total de Nados-vivos",
           "orientation": "h",
           "showlegend": true,
           "text": {
            "bdata": "AAAAAEjSBkE=",
            "dtype": "f8"
           },
           "textposition": "auto",
           "type": "bar",
           "x": {
            "bdata": "SdoCAA==",
            "dtype": "i4"
           },
           "xaxis": "x",
           "y": [
            "Total de Nados-vivos"
           ],
           "yaxis": "y"
          },
          {
           "hovertemplate": "Pessoas=%{y}<br>Anos=1910<br>Nascimento x Obitos=%{text}<extra></extra>",
           "ids": [
            "Total de Obitos"
           ],
           "legendgroup": "Total de Obitos",
           "marker": {
            "color": "red",
            "pattern": {
             "shape": ""
            }
           },
           "name": "Total de Obitos",
           "orientation": "h",
           "showlegend": true,
           "text": {
            "bdata": "AAAAAJCg+0A=",
            "dtype": "f8"
           },
           "textposition": "auto",
           "type": "bar",
           "x": {
            "bdata": "CboBAA==",
            "dtype": "i4"
           },
           "xaxis": "x",
           "y": [
            "Total de Obitos"
           ],
           "yaxis": "y"
          }
         ],
         "name": "1910"
        },
        {
         "data": [
          {
           "hovertemplate": "Pessoas=%{y}<br>Anos=1920<br>Nascimento x Obitos=%{text}<extra></extra>",
           "ids": [
            "Total de Nados-vivos"
           ],
           "legendgroup": "Total de Nados-vivos",
           "marker": {
            "color": "blue",
            "pattern": {
             "shape": ""
            }
           },
           "name": "Total de Nados-vivos",
           "orientation": "h",
           "showlegend": true,
           "text": {
            "bdata": "AAAAAODECEE=",
            "dtype": "f8"
           },
           "textposition": "auto",
           "type": "bar",
           "x": {
            "bdata": "nBgDAA==",
            "dtype": "i4"
           },
           "xaxis": "x",
           "y": [
            "Total de Nados-vivos"
           ],
           "yaxis": "y"
          },
          {
           "hovertemplate": "Pessoas=%{y}<br>Anos=1920<br>Nascimento x Obitos=%{text}<extra></extra>",
           "ids": [
            "Total de Obitos"
           ],
           "legendgroup": "Total de Obitos",
           "marker": {
            "color": "red",
            "pattern": {
             "shape": ""
            }
           },
           "name": "Total de Obitos",
           "orientation": "h",
           "showlegend": true,
           "text": {
            "bdata": "AAAAAHBwAUE=",
            "dtype": "f8"
           },
           "textposition": "auto",
           "type": "bar",
           "x": {
            "bdata": "Di4CAA==",
            "dtype": "i4"
           },
           "xaxis": "x",
           "y": [
            "Total de Obitos"
           ],
           "yaxis": "y"
          }
         ],
         "name": "1920"
        },
        {
         "data": [
          {
           "hovertemplate": "Pessoas=%{y}<br>Anos=1930<br>Nascimento x Obitos=%{text}<extra></extra>",
           "ids": [
            "Total de Nados-vivos"
           ],
           "legendgroup": "Total de Nados-vivos",
           "marker": {
            "color": "blue",
            "pattern": {
             "shape": ""
            }
           },
           "name": "Total de Nados-vivos",
           "orientation": "h",
           "showlegend": true,
           "text": {
            "bdata": "AAAAAAi5CEE=",
            "dtype": "f8"
           },
           "textposition": "auto",
           "type": "bar",
           "x": {
            "bdata": "IRcDAA==",
            "dtype": "i4"
           },
           "xaxis": "x",
           "y": [
            "Total de Nados-vivos"
           ],
           "yaxis": "y"
          },
          {
           "hovertemplate": "Pessoas=%{y}<br>Anos=1930<br>Nascimento x Obitos=%{text}<extra></extra>",
           "ids": [
            "Total de Obitos"
           ],
           "legendgroup": "Total de Obitos",
           "marker": {
            "color": "red",
            "pattern": {
             "shape": ""
            }
           },
           "name": "Total de Obitos",
           "orientation": "h",
           "showlegend": true,
           "text": {
            "bdata": "AAAAAABo/EA=",
            "dtype": "f8"
           },
           "textposition": "auto",
           "type": "bar",
           "x": {
            "bdata": "gMYBAA==",
            "dtype": "i4"
           },
           "xaxis": "x",
           "y": [
            "Total de Obitos"
           ],
           "yaxis": "y"
          }
         ],
         "name": "1930"
        },
        {
         "data": [
          {
           "hovertemplate": "Pessoas=%{y}<br>Anos=1940<br>Nascimento x Obitos=%{text}<extra></extra>",
           "ids": [
            "Total de Nados-vivos"
           ],
           "legendgroup": "Total de Nados-vivos",
           "marker": {
            "color": "blue",
            "pattern": {
             "shape": ""
            }
           },
           "name": "Total de Nados-vivos",
           "orientation": "h",
           "showlegend": true,
           "text": {
            "bdata": "AAAAAKDvBkE=",
            "dtype": "f8"
           },
           "textposition": "auto",
           "type": "bar",
           "x": {
            "bdata": "9N0CAA==",
            "dtype": "i4"
           },
           "xaxis": "x",
           "y": [
            "Total de Nados-vivos"
           ],
           "yaxis": "y"
          },
          {
           "hovertemplate": "Pessoas=%{y}<br>Anos=1940<br>Nascimento x Obitos=%{text}<extra></extra>",
           "ids": [
            "Total de Obitos"
           ],
           "legendgroup": "Total de Obitos",
           "marker": {
            "color": "red",
            "pattern": {
             "shape": ""
            }
           },
           "name": "Total de Obitos",
           "orientation": "h",
           "showlegend": true,
           "text": {
            "bdata": "AAAAAGBq/UA=",
            "dtype": "f8"
           },
           "textposition": "auto",
           "type": "bar",
           "x": {
            "bdata": "ptYBAA==",
            "dtype": "i4"
           },
           "xaxis": "x",
           "y": [
            "Total de Obitos"
           ],
           "yaxis": "y"
          }
         ],
         "name": "1940"
        },
        {
         "data": [
          {
           "hovertemplate": "Pessoas=%{y}<br>Anos=1950<br>Nascimento x Obitos=%{text}<extra></extra>",
           "ids": [
            "Total de Nados-vivos"
           ],
           "legendgroup": "Total de Nados-vivos",
           "marker": {
            "color": "blue",
            "pattern": {
             "shape": ""
            }
           },
           "name": "Total de Nados-vivos",
           "orientation": "h",
           "showlegend": true,
           "text": {
            "bdata": "AAAAAFgLCUE=",
            "dtype": "f8"
           },
           "textposition": "auto",
           "type": "bar",
           "x": {
            "bdata": "ayEDAA==",
            "dtype": "i4"
           },
           "xaxis": "x",
           "y": [
            "Total de Nados-vivos"
           ],
           "yaxis": "y"
          },
          {
           "hovertemplate": "Pessoas=%{y}<br>Anos=1950<br>Nascimento x Obitos=%{text}<extra></extra>",
           "ids": [
            "Total de Obitos"
           ],
           "legendgroup": "Total de Obitos",
           "marker": {
            "color": "red",
            "pattern": {
             "shape": ""
            }
           },
           "name": "Total de Obitos",
           "orientation": "h",
           "showlegend": true,
           "text": {
            "bdata": "AAAAAOAY+UA=",
            "dtype": "f8"
           },
           "textposition": "auto",
           "type": "bar",
           "x": {
            "bdata": "jpEBAA==",
            "dtype": "i4"
           },
           "xaxis": "x",
           "y": [
            "Total de Obitos"
           ],
           "yaxis": "y"
          }
         ],
         "name": "1950"
        },
        {
         "data": [
          {
           "hovertemplate": "Pessoas=%{y}<br>Anos=1960<br>Nascimento x Obitos=%{text}<extra></extra>",
           "ids": [
            "Total de Nados-vivos"
           ],
           "legendgroup": "Total de Nados-vivos",
           "marker": {
            "color": "blue",
            "pattern": {
             "shape": ""
            }
           },
           "name": "Total de Nados-vivos",
           "orientation": "h",
           "showlegend": true,
           "text": {
            "bdata": "AAAAADgcCkE=",
            "dtype": "f8"
           },
           "textposition": "auto",
           "type": "bar",
           "x": {
            "bdata": "h0MDAA==",
            "dtype": "i4"
           },
           "xaxis": "x",
           "y": [
            "Total de Nados-vivos"
           ],
           "yaxis": "y"
          },
          {
           "hovertemplate": "Pessoas=%{y}<br>Anos=1960<br>Nascimento x Obitos=%{text}<extra></extra>",
           "ids": [
            "Total de Obitos"
           ],
           "legendgroup": "Total de Obitos",
           "marker": {
            "color": "red",
            "pattern": {
             "shape": ""
            }
           },
           "name": "Total de Obitos",
           "orientation": "h",
           "showlegend": true,
           "text": {
            "bdata": "AAAAADAq90A=",
            "dtype": "f8"
           },
           "textposition": "auto",
           "type": "bar",
           "x": {
            "bdata": "o3IBAA==",
            "dtype": "i4"
           },
           "xaxis": "x",
           "y": [
            "Total de Obitos"
           ],
           "yaxis": "y"
          }
         ],
         "name": "1960"
        },
        {
         "data": [
          {
           "hovertemplate": "Pessoas=%{y}<br>Anos=1970<br>Nascimento x Obitos=%{text}<extra></extra>",
           "ids": [
            "Total de Nados-vivos"
           ],
           "legendgroup": "Total de Nados-vivos",
           "marker": {
            "color": "blue",
            "pattern": {
             "shape": ""
            }
           },
           "name": "Total de Nados-vivos",
           "orientation": "h",
           "showlegend": true,
           "text": {
            "bdata": "AAAAAJAOBkE=",
            "dtype": "f8"
           },
           "textposition": "auto",
           "type": "bar",
           "x": {
            "bdata": "0sECAA==",
            "dtype": "i4"
           },
           "xaxis": "x",
           "y": [
            "Total de Nados-vivos"
           ],
           "yaxis": "y"
          },
          {
           "hovertemplate": "Pessoas=%{y}<br>Anos=1970<br>Nascimento x Obitos=%{text}<extra></extra>",
           "ids": [
            "Total de Obitos"
           ],
           "legendgroup": "Total de Obitos",
           "marker": {
            "color": "red",
            "pattern": {
             "shape": ""
            }
           },
           "name": "Total de Obitos",
           "orientation": "h",
           "showlegend": true,
           "text": {
            "bdata": "AAAAAGCr9kA=",
            "dtype": "f8"
           },
           "textposition": "auto",
           "type": "bar",
           "x": {
            "bdata": "tmoBAA==",
            "dtype": "i4"
           },
           "xaxis": "x",
           "y": [
            "Total de Obitos"
           ],
           "yaxis": "y"
          }
         ],
         "name": "1970"
        },
        {
         "data": [
          {
           "hovertemplate": "Pessoas=%{y}<br>Anos=1980<br>Nascimento x Obitos=%{text}<extra></extra>",
           "ids": [
            "Total de Nados-vivos"
           ],
           "legendgroup": "Total de Nados-vivos",
           "marker": {
            "color": "blue",
            "pattern": {
             "shape": ""
            }
           },
           "name": "Total de Nados-vivos",
           "orientation": "h",
           "showlegend": true,
           "text": {
            "bdata": "AAAAAChTA0E=",
            "dtype": "f8"
           },
           "textposition": "auto",
           "type": "bar",
           "x": {
            "bdata": "ZWoCAA==",
            "dtype": "i4"
           },
           "xaxis": "x",
           "y": [
            "Total de Nados-vivos"
           ],
           "yaxis": "y"
          },
          {
           "hovertemplate": "Pessoas=%{y}<br>Anos=1980<br>Nascimento x Obitos=%{text}<extra></extra>",
           "ids": [
            "Total de Obitos"
           ],
           "legendgroup": "Total de Obitos",
           "marker": {
            "color": "red",
            "pattern": {
             "shape": ""
            }
           },
           "name": "Total de Obitos",
           "orientation": "h",
           "showlegend": true,
           "text": {
            "bdata": "AAAAAKAk90A=",
            "dtype": "f8"
           },
           "textposition": "auto",
           "type": "bar",
           "x": {
            "bdata": "SnIBAA==",
            "dtype": "i4"
           },
           "xaxis": "x",
           "y": [
            "Total de Obitos"
           ],
           "yaxis": "y"
          }
         ],
         "name": "1980"
        },
        {
         "data": [
          {
           "hovertemplate": "Pessoas=%{y}<br>Anos=1981<br>Nascimento x Obitos=%{text}<extra></extra>",
           "ids": [
            "Total de Nados-vivos"
           ],
           "legendgroup": "Total de Nados-vivos",
           "marker": {
            "color": "blue",
            "pattern": {
             "shape": ""
            }
           },
           "name": "Total de Nados-vivos",
           "orientation": "h",
           "showlegend": true,
           "text": {
            "bdata": "AAAAADiQAkE=",
            "dtype": "f8"
           },
           "textposition": "auto",
           "type": "bar",
           "x": {
            "bdata": "B1ICAA==",
            "dtype": "i4"
           },
           "xaxis": "x",
           "y": [
            "Total de Nados-vivos"
           ],
           "yaxis": "y"
          },
          {
           "hovertemplate": "Pessoas=%{y}<br>Anos=1981<br>Nascimento x Obitos=%{text}<extra></extra>",
           "ids": [
            "Total de Obitos"
           ],
           "legendgroup": "Total de Obitos",
           "marker": {
            "color": "red",
            "pattern": {
             "shape": ""
            }
           },
           "name": "Total de Obitos",
           "orientation": "h",
           "showlegend": true,
           "text": {
            "bdata": "AAAAAABf90A=",
            "dtype": "f8"
           },
           "textposition": "auto",
           "type": "bar",
           "x": {
            "bdata": "8HUBAA==",
            "dtype": "i4"
           },
           "xaxis": "x",
           "y": [
            "Total de Obitos"
           ],
           "yaxis": "y"
          }
         ],
         "name": "1981"
        },
        {
         "data": [
          {
           "hovertemplate": "Pessoas=%{y}<br>Anos=1982<br>Nascimento x Obitos=%{text}<extra></extra>",
           "ids": [
            "Total de Nados-vivos"
           ],
           "legendgroup": "Total de Nados-vivos",
           "marker": {
            "color": "blue",
            "pattern": {
             "shape": ""
            }
           },
           "name": "Total de Nados-vivos",
           "orientation": "h",
           "showlegend": true,
           "text": {
            "bdata": "AAAAANBuAkE=",
            "dtype": "f8"
           },
           "textposition": "auto",
           "type": "bar",
           "x": {
            "bdata": "2k0CAA==",
            "dtype": "i4"
           },
           "xaxis": "x",
           "y": [
            "Total de Nados-vivos"
           ],
           "yaxis": "y"
          },
          {
           "hovertemplate": "Pessoas=%{y}<br>Anos=1982<br>Nascimento x Obitos=%{text}<extra></extra>",
           "ids": [
            "Total de Obitos"
           ],
           "legendgroup": "Total de Obitos",
           "marker": {
            "color": "red",
            "pattern": {
             "shape": ""
            }
           },
           "name": "Total de Obitos",
           "orientation": "h",
           "showlegend": true,
           "text": {
            "bdata": "AAAAALCN9kA=",
            "dtype": "f8"
           },
           "textposition": "auto",
           "type": "bar",
           "x": {
            "bdata": "22gBAA==",
            "dtype": "i4"
           },
           "xaxis": "x",
           "y": [
            "Total de Obitos"
           ],
           "yaxis": "y"
          }
         ],
         "name": "1982"
        },
        {
         "data": [
          {
           "hovertemplate": "Pessoas=%{y}<br>Anos=1983<br>Nascimento x Obitos=%{text}<extra></extra>",
           "ids": [
            "Total de Nados-vivos"
           ],
           "legendgroup": "Total de Nados-vivos",
           "marker": {
            "color": "blue",
            "pattern": {
             "shape": ""
            }
           },
           "name": "Total de Nados-vivos",
           "orientation": "h",
           "showlegend": true,
           "text": {
            "bdata": "AAAAAECdAUE=",
            "dtype": "f8"
           },
           "textposition": "auto",
           "type": "bar",
           "x": {
            "bdata": "qDMCAA==",
            "dtype": "i4"
           },
           "xaxis": "x",
           "y": [
            "Total de Nados-vivos"
           ],
           "yaxis": "y"
          },
          {
           "hovertemplate": "Pessoas=%{y}<br>Anos=1983<br>Nascimento x Obitos=%{text}<extra></extra>",
           "ids": [
            "Total de Obitos"
           ],
           "legendgroup": "Total de Obitos",
           "marker": {
            "color": "red",
            "pattern": {
             "shape": ""
            }
           },
           "name": "Total de Obitos",
           "orientation": "h",
           "showlegend": true,
           "text": {
            "bdata": "AAAAADB790A=",
            "dtype": "f8"
           },
           "textposition": "auto",
           "type": "bar",
           "x": {
            "bdata": "s3cBAA==",
            "dtype": "i4"
           },
           "xaxis": "x",
           "y": [
            "Total de Obitos"
           ],
           "yaxis": "y"
          }
         ],
         "name": "1983"
        },
        {
         "data": [
          {
           "hovertemplate": "Pessoas=%{y}<br>Anos=1984<br>Nascimento x Obitos=%{text}<extra></extra>",
           "ids": [
            "Total de Nados-vivos"
           ],
           "legendgroup": "Total de Nados-vivos",
           "marker": {
            "color": "blue",
            "pattern": {
             "shape": ""
            }
           },
           "name": "Total de Nados-vivos",
           "orientation": "h",
           "showlegend": true,
           "text": {
            "bdata": "AAAAAPhtAUE=",
            "dtype": "f8"
           },
           "textposition": "auto",
           "type": "bar",
           "x": {
            "bdata": "vy0CAA==",
            "dtype": "i4"
           },
           "xaxis": "x",
           "y": [
            "Total de Nados-vivos"
           ],
           "yaxis": "y"
          },
          {
           "hovertemplate": "Pessoas=%{y}<br>Anos=1984<br>Nascimento x Obitos=%{text}<extra></extra>",
           "ids": [
            "Total de Obitos"
           ],
           "legendgroup": "Total de Obitos",
           "marker": {
            "color": "red",
            "pattern": {
             "shape": ""
            }
           },
           "name": "Total de Obitos",
           "orientation": "h",
           "showlegend": true,
           "text": {
            "bdata": "AAAAAPCs90A=",
            "dtype": "f8"
           },
           "textposition": "auto",
           "type": "bar",
           "x": {
            "bdata": "z3oBAA==",
            "dtype": "i4"
           },
           "xaxis": "x",
           "y": [
            "Total de Obitos"
           ],
           "yaxis": "y"
          }
         ],
         "name": "1984"
        },
        {
         "data": [
          {
           "hovertemplate": "Pessoas=%{y}<br>Anos=1985<br>Nascimento x Obitos=%{text}<extra></extra>",
           "ids": [
            "Total de Nados-vivos"
           ],
           "legendgroup": "Total de Nados-vivos",
           "marker": {
            "color": "blue",
            "pattern": {
             "shape": ""
            }
           },
           "name": "Total de Nados-vivos",
           "orientation": "h",
           "showlegend": true,
           "text": {
            "bdata": "AAAAACDZ/0A=",
            "dtype": "f8"
           },
           "textposition": "auto",
           "type": "bar",
           "x": {
            "bdata": "kv0BAA==",
            "dtype": "i4"
           },
           "xaxis": "x",
           "y": [
            "Total de Nados-vivos"
           ],
           "yaxis": "y"
          },
          {
           "hovertemplate": "Pessoas=%{y}<br>Anos=1985<br>Nascimento x Obitos=%{text}<extra></extra>",
           "ids": [
            "Total de Obitos"
           ],
           "legendgroup": "Total de Obitos",
           "marker": {
            "color": "red",
            "pattern": {
             "shape": ""
            }
           },
           "name": "Total de Obitos",
           "orientation": "h",
           "showlegend": true,
           "text": {
            "bdata": "AAAAANCz90A=",
            "dtype": "f8"
           },
           "textposition": "auto",
           "type": "bar",
           "x": {
            "bdata": "PXsBAA==",
            "dtype": "i4"
           },
           "xaxis": "x",
           "y": [
            "Total de Obitos"
           ],
           "yaxis": "y"
          }
         ],
         "name": "1985"
        },
        {
         "data": [
          {
           "hovertemplate": "Pessoas=%{y}<br>Anos=1986<br>Nascimento x Obitos=%{text}<extra></extra>",
           "ids": [
            "Total de Nados-vivos"
           ],
           "legendgroup": "Total de Nados-vivos",
           "marker": {
            "color": "blue",
            "pattern": {
             "shape": ""
            }
           },
           "name": "Total de Nados-vivos",
           "orientation": "h",
           "showlegend": true,
           "text": {
            "bdata": "AAAAALDv/kA=",
            "dtype": "f8"
           },
           "textposition": "auto",
           "type": "bar",
           "x": {
            "bdata": "++4BAA==",
            "dtype": "i4"
           },
           "xaxis": "x",
           "y": [
            "Total de Nados-vivos"
           ],
           "yaxis": "y"
          },
          {
           "hovertemplate": "Pessoas=%{y}<br>Anos=1986<br>Nascimento x Obitos=%{text}<extra></extra>",
           "ids": [
            "Total de Obitos"
           ],
           "legendgroup": "Total de Obitos",
           "marker": {
            "color": "red",
            "pattern": {
             "shape": ""
            }
           },
           "name": "Total de Obitos",
           "orientation": "h",
           "showlegend": true,
           "text": {
            "bdata": "AAAAABBS90A=",
            "dtype": "f8"
           },
           "textposition": "auto",
           "type": "bar",
           "x": {
            "bdata": "IXUBAA==",
            "dtype": "i4"
           },
           "xaxis": "x",
           "y": [
            "Total de Obitos"
           ],
           "yaxis": "y"
          }
         ],
         "name": "1986"
        },
        {
         "data": [
          {
           "hovertemplate": "Pessoas=%{y}<br>Anos=1987<br>Nascimento x Obitos=%{text}<extra></extra>",
           "ids": [
            "Total de Nados-vivos"
           ],
           "legendgroup": "Total de Nados-vivos",
           "marker": {
            "color": "blue",
            "pattern": {
             "shape": ""
            }
           },
           "name": "Total de Nados-vivos",
           "orientation": "h",
           "showlegend": true,
           "text": {
            "bdata": "AAAAALAS/kA=",
            "dtype": "f8"
           },
           "textposition": "auto",
           "type": "bar",
           "x": {
            "bdata": "K+EBAA==",
            "dtype": "i4"
           },
           "xaxis": "x",
           "y": [
            "Total de Nados-vivos"
           ],
           "yaxis": "y"
          },
          {
           "hovertemplate": "Pessoas=%{y}<br>Anos=1987<br>Nascimento x Obitos=%{text}<extra></extra>",
           "ids": [
            "Total de Obitos"
           ],
           "legendgroup": "Total de Obitos",
           "marker": {
            "color": "red",
            "pattern": {
             "shape": ""
            }
           },
           "name": "Total de Obitos",
           "orientation": "h",
           "showlegend": true,
           "text": {
            "bdata": "AAAAAOA390A=",
            "dtype": "f8"
           },
           "textposition": "auto",
           "type": "bar",
           "x": {
            "bdata": "fnMBAA==",
            "dtype": "i4"
           },
           "xaxis": "x",
           "y": [
            "Total de Obitos"
           ],
           "yaxis": "y"
          }
         ],
         "name": "1987"
        },
        {
         "data": [
          {
           "hovertemplate": "Pessoas=%{y}<br>Anos=1988<br>Nascimento x Obitos=%{text}<extra></extra>",
           "ids": [
            "Total de Nados-vivos"
           ],
           "legendgroup": "Total de Nados-vivos",
           "marker": {
            "color": "blue",
            "pattern": {
             "shape": ""
            }
           },
           "name": "Total de Nados-vivos",
           "orientation": "h",
           "showlegend": true,
           "text": {
            "bdata": "AAAAANDO/UA=",
            "dtype": "f8"
           },
           "textposition": "auto",
           "type": "bar",
           "x": {
            "bdata": "7dwBAA==",
            "dtype": "i4"
           },
           "xaxis": "x",
           "y": [
            "Total de Nados-vivos"
           ],
           "yaxis": "y"
          },
          {
           "hovertemplate": "Pessoas=%{y}<br>Anos=1988<br>Nascimento x Obitos=%{text}<extra></extra>",
           "ids": [
            "Total de Obitos"
           ],
           "legendgroup": "Total de Obitos",
           "marker": {
            "color": "red",
            "pattern": {
             "shape": ""
            }
           },
           "name": "Total de Obitos",
           "orientation": "h",
           "showlegend": true,
           "text": {
            "bdata": "AAAAAEDj90A=",
            "dtype": "f8"
           },
           "textposition": "auto",
           "type": "bar",
           "x": {
            "bdata": "NH4BAA==",
            "dtype": "i4"
           },
           "xaxis": "x",
           "y": [
            "Total de Obitos"
           ],
           "yaxis": "y"
          }
         ],
         "name": "1988"
        },
        {
         "data": [
          {
           "hovertemplate": "Pessoas=%{y}<br>Anos=1989<br>Nascimento x Obitos=%{text}<extra></extra>",
           "ids": [
            "Total de Nados-vivos"
           ],
           "legendgroup": "Total de Nados-vivos",
           "marker": {
            "color": "blue",
            "pattern": {
             "shape": ""
            }
           },
           "name": "Total de Nados-vivos",
           "orientation": "h",
           "showlegend": true,
           "text": {
            "bdata": "AAAAADDt/EA=",
            "dtype": "f8"
           },
           "textposition": "auto",
           "type": "bar",
           "x": {
            "bdata": "084BAA==",
            "dtype": "i4"
           },
           "xaxis": "x",
           "y": [
            "Total de Nados-vivos"
           ],
           "yaxis": "y"
          },
          {
           "hovertemplate": "Pessoas=%{y}<br>Anos=1989<br>Nascimento x Obitos=%{text}<extra></extra>",
           "ids": [
            "Total de Obitos"
           ],
           "legendgroup": "Total de Obitos",
           "marker": {
            "color": "red",
            "pattern": {
             "shape": ""
            }
           },
           "name": "Total de Obitos",
           "orientation": "h",
           "showlegend": true,
           "text": {
            "bdata": "AAAAAPBf90A=",
            "dtype": "f8"
           },
           "textposition": "auto",
           "type": "bar",
           "x": {
            "bdata": "/3UBAA==",
            "dtype": "i4"
           },
           "xaxis": "x",
           "y": [
            "Total de Obitos"
           ],
           "yaxis": "y"
          }
         ],
         "name": "1989"
        },
        {
         "data": [
          {
           "hovertemplate": "Pessoas=%{y}<br>Anos=1990<br>Nascimento x Obitos=%{text}<extra></extra>",
           "ids": [
            "Total de Nados-vivos"
           ],
           "legendgroup": "Total de Nados-vivos",
           "marker": {
            "color": "blue",
            "pattern": {
             "shape": ""
            }
           },
           "name": "Total de Nados-vivos",
           "orientation": "h",
           "showlegend": true,
           "text": {
            "bdata": "AAAAABBm/EA=",
            "dtype": "f8"
           },
           "textposition": "auto",
           "type": "bar",
           "x": {
            "bdata": "YcYBAA==",
            "dtype": "i4"
           },
           "xaxis": "x",
           "y": [
            "Total de Nados-vivos"
           ],
           "yaxis": "y"
          },
          {
           "hovertemplate": "Pessoas=%{y}<br>Anos=1990<br>Nascimento x Obitos=%{text}<extra></extra>",
           "ids": [
            "Total de Obitos"
           ],
           "legendgroup": "Total de Obitos",
           "marker": {
            "color": "red",
            "pattern": {
             "shape": ""
            }
           },
           "name": "Total de Obitos",
           "orientation": "h",
           "showlegend": true,
           "text": {
            "bdata": "AAAAAAAX+UA=",
            "dtype": "f8"
           },
           "textposition": "auto",
           "type": "bar",
           "x": {
            "bdata": "cJEBAA==",
            "dtype": "i4"
           },
           "xaxis": "x",
           "y": [
            "Total de Obitos"
           ],
           "yaxis": "y"
          }
         ],
         "name": "1990"
        },
        {
         "data": [
          {
           "hovertemplate": "Pessoas=%{y}<br>Anos=1991<br>Nascimento x Obitos=%{text}<extra></extra>",
           "ids": [
            "Total de Nados-vivos"
           ],
           "legendgroup": "Total de Nados-vivos",
           "marker": {
            "color": "blue",
            "pattern": {
             "shape": ""
            }
           },
           "name": "Total de Nados-vivos",
           "orientation": "h",
           "showlegend": true,
           "text": {
            "bdata": "AAAAALBk/EA=",
            "dtype": "f8"
           },
           "textposition": "auto",
           "type": "bar",
           "x": {
            "bdata": "S8YBAA==",
            "dtype": "i4"
           },
           "xaxis": "x",
           "y": [
            "Total de Nados-vivos"
           ],
           "yaxis": "y"
          },
          {
           "hovertemplate": "Pessoas=%{y}<br>Anos=1991<br>Nascimento x Obitos=%{text}<extra></extra>",
           "ids": [
            "Total de Obitos"
           ],
           "legendgroup": "Total de Obitos",
           "marker": {
            "color": "red",
            "pattern": {
             "shape": ""
            }
           },
           "name": "Total de Obitos",
           "orientation": "h",
           "showlegend": true,
           "text": {
            "bdata": "AAAAAKBc+UA=",
            "dtype": "f8"
           },
           "textposition": "auto",
           "type": "bar",
           "x": {
            "bdata": "ypUBAA==",
            "dtype": "i4"
           },
           "xaxis": "x",
           "y": [
            "Total de Obitos"
           ],
           "yaxis": "y"
          }
         ],
         "name": "1991"
        },
        {
         "data": [
          {
           "hovertemplate": "Pessoas=%{y}<br>Anos=1992<br>Nascimento x Obitos=%{text}<extra></extra>",
           "ids": [
            "Total de Nados-vivos"
           ],
           "legendgroup": "Total de Nados-vivos",
           "marker": {
            "color": "blue",
            "pattern": {
             "shape": ""
            }
           },
           "name": "Total de Nados-vivos",
           "orientation": "h",
           "showlegend": true,
           "text": {
            "bdata": "AAAAAMAO/EA=",
            "dtype": "f8"
           },
           "textposition": "auto",
           "type": "bar",
           "x": {
            "bdata": "7MABAA==",
            "dtype": "i4"
           },
           "xaxis": "x",
           "y": [
            "Total de Nados-vivos"
           ],
           "yaxis": "y"
          },
          {
           "hovertemplate": "Pessoas=%{y}<br>Anos=1992<br>Nascimento x Obitos=%{text}<extra></extra>",
           "ids": [
            "Total de Obitos"
           ],
           "legendgroup": "Total de Obitos",
           "marker": {
            "color": "red",
            "pattern": {
             "shape": ""
            }
           },
           "name": "Total de Obitos",
           "orientation": "h",
           "showlegend": true,
           "text": {
            "bdata": "AAAAAOCR+EA=",
            "dtype": "f8"
           },
           "textposition": "auto",
           "type": "bar",
           "x": {
            "bdata": "HokBAA==",
            "dtype": "i4"
           },
           "xaxis": "x",
           "y": [
            "Total de Obitos"
           ],
           "yaxis": "y"
          }
         ],
         "name": "1992"
        },
        {
         "data": [
          {
           "hovertemplate": "Pessoas=%{y}<br>Anos=1993<br>Nascimento x Obitos=%{text}<extra></extra>",
           "ids": [
            "Total de Nados-vivos"
           ],
           "legendgroup": "Total de Nados-vivos",
           "marker": {
            "color": "blue",
            "pattern": {
             "shape": ""
            }
           },
           "name": "Total de Nados-vivos",
           "orientation": "h",
           "showlegend": true,
           "text": {
            "bdata": "AAAAAIDS+0A=",
            "dtype": "f8"
           },
           "textposition": "auto",
           "type": "bar",
           "x": {
            "bdata": "KL0BAA==",
            "dtype": "i4"
           },
           "xaxis": "x",
           "y": [
            "Total de Nados-vivos"
           ],
           "yaxis": "y"
          },
          {
           "hovertemplate": "Pessoas=%{y}<br>Anos=1993<br>Nascimento x Obitos=%{text}<extra></extra>",
           "ids": [
            "Total de Obitos"
           ],
           "legendgroup": "Total de Obitos",
           "marker": {
            "color": "red",
            "pattern": {
             "shape": ""
            }
           },
           "name": "Total de Obitos",
           "orientation": "h",
           "showlegend": true,
           "text": {
            "bdata": "AAAAAODd+UA=",
            "dtype": "f8"
           },
           "textposition": "auto",
           "type": "bar",
           "x": {
            "bdata": "3p0BAA==",
            "dtype": "i4"
           },
           "xaxis": "x",
           "y": [
            "Total de Obitos"
           ],
           "yaxis": "y"
          }
         ],
         "name": "1993"
        },
        {
         "data": [
          {
           "hovertemplate": "Pessoas=%{y}<br>Anos=1994<br>Nascimento x Obitos=%{text}<extra></extra>",
           "ids": [
            "Total de Nados-vivos"
           ],
           "legendgroup": "Total de Nados-vivos",
           "marker": {
            "color": "blue",
            "pattern": {
             "shape": ""
            }
           },
           "name": "Total de Nados-vivos",
           "orientation": "h",
           "showlegend": true,
           "text": {
            "bdata": "AAAAALCq+kA=",
            "dtype": "f8"
           },
           "textposition": "auto",
           "type": "bar",
           "x": {
            "bdata": "q6oBAA==",
            "dtype": "i4"
           },
           "xaxis": "x",
           "y": [
            "Total de Nados-vivos"
           ],
           "yaxis": "y"
          },
          {
           "hovertemplate": "Pessoas=%{y}<br>Anos=1994<br>Nascimento x Obitos=%{text}<extra></extra>",
           "ids": [
            "Total de Obitos"
           ],
           "legendgroup": "Total de Obitos",
           "marker": {
            "color": "red",
            "pattern": {
             "shape": ""
            }
           },
           "name": "Total de Obitos",
           "orientation": "h",
           "showlegend": true,
           "text": {
            "bdata": "AAAAAAA6+EA=",
            "dtype": "f8"
           },
           "textposition": "auto",
           "type": "bar",
           "x": {
            "bdata": "oIMBAA==",
            "dtype": "i4"
           },
           "xaxis": "x",
           "y": [
            "Total de Obitos"
           ],
           "yaxis": "y"
          }
         ],
         "name": "1994"
        },
        {
         "data": [
          {
           "hovertemplate": "Pessoas=%{y}<br>Anos=1995<br>Nascimento x Obitos=%{text}<extra></extra>",
           "ids": [
            "Total de Nados-vivos"
           ],
           "legendgroup": "Total de Nados-vivos",
           "marker": {
            "color": "blue",
            "pattern": {
             "shape": ""
            }
           },
           "name": "Total de Nados-vivos",
           "orientation": "h",
           "showlegend": true,
           "text": {
            "bdata": "AAAAAJAl+kA=",
            "dtype": "f8"
           },
           "textposition": "auto",
           "type": "bar",
           "x": {
            "bdata": "WaIBAA==",
            "dtype": "i4"
           },
           "xaxis": "x",
           "y": [
            "Total de Nados-vivos"
           ],
           "yaxis": "y"
          },
          {
           "hovertemplate": "Pessoas=%{y}<br>Anos=1995<br>Nascimento x Obitos=%{text}<extra></extra>",
           "ids": [
            "Total de Obitos"
           ],
           "legendgroup": "Total de Obitos",
           "marker": {
            "color": "red",
            "pattern": {
             "shape": ""
            }
           },
           "name": "Total de Obitos",
           "orientation": "h",
           "showlegend": true,
           "text": {
            "bdata": "AAAAADBD+UA=",
            "dtype": "f8"
           },
           "textposition": "auto",
           "type": "bar",
           "x": {
            "bdata": "M5QBAA==",
            "dtype": "i4"
           },
           "xaxis": "x",
           "y": [
            "Total de Obitos"
           ],
           "yaxis": "y"
          }
         ],
         "name": "1995"
        },
        {
         "data": [
          {
           "hovertemplate": "Pessoas=%{y}<br>Anos=1996<br>Nascimento x Obitos=%{text}<extra></extra>",
           "ids": [
            "Total de Nados-vivos"
           ],
           "legendgroup": "Total de Nados-vivos",
           "marker": {
            "color": "blue",
            "pattern": {
             "shape": ""
            }
           },
           "name": "Total de Nados-vivos",
           "orientation": "h",
           "showlegend": true,
           "text": {
            "bdata": "AAAAAFDr+kA=",
            "dtype": "f8"
           },
           "textposition": "auto",
           "type": "bar",
           "x": {
            "bdata": "ta4BAA==",
            "dtype": "i4"
           },
           "xaxis": "x",
           "y": [
            "Total de Nados-vivos"
           ],
           "yaxis": "y"
          },
          {
           "hovertemplate": "Pessoas=%{y}<br>Anos=1996<br>Nascimento x Obitos=%{text}<extra></extra>",
           "ids": [
            "Total de Obitos"
           ],
           "legendgroup": "Total de Obitos",
           "marker": {
            "color": "red",
            "pattern": {
             "shape": ""
            }
           },
           "name": "Total de Obitos",
           "orientation": "h",
           "showlegend": true,
           "text": {
            "bdata": "AAAAABAY+kA=",
            "dtype": "f8"
           },
           "textposition": "auto",
           "type": "bar",
           "x": {
            "bdata": "gaEBAA==",
            "dtype": "i4"
           },
           "xaxis": "x",
           "y": [
            "Total de Obitos"
           ],
           "yaxis": "y"
          }
         ],
         "name": "1996"
        },
        {
         "data": [
          {
           "hovertemplate": "Pessoas=%{y}<br>Anos=1997<br>Nascimento x Obitos=%{text}<extra></extra>",
           "ids": [
            "Total de Nados-vivos"
           ],
           "legendgroup": "Total de Nados-vivos",
           "marker": {
            "color": "blue",
            "pattern": {
             "shape": ""
            }
           },
           "name": "Total de Nados-vivos",
           "orientation": "h",
           "showlegend": true,
           "text": {
            "bdata": "AAAAAFCS+0A=",
            "dtype": "f8"
           },
           "textposition": "auto",
           "type": "bar",
           "x": {
            "bdata": "JbkBAA==",
            "dtype": "i4"
           },
           "xaxis": "x",
           "y": [
            "Total de Nados-vivos"
           ],
           "yaxis": "y"
          },
          {
           "hovertemplate": "Pessoas=%{y}<br>Anos=1997<br>Nascimento x Obitos=%{text}<extra></extra>",
           "ids": [
            "Total de Obitos"
           ],
           "legendgroup": "Total de Obitos",
           "marker": {
            "color": "red",
            "pattern": {
             "shape": ""
            }
           },
           "name": "Total de Obitos",
           "orientation": "h",
           "showlegend": true,
           "text": {
            "bdata": "AAAAAKCU+UA=",
            "dtype": "f8"
           },
           "textposition": "auto",
           "type": "bar",
           "x": {
            "bdata": "SpkBAA==",
            "dtype": "i4"
           },
           "xaxis": "x",
           "y": [
            "Total de Obitos"
           ],
           "yaxis": "y"
          }
         ],
         "name": "1997"
        },
        {
         "data": [
          {
           "hovertemplate": "Pessoas=%{y}<br>Anos=1998<br>Nascimento x Obitos=%{text}<extra></extra>",
           "ids": [
            "Total de Nados-vivos"
           ],
           "legendgroup": "Total de Nados-vivos",
           "marker": {
            "color": "blue",
            "pattern": {
             "shape": ""
            }
           },
           "name": "Total de Nados-vivos",
           "orientation": "h",
           "showlegend": true,
           "text": {
            "bdata": "AAAAAICu+0A=",
            "dtype": "f8"
           },
           "textposition": "auto",
           "type": "bar",
           "x": {
            "bdata": "6LoBAA==",
            "dtype": "i4"
           },
           "xaxis": "x",
           "y": [
            "Total de Nados-vivos"
           ],
           "yaxis": "y"
          },
          {
           "hovertemplate": "Pessoas=%{y}<br>Anos=1998<br>Nascimento x Obitos=%{text}<extra></extra>",
           "ids": [
            "Total de Obitos"
           ],
           "legendgroup": "Total de Obitos",
           "marker": {
            "color": "red",
            "pattern": {
             "shape": ""
            }
           },
           "name": "Total de Obitos",
           "orientation": "h",
           "showlegend": true,
           "text": {
            "bdata": "AAAAAGDt+UA=",
            "dtype": "f8"
           },
           "textposition": "auto",
           "type": "bar",
           "x": {
            "bdata": "1p4BAA==",
            "dtype": "i4"
           },
           "xaxis": "x",
           "y": [
            "Total de Obitos"
           ],
           "yaxis": "y"
          }
         ],
         "name": "1998"
        },
        {
         "data": [
          {
           "hovertemplate": "Pessoas=%{y}<br>Anos=1999<br>Nascimento x Obitos=%{text}<extra></extra>",
           "ids": [
            "Total de Nados-vivos"
           ],
           "legendgroup": "Total de Nados-vivos",
           "marker": {
            "color": "blue",
            "pattern": {
             "shape": ""
            }
           },
           "name": "Total de Nados-vivos",
           "orientation": "h",
           "showlegend": true,
           "text": {
            "bdata": "AAAAACBS/EA=",
            "dtype": "f8"
           },
           "textposition": "auto",
           "type": "bar",
           "x": {
            "bdata": "IsUBAA==",
            "dtype": "i4"
           },
           "xaxis": "x",
           "y": [
            "Total de Nados-vivos"
           ],
           "yaxis": "y"
          },
          {
           "hovertemplate": "Pessoas=%{y}<br>Anos=1999<br>Nascimento x Obitos=%{text}<extra></extra>",
           "ids": [
            "Total de Obitos"
           ],
           "legendgroup": "Total de Obitos",
           "marker": {
            "color": "red",
            "pattern": {
             "shape": ""
            }
           },
           "name": "Total de Obitos",
           "orientation": "h",
           "showlegend": true,
           "text": {
            "bdata": "AAAAAPBV+kA=",
            "dtype": "f8"
           },
           "textposition": "auto",
           "type": "bar",
           "x": {
            "bdata": "X6UBAA==",
            "dtype": "i4"
           },
           "xaxis": "x",
           "y": [
            "Total de Obitos"
           ],
           "yaxis": "y"
          }
         ],
         "name": "1999"
        },
        {
         "data": [
          {
           "hovertemplate": "Pessoas=%{y}<br>Anos=2000<br>Nascimento x Obitos=%{text}<extra></extra>",
           "ids": [
            "Total de Nados-vivos"
           ],
           "legendgroup": "Total de Nados-vivos",
           "marker": {
            "color": "blue",
            "pattern": {
             "shape": ""
            }
           },
           "name": "Total de Nados-vivos",
           "orientation": "h",
           "showlegend": true,
           "text": {
            "bdata": "AAAAAIBM/UA=",
            "dtype": "f8"
           },
           "textposition": "auto",
           "type": "bar",
           "x": {
            "bdata": "yNQBAA==",
            "dtype": "i4"
           },
           "xaxis": "x",
           "y": [
            "Total de Nados-vivos"
           ],
           "yaxis": "y"
          },
          {
           "hovertemplate": "Pessoas=%{y}<br>Anos=2000<br>Nascimento x Obitos=%{text}<extra></extra>",
           "ids": [
            "Total de Obitos"
           ],
           "legendgroup": "Total de Obitos",
           "marker": {
            "color": "red",
            "pattern": {
             "shape": ""
            }
           },
           "name": "Total de Obitos",
           "orientation": "h",
           "showlegend": true,
           "text": {
            "bdata": "AAAAAEC5+UA=",
            "dtype": "f8"
           },
           "textposition": "auto",
           "type": "bar",
           "x": {
            "bdata": "lJsBAA==",
            "dtype": "i4"
           },
           "xaxis": "x",
           "y": [
            "Total de Obitos"
           ],
           "yaxis": "y"
          }
         ],
         "name": "2000"
        },
        {
         "data": [
          {
           "hovertemplate": "Pessoas=%{y}<br>Anos=2001<br>Nascimento x Obitos=%{text}<extra></extra>",
           "ids": [
            "Total de Nados-vivos"
           ],
           "legendgroup": "Total de Nados-vivos",
           "marker": {
            "color": "blue",
            "pattern": {
             "shape": ""
            }
           },
           "name": "Total de Nados-vivos",
           "orientation": "h",
           "showlegend": true,
           "text": {
            "bdata": "AAAAAGCI+0A=",
            "dtype": "f8"
           },
           "textposition": "auto",
           "type": "bar",
           "x": {
            "bdata": "hrgBAA==",
            "dtype": "i4"
           },
           "xaxis": "x",
           "y": [
            "Total de Nados-vivos"
           ],
           "yaxis": "y"
          },
          {
           "hovertemplate": "Pessoas=%{y}<br>Anos=2001<br>Nascimento x Obitos=%{text}<extra></extra>",
           "ids": [
            "Total de Obitos"
           ],
           "legendgroup": "Total de Obitos",
           "marker": {
            "color": "red",
            "pattern": {
             "shape": ""
            }
           },
           "name": "Total de Obitos",
           "orientation": "h",
           "showlegend": true,
           "text": {
            "bdata": "AAAAAECo+UA=",
            "dtype": "f8"
           },
           "textposition": "auto",
           "type": "bar",
           "x": {
            "bdata": "hJoBAA==",
            "dtype": "i4"
           },
           "xaxis": "x",
           "y": [
            "Total de Obitos"
           ],
           "yaxis": "y"
          }
         ],
         "name": "2001"
        },
        {
         "data": [
          {
           "hovertemplate": "Pessoas=%{y}<br>Anos=2002<br>Nascimento x Obitos=%{text}<extra></extra>",
           "ids": [
            "Total de Nados-vivos"
           ],
           "legendgroup": "Total de Nados-vivos",
           "marker": {
            "color": "blue",
            "pattern": {
             "shape": ""
            }
           },
           "name": "Total de Nados-vivos",
           "orientation": "h",
           "showlegend": true,
           "text": {
            "bdata": "AAAAAPDs+0A=",
            "dtype": "f8"
           },
           "textposition": "auto",
           "type": "bar",
           "x": {
            "bdata": "z74BAA==",
            "dtype": "i4"
           },
           "xaxis": "x",
           "y": [
            "Total de Nados-vivos"
           ],
           "yaxis": "y"
          },
          {
           "hovertemplate": "Pessoas=%{y}<br>Anos=2002<br>Nascimento x Obitos=%{text}<extra></extra>",
           "ids": [
            "Total de Obitos"
           ],
           "legendgroup": "Total de Obitos",
           "marker": {
            "color": "red",
            "pattern": {
             "shape": ""
            }
           },
           "name": "Total de Obitos",
           "orientation": "h",
           "showlegend": true,
           "text": {
            "bdata": "AAAAACDx+UA=",
            "dtype": "f8"
           },
           "textposition": "auto",
           "type": "bar",
           "x": {
            "bdata": "Ep8BAA==",
            "dtype": "i4"
           },
           "xaxis": "x",
           "y": [
            "Total de Obitos"
           ],
           "yaxis": "y"
          }
         ],
         "name": "2002"
        },
        {
         "data": [
          {
           "hovertemplate": "Pessoas=%{y}<br>Anos=2003<br>Nascimento x Obitos=%{text}<extra></extra>",
           "ids": [
            "Total de Nados-vivos"
           ],
           "legendgroup": "Total de Nados-vivos",
           "marker": {
            "color": "blue",
            "pattern": {
             "shape": ""
            }
           },
           "name": "Total de Nados-vivos",
           "orientation": "h",
           "showlegend": true,
           "text": {
            "bdata": "AAAAADB4+0A=",
            "dtype": "f8"
           },
           "textposition": "auto",
           "type": "bar",
           "x": {
            "bdata": "g7cBAA==",
            "dtype": "i4"
           },
           "xaxis": "x",
           "y": [
            "Total de Nados-vivos"
           ],
           "yaxis": "y"
          },
          {
           "hovertemplate": "Pessoas=%{y}<br>Anos=2003<br>Nascimento x Obitos=%{text}<extra></extra>",
           "ids": [
            "Total de Obitos"
           ],
           "legendgroup": "Total de Obitos",
           "marker": {
            "color": "red",
            "pattern": {
             "shape": ""
            }
           },
           "name": "Total de Obitos",
           "orientation": "h",
           "showlegend": true,
           "text": {
            "bdata": "AAAAALCP+kA=",
            "dtype": "f8"
           },
           "textposition": "auto",
           "type": "bar",
           "x": {
            "bdata": "+6gBAA==",
            "dtype": "i4"
           },
           "xaxis": "x",
           "y": [
            "Total de Obitos"
           ],
           "yaxis": "y"
          }
         ],
         "name": "2003"
        },
        {
         "data": [
          {
           "hovertemplate": "Pessoas=%{y}<br>Anos=2004<br>Nascimento x Obitos=%{text}<extra></extra>",
           "ids": [
            "Total de Nados-vivos"
           ],
           "legendgroup": "Total de Nados-vivos",
           "marker": {
            "color": "blue",
            "pattern": {
             "shape": ""
            }
           },
           "name": "Total de Nados-vivos",
           "orientation": "h",
           "showlegend": true,
           "text": {
            "bdata": "AAAAACCv+kA=",
            "dtype": "f8"
           },
           "textposition": "auto",
           "type": "bar",
           "x": {
            "bdata": "8qoBAA==",
            "dtype": "i4"
           },
           "xaxis": "x",
           "y": [
            "Total de Nados-vivos"
           ],
           "yaxis": "y"
          },
          {
           "hovertemplate": "Pessoas=%{y}<br>Anos=2004<br>Nascimento x Obitos=%{text}<extra></extra>",
           "ids": [
            "Total de Obitos"
           ],
           "legendgroup": "Total de Obitos",
           "marker": {
            "color": "red",
            "pattern": {
             "shape": ""
            }
           },
           "name": "Total de Obitos",
           "orientation": "h",
           "showlegend": true,
           "text": {
            "bdata": "AAAAAMDn+EA=",
            "dtype": "f8"
           },
           "textposition": "auto",
           "type": "bar",
           "x": {
            "bdata": "fI4BAA==",
            "dtype": "i4"
           },
           "xaxis": "x",
           "y": [
            "Total de Obitos"
           ],
           "yaxis": "y"
          }
         ],
         "name": "2004"
        },
        {
         "data": [
          {
           "hovertemplate": "Pessoas=%{y}<br>Anos=2005<br>Nascimento x Obitos=%{text}<extra></extra>",
           "ids": [
            "Total de Nados-vivos"
           ],
           "legendgroup": "Total de Nados-vivos",
           "marker": {
            "color": "blue",
            "pattern": {
             "shape": ""
            }
           },
           "name": "Total de Nados-vivos",
           "orientation": "h",
           "showlegend": true,
           "text": {
            "bdata": "AAAAAHC1+kA=",
            "dtype": "f8"
           },
           "textposition": "auto",
           "type": "bar",
           "x": {
            "bdata": "V6sBAA==",
            "dtype": "i4"
           },
           "xaxis": "x",
           "y": [
            "Total de Nados-vivos"
           ],
           "yaxis": "y"
          },
          {
           "hovertemplate": "Pessoas=%{y}<br>Anos=2005<br>Nascimento x Obitos=%{text}<extra></extra>",
           "ids": [
            "Total de Obitos"
           ],
           "legendgroup": "Total de Obitos",
           "marker": {
            "color": "red",
            "pattern": {
             "shape": ""
            }
           },
           "name": "Total de Obitos",
           "orientation": "h",
           "showlegend": true,
           "text": {
            "bdata": "AAAAAIA8+kA=",
            "dtype": "f8"
           },
           "textposition": "auto",
           "type": "bar",
           "x": {
            "bdata": "yKMBAA==",
            "dtype": "i4"
           },
           "xaxis": "x",
           "y": [
            "Total de Obitos"
           ],
           "yaxis": "y"
          }
         ],
         "name": "2005"
        },
        {
         "data": [
          {
           "hovertemplate": "Pessoas=%{y}<br>Anos=2006<br>Nascimento x Obitos=%{text}<extra></extra>",
           "ids": [
            "Total de Nados-vivos"
           ],
           "legendgroup": "Total de Nados-vivos",
           "marker": {
            "color": "blue",
            "pattern": {
             "shape": ""
            }
           },
           "name": "Total de Nados-vivos",
           "orientation": "h",
           "showlegend": true,
           "text": {
            "bdata": "AAAAAJC++UA=",
            "dtype": "f8"
           },
           "textposition": "auto",
           "type": "bar",
           "x": {
            "bdata": "6ZsBAA==",
            "dtype": "i4"
           },
           "xaxis": "x",
           "y": [
            "Total de Nados-vivos"
           ],
           "yaxis": "y"
          },
          {
           "hovertemplate": "Pessoas=%{y}<br>Anos=2006<br>Nascimento x Obitos=%{text}<extra></extra>",
           "ids": [
            "Total de Obitos"
           ],
           "legendgroup": "Total de Obitos",
           "marker": {
            "color": "red",
            "pattern": {
             "shape": ""
            }
           },
           "name": "Total de Obitos",
           "orientation": "h",
           "showlegend": true,
           "text": {
            "bdata": "AAAAAGDm+EA=",
            "dtype": "f8"
           },
           "textposition": "auto",
           "type": "bar",
           "x": {
            "bdata": "Zo4BAA==",
            "dtype": "i4"
           },
           "xaxis": "x",
           "y": [
            "Total de Obitos"
           ],
           "yaxis": "y"
          }
         ],
         "name": "2006"
        },
        {
         "data": [
          {
           "hovertemplate": "Pessoas=%{y}<br>Anos=2007<br>Nascimento x Obitos=%{text}<extra></extra>",
           "ids": [
            "Total de Nados-vivos"
           ],
           "legendgroup": "Total de Nados-vivos",
           "marker": {
            "color": "blue",
            "pattern": {
             "shape": ""
            }
           },
           "name": "Total de Nados-vivos",
           "orientation": "h",
           "showlegend": true,
           "text": {
            "bdata": "AAAAAMAF+UA=",
            "dtype": "f8"
           },
           "textposition": "auto",
           "type": "bar",
           "x": {
            "bdata": "XJABAA==",
            "dtype": "i4"
           },
           "xaxis": "x",
           "y": [
            "Total de Nados-vivos"
           ],
           "yaxis": "y"
          },
          {
           "hovertemplate": "Pessoas=%{y}<br>Anos=2007<br>Nascimento x Obitos=%{text}<extra></extra>",
           "ids": [
            "Total de Obitos"
           ],
           "legendgroup": "Total de Obitos",
           "marker": {
            "color": "red",
            "pattern": {
             "shape": ""
            }
           },
           "name": "Total de Obitos",
           "orientation": "h",
           "showlegend": true,
           "text": {
            "bdata": "AAAAAIBF+UA=",
            "dtype": "f8"
           },
           "textposition": "auto",
           "type": "bar",
           "x": {
            "bdata": "WJQBAA==",
            "dtype": "i4"
           },
           "xaxis": "x",
           "y": [
            "Total de Obitos"
           ],
           "yaxis": "y"
          }
         ],
         "name": "2007"
        },
        {
         "data": [
          {
           "hovertemplate": "Pessoas=%{y}<br>Anos=2008<br>Nascimento x Obitos=%{text}<extra></extra>",
           "ids": [
            "Total de Nados-vivos"
           ],
           "legendgroup": "Total de Nados-vivos",
           "marker": {
            "color": "blue",
            "pattern": {
             "shape": ""
            }
           },
           "name": "Total de Nados-vivos",
           "orientation": "h",
           "showlegend": true,
           "text": {
            "bdata": "AAAAACCJ+UA=",
            "dtype": "f8"
           },
           "textposition": "auto",
           "type": "bar",
           "x": {
            "bdata": "kpgBAA==",
            "dtype": "i4"
           },
           "xaxis": "x",
           "y": [
            "Total de Nados-vivos"
           ],
           "yaxis": "y"
          },
          {
           "hovertemplate": "Pessoas=%{y}<br>Anos=2008<br>Nascimento x Obitos=%{text}<extra></extra>",
           "ids": [
            "Total de Obitos"
           ],
           "legendgroup": "Total de Obitos",
           "marker": {
            "color": "red",
            "pattern": {
             "shape": ""
            }
           },
           "name": "Total de Obitos",
           "orientation": "h",
           "showlegend": true,
           "text": {
            "bdata": "AAAAAIB1+UA=",
            "dtype": "f8"
           },
           "textposition": "auto",
           "type": "bar",
           "x": {
            "bdata": "WJcBAA==",
            "dtype": "i4"
           },
           "xaxis": "x",
           "y": [
            "Total de Obitos"
           ],
           "yaxis": "y"
          }
         ],
         "name": "2008"
        },
        {
         "data": [
          {
           "hovertemplate": "Pessoas=%{y}<br>Anos=2009<br>Nascimento x Obitos=%{text}<extra></extra>",
           "ids": [
            "Total de Nados-vivos"
           ],
           "legendgroup": "Total de Nados-vivos",
           "marker": {
            "color": "blue",
            "pattern": {
             "shape": ""
            }
           },
           "name": "Total de Nados-vivos",
           "orientation": "h",
           "showlegend": true,
           "text": {
            "bdata": "AAAAADBK+EA=",
            "dtype": "f8"
           },
           "textposition": "auto",
           "type": "bar",
           "x": {
            "bdata": "o4QBAA==",
            "dtype": "i4"
           },
           "xaxis": "x",
           "y": [
            "Total de Nados-vivos"
           ],
           "yaxis": "y"
          },
          {
           "hovertemplate": "Pessoas=%{y}<br>Anos=2009<br>Nascimento x Obitos=%{text}<extra></extra>",
           "ids": [
            "Total de Obitos"
           ],
           "legendgroup": "Total de Obitos",
           "marker": {
            "color": "red",
            "pattern": {
             "shape": ""
            }
           },
           "name": "Total de Obitos",
           "orientation": "h",
           "showlegend": true,
           "text": {
            "bdata": "AAAAACB/+UA=",
            "dtype": "f8"
           },
           "textposition": "auto",
           "type": "bar",
           "x": {
            "bdata": "8pcBAA==",
            "dtype": "i4"
           },
           "xaxis": "x",
           "y": [
            "Total de Obitos"
           ],
           "yaxis": "y"
          }
         ],
         "name": "2009"
        },
        {
         "data": [
          {
           "hovertemplate": "Pessoas=%{y}<br>Anos=2010<br>Nascimento x Obitos=%{text}<extra></extra>",
           "ids": [
            "Total de Nados-vivos"
           ],
           "legendgroup": "Total de Nados-vivos",
           "marker": {
            "color": "blue",
            "pattern": {
             "shape": ""
            }
           },
           "name": "Total de Nados-vivos",
           "orientation": "h",
           "showlegend": true,
           "text": {
            "bdata": "AAAAAFDA+EA=",
            "dtype": "f8"
           },
           "textposition": "auto",
           "type": "bar",
           "x": {
            "bdata": "BYwBAA==",
            "dtype": "i4"
           },
           "xaxis": "x",
           "y": [
            "Total de Nados-vivos"
           ],
           "yaxis": "y"
          },
          {
           "hovertemplate": "Pessoas=%{y}<br>Anos=2010<br>Nascimento x Obitos=%{text}<extra></extra>",
           "ids": [
            "Total de Obitos"
           ],
           "legendgroup": "Total de Obitos",
           "marker": {
            "color": "red",
            "pattern": {
             "shape": ""
            }
           },
           "name": "Total de Obitos",
           "orientation": "h",
           "showlegend": true,
           "text": {
            "bdata": "AAAAACDe+UA=",
            "dtype": "f8"
           },
           "textposition": "auto",
           "type": "bar",
           "x": {
            "bdata": "4p0BAA==",
            "dtype": "i4"
           },
           "xaxis": "x",
           "y": [
            "Total de Obitos"
           ],
           "yaxis": "y"
          }
         ],
         "name": "2010"
        },
        {
         "data": [
          {
           "hovertemplate": "Pessoas=%{y}<br>Anos=2011<br>Nascimento x Obitos=%{text}<extra></extra>",
           "ids": [
            "Total de Nados-vivos"
           ],
           "legendgroup": "Total de Nados-vivos",
           "marker": {
            "color": "blue",
            "pattern": {
             "shape": ""
            }
           },
           "name": "Total de Nados-vivos",
           "orientation": "h",
           "showlegend": true,
           "text": {
            "bdata": "AAAAAICl90A=",
            "dtype": "f8"
           },
           "textposition": "auto",
           "type": "bar",
           "x": {
            "bdata": "WHoBAA==",
            "dtype": "i4"
           },
           "xaxis": "x",
           "y": [
            "Total de Nados-vivos"
           ],
           "yaxis": "y"
          },
          {
           "hovertemplate": "Pessoas=%{y}<br>Anos=2011<br>Nascimento x Obitos=%{text}<extra></extra>",
           "ids": [
            "Total de Obitos"
           ],
           "legendgroup": "Total de Obitos",
           "marker": {
            "color": "red",
            "pattern": {
             "shape": ""
            }
           },
           "name": "Total de Obitos",
           "orientation": "h",
           "showlegend": true,
           "text": {
            "bdata": "AAAAAAAc+UA=",
            "dtype": "f8"
           },
           "textposition": "auto",
           "type": "bar",
           "x": {
            "bdata": "wJEBAA==",
            "dtype": "i4"
           },
           "xaxis": "x",
           "y": [
            "Total de Obitos"
           ],
           "yaxis": "y"
          }
         ],
         "name": "2011"
        },
        {
         "data": [
          {
           "hovertemplate": "Pessoas=%{y}<br>Anos=2012<br>Nascimento x Obitos=%{text}<extra></extra>",
           "ids": [
            "Total de Nados-vivos"
           ],
           "legendgroup": "Total de Nados-vivos",
           "marker": {
            "color": "blue",
            "pattern": {
             "shape": ""
            }
           },
           "name": "Total de Nados-vivos",
           "orientation": "h",
           "showlegend": true,
           "text": {
            "bdata": "AAAAABDv9UA=",
            "dtype": "f8"
           },
           "textposition": "auto",
           "type": "bar",
           "x": {
            "bdata": "8V4BAA==",
            "dtype": "i4"
           },
           "xaxis": "x",
           "y": [
            "Total de Nados-vivos"
           ],
           "yaxis": "y"
          },
          {
           "hovertemplate": "Pessoas=%{y}<br>Anos=2012<br>Nascimento x Obitos=%{text}<extra></extra>",
           "ids": [
            "Total de Obitos"
           ],
           "legendgroup": "Total de Obitos",
           "marker": {
            "color": "red",
            "pattern": {
             "shape": ""
            }
           },
           "name": "Total de Obitos",
           "orientation": "h",
           "showlegend": true,
           "text": {
            "bdata": "AAAAAMBF+kA=",
            "dtype": "f8"
           },
           "textposition": "auto",
           "type": "bar",
           "x": {
            "bdata": "XKQBAA==",
            "dtype": "i4"
           },
           "xaxis": "x",
           "y": [
            "Total de Obitos"
           ],
           "yaxis": "y"
          }
         ],
         "name": "2012"
        },
        {
         "data": [
          {
           "hovertemplate": "Pessoas=%{y}<br>Anos=2013<br>Nascimento x Obitos=%{text}<extra></extra>",
           "ids": [
            "Total de Nados-vivos"
           ],
           "legendgroup": "Total de Nados-vivos",
           "marker": {
            "color": "blue",
            "pattern": {
             "shape": ""
            }
           },
           "name": "Total de Nados-vivos",
           "orientation": "h",
           "showlegend": true,
           "text": {
            "bdata": "AAAAADA29EA=",
            "dtype": "f8"
           },
           "textposition": "auto",
           "type": "bar",
           "x": {
            "bdata": "Y0MBAA==",
            "dtype": "i4"
           },
           "xaxis": "x",
           "y": [
            "Total de Nados-vivos"
           ],
           "yaxis": "y"
          },
          {
           "hovertemplate": "Pessoas=%{y}<br>Anos=2013<br>Nascimento x Obitos=%{text}<extra></extra>",
           "ids": [
            "Total de Obitos"
           ],
           "legendgroup": "Total de Obitos",
           "marker": {
            "color": "red",
            "pattern": {
             "shape": ""
            }
           },
           "name": "Total de Obitos",
           "orientation": "h",
           "showlegend": true,
           "text": {
            "bdata": "AAAAAKAD+kA=",
            "dtype": "f8"
           },
           "textposition": "auto",
           "type": "bar",
           "x": {
            "bdata": "OqABAA==",
            "dtype": "i4"
           },
           "xaxis": "x",
           "y": [
            "Total de Obitos"
           ],
           "yaxis": "y"
          }
         ],
         "name": "2013"
        },
        {
         "data": [
          {
           "hovertemplate": "Pessoas=%{y}<br>Anos=2014<br>Nascimento x Obitos=%{text}<extra></extra>",
           "ids": [
            "Total de Nados-vivos"
           ],
           "legendgroup": "Total de Nados-vivos",
           "marker": {
            "color": "blue",
            "pattern": {
             "shape": ""
            }
           },
           "name": "Total de Nados-vivos",
           "orientation": "h",
           "showlegend": true,
           "text": {
            "bdata": "AAAAAPAb9EA=",
            "dtype": "f8"
           },
           "textposition": "auto",
           "type": "bar",
           "x": {
            "bdata": "v0EBAA==",
            "dtype": "i4"
           },
           "xaxis": "x",
           "y": [
            "Total de Nados-vivos"
           ],
           "yaxis": "y"
          },
          {
           "hovertemplate": "Pessoas=%{y}<br>Anos=2014<br>Nascimento x Obitos=%{text}<extra></extra>",
           "ids": [
            "Total de Obitos"
           ],
           "legendgroup": "Total de Obitos",
           "marker": {
            "color": "red",
            "pattern": {
             "shape": ""
            }
           },
           "name": "Total de Obitos",
           "orientation": "h",
           "showlegend": true,
           "text": {
            "bdata": "AAAAALCY+UA=",
            "dtype": "f8"
           },
           "textposition": "auto",
           "type": "bar",
           "x": {
            "bdata": "i5kBAA==",
            "dtype": "i4"
           },
           "xaxis": "x",
           "y": [
            "Total de Obitos"
           ],
           "yaxis": "y"
          }
         ],
         "name": "2014"
        },
        {
         "data": [
          {
           "hovertemplate": "Pessoas=%{y}<br>Anos=2015<br>Nascimento x Obitos=%{text}<extra></extra>",
           "ids": [
            "Total de Nados-vivos"
           ],
           "legendgroup": "Total de Nados-vivos",
           "marker": {
            "color": "blue",
            "pattern": {
             "shape": ""
            }
           },
           "name": "Total de Nados-vivos",
           "orientation": "h",
           "showlegend": true,
           "text": {
            "bdata": "AAAAAMDf9EA=",
            "dtype": "f8"
           },
           "textposition": "auto",
           "type": "bar",
           "x": {
            "bdata": "/E0BAA==",
            "dtype": "i4"
           },
           "xaxis": "x",
           "y": [
            "Total de Nados-vivos"
           ],
           "yaxis": "y"
          },
          {
           "hovertemplate": "Pessoas=%{y}<br>Anos=2015<br>Nascimento x Obitos=%{text}<extra></extra>",
           "ids": [
            "Total de Obitos"
           ],
           "legendgroup": "Total de Obitos",
           "marker": {
            "color": "red",
            "pattern": {
             "shape": ""
            }
           },
           "name": "Total de Obitos",
           "orientation": "h",
           "showlegend": true,
           "text": {
            "bdata": "AAAAALB/+kA=",
            "dtype": "f8"
           },
           "textposition": "auto",
           "type": "bar",
           "x": {
            "bdata": "+6cBAA==",
            "dtype": "i4"
           },
           "xaxis": "x",
           "y": [
            "Total de Obitos"
           ],
           "yaxis": "y"
          }
         ],
         "name": "2015"
        },
        {
         "data": [
          {
           "hovertemplate": "Pessoas=%{y}<br>Anos=2016<br>Nascimento x Obitos=%{text}<extra></extra>",
           "ids": [
            "Total de Nados-vivos"
           ],
           "legendgroup": "Total de Nados-vivos",
           "marker": {
            "color": "blue",
            "pattern": {
             "shape": ""
            }
           },
           "name": "Total de Nados-vivos",
           "orientation": "h",
           "showlegend": true,
           "text": {
            "bdata": "AAAAAGBF9UA=",
            "dtype": "f8"
           },
           "textposition": "auto",
           "type": "bar",
           "x": {
            "bdata": "VlQBAA==",
            "dtype": "i4"
           },
           "xaxis": "x",
           "y": [
            "Total de Nados-vivos"
           ],
           "yaxis": "y"
          },
          {
           "hovertemplate": "Pessoas=%{y}<br>Anos=2016<br>Nascimento x Obitos=%{text}<extra></extra>",
           "ids": [
            "Total de Obitos"
           ],
           "legendgroup": "Total de Obitos",
           "marker": {
            "color": "red",
            "pattern": {
             "shape": ""
            }
           },
           "name": "Total de Obitos",
           "orientation": "h",
           "showlegend": true,
           "text": {
            "bdata": "AAAAAND++kA=",
            "dtype": "f8"
           },
           "textposition": "auto",
           "type": "bar",
           "x": {
            "bdata": "7a8BAA==",
            "dtype": "i4"
           },
           "xaxis": "x",
           "y": [
            "Total de Obitos"
           ],
           "yaxis": "y"
          }
         ],
         "name": "2016"
        },
        {
         "data": [
          {
           "hovertemplate": "Pessoas=%{y}<br>Anos=2017<br>Nascimento x Obitos=%{text}<extra></extra>",
           "ids": [
            "Total de Nados-vivos"
           ],
           "legendgroup": "Total de Nados-vivos",
           "marker": {
            "color": "blue",
            "pattern": {
             "shape": ""
            }
           },
           "name": "Total de Nados-vivos",
           "orientation": "h",
           "showlegend": true,
           "text": {
            "bdata": "AAAAAKAI9UA=",
            "dtype": "f8"
           },
           "textposition": "auto",
           "type": "bar",
           "x": {
            "bdata": "ilABAA==",
            "dtype": "i4"
           },
           "xaxis": "x",
           "y": [
            "Total de Nados-vivos"
           ],
           "yaxis": "y"
          },
          {
           "hovertemplate": "Pessoas=%{y}<br>Anos=2017<br>Nascimento x Obitos=%{text}<extra></extra>",
           "ids": [
            "Total de Obitos"
           ],
           "legendgroup": "Total de Obitos",
           "marker": {
            "color": "red",
            "pattern": {
             "shape": ""
            }
           },
           "name": "Total de Obitos",
           "orientation": "h",
           "showlegend": true,
           "text": {
            "bdata": "AAAAAODL+kA=",
            "dtype": "f8"
           },
           "textposition": "auto",
           "type": "bar",
           "x": {
            "bdata": "vqwBAA==",
            "dtype": "i4"
           },
           "xaxis": "x",
           "y": [
            "Total de Obitos"
           ],
           "yaxis": "y"
          }
         ],
         "name": "2017"
        },
        {
         "data": [
          {
           "hovertemplate": "Pessoas=%{y}<br>Anos=2018<br>Nascimento x Obitos=%{text}<extra></extra>",
           "ids": [
            "Total de Nados-vivos"
           ],
           "legendgroup": "Total de Nados-vivos",
           "marker": {
            "color": "blue",
            "pattern": {
             "shape": ""
            }
           },
           "name": "Total de Nados-vivos",
           "orientation": "h",
           "showlegend": true,
           "text": {
            "bdata": "AAAAAMA+9UA=",
            "dtype": "f8"
           },
           "textposition": "auto",
           "type": "bar",
           "x": {
            "bdata": "7FMBAA==",
            "dtype": "i4"
           },
           "xaxis": "x",
           "y": [
            "Total de Nados-vivos"
           ],
           "yaxis": "y"
          },
          {
           "hovertemplate": "Pessoas=%{y}<br>Anos=2018<br>Nascimento x Obitos=%{text}<extra></extra>",
           "ids": [
            "Total de Obitos"
           ],
           "legendgroup": "Total de Obitos",
           "marker": {
            "color": "red",
            "pattern": {
             "shape": ""
            }
           },
           "name": "Total de Obitos",
           "orientation": "h",
           "showlegend": true,
           "text": {
            "bdata": "AAAAALCZ+0A=",
            "dtype": "f8"
           },
           "textposition": "auto",
           "type": "bar",
           "x": {
            "bdata": "m7kBAA==",
            "dtype": "i4"
           },
           "xaxis": "x",
           "y": [
            "Total de Obitos"
           ],
           "yaxis": "y"
          }
         ],
         "name": "2018"
        },
        {
         "data": [
          {
           "hovertemplate": "Pessoas=%{y}<br>Anos=2019<br>Nascimento x Obitos=%{text}<extra></extra>",
           "ids": [
            "Total de Nados-vivos"
           ],
           "legendgroup": "Total de Nados-vivos",
           "marker": {
            "color": "blue",
            "pattern": {
             "shape": ""
            }
           },
           "name": "Total de Nados-vivos",
           "orientation": "h",
           "showlegend": true,
           "text": {
            "bdata": "AAAAADAj9UA=",
            "dtype": "f8"
           },
           "textposition": "auto",
           "type": "bar",
           "x": {
            "bdata": "M1IBAA==",
            "dtype": "i4"
           },
           "xaxis": "x",
           "y": [
            "Total de Nados-vivos"
           ],
           "yaxis": "y"
          },
          {
           "hovertemplate": "Pessoas=%{y}<br>Anos=2019<br>Nascimento x Obitos=%{text}<extra></extra>",
           "ids": [
            "Total de Obitos"
           ],
           "legendgroup": "Total de Obitos",
           "marker": {
            "color": "red",
            "pattern": {
             "shape": ""
            }
           },
           "name": "Total de Obitos",
           "orientation": "h",
           "showlegend": true,
           "text": {
            "bdata": "AAAAADBO+0A=",
            "dtype": "f8"
           },
           "textposition": "auto",
           "type": "bar",
           "x": {
            "bdata": "47QBAA==",
            "dtype": "i4"
           },
           "xaxis": "x",
           "y": [
            "Total de Obitos"
           ],
           "yaxis": "y"
          }
         ],
         "name": "2019"
        },
        {
         "data": [
          {
           "hovertemplate": "Pessoas=%{y}<br>Anos=2020<br>Nascimento x Obitos=%{text}<extra></extra>",
           "ids": [
            "Total de Nados-vivos"
           ],
           "legendgroup": "Total de Nados-vivos",
           "marker": {
            "color": "blue",
            "pattern": {
             "shape": ""
            }
           },
           "name": "Total de Nados-vivos",
           "orientation": "h",
           "showlegend": true,
           "text": {
            "bdata": "AAAAACCj9EA=",
            "dtype": "f8"
           },
           "textposition": "auto",
           "type": "bar",
           "x": {
            "bdata": "MkoBAA==",
            "dtype": "i4"
           },
           "xaxis": "x",
           "y": [
            "Total de Nados-vivos"
           ],
           "yaxis": "y"
          },
          {
           "hovertemplate": "Pessoas=%{y}<br>Anos=2020<br>Nascimento x Obitos=%{text}<extra></extra>",
           "ids": [
            "Total de Obitos"
           ],
           "legendgroup": "Total de Obitos",
           "marker": {
            "color": "red",
            "pattern": {
             "shape": ""
            }
           },
           "name": "Total de Obitos",
           "orientation": "h",
           "showlegend": true,
           "text": {
            "bdata": "AAAAAEAg/kA=",
            "dtype": "f8"
           },
           "textposition": "auto",
           "type": "bar",
           "x": {
            "bdata": "BOIBAA==",
            "dtype": "i4"
           },
           "xaxis": "x",
           "y": [
            "Total de Obitos"
           ],
           "yaxis": "y"
          }
         ],
         "name": "2020"
        },
        {
         "data": [
          {
           "hovertemplate": "Pessoas=%{y}<br>Anos=2021<br>Nascimento x Obitos=%{text}<extra></extra>",
           "ids": [
            "Total de Nados-vivos"
           ],
           "legendgroup": "Total de Nados-vivos",
           "marker": {
            "color": "blue",
            "pattern": {
             "shape": ""
            }
           },
           "name": "Total de Nados-vivos",
           "orientation": "h",
           "showlegend": true,
           "text": {
            "bdata": "AAAAAOBt80A=",
            "dtype": "f8"
           },
           "textposition": "auto",
           "type": "bar",
           "x": {
            "bdata": "3jYBAA==",
            "dtype": "i4"
           },
           "xaxis": "x",
           "y": [
            "Total de Nados-vivos"
           ],
           "yaxis": "y"
          },
          {
           "hovertemplate": "Pessoas=%{y}<br>Anos=2021<br>Nascimento x Obitos=%{text}<extra></extra>",
           "ids": [
            "Total de Obitos"
           ],
           "legendgroup": "Total de Obitos",
           "marker": {
            "color": "red",
            "pattern": {
             "shape": ""
            }
           },
           "name": "Total de Obitos",
           "orientation": "h",
           "showlegend": true,
           "text": {
            "bdata": "AAAAAJB6/kA=",
            "dtype": "f8"
           },
           "textposition": "auto",
           "type": "bar",
           "x": {
            "bdata": "qecBAA==",
            "dtype": "i4"
           },
           "xaxis": "x",
           "y": [
            "Total de Obitos"
           ],
           "yaxis": "y"
          }
         ],
         "name": "2021"
        },
        {
         "data": [
          {
           "hovertemplate": "Pessoas=%{y}<br>Anos=2022<br>Nascimento x Obitos=%{text}<extra></extra>",
           "ids": [
            "Total de Nados-vivos"
           ],
           "legendgroup": "Total de Nados-vivos",
           "marker": {
            "color": "blue",
            "pattern": {
             "shape": ""
            }
           },
           "name": "Total de Nados-vivos",
           "orientation": "h",
           "showlegend": true,
           "text": {
            "bdata": "AAAAAHBt9EA=",
            "dtype": "f8"
           },
           "textposition": "auto",
           "type": "bar",
           "x": {
            "bdata": "10YBAA==",
            "dtype": "i4"
           },
           "xaxis": "x",
           "y": [
            "Total de Nados-vivos"
           ],
           "yaxis": "y"
          },
          {
           "hovertemplate": "Pessoas=%{y}<br>Anos=2022<br>Nascimento x Obitos=%{text}<extra></extra>",
           "ids": [
            "Total de Obitos"
           ],
           "legendgroup": "Total de Obitos",
           "marker": {
            "color": "red",
            "pattern": {
             "shape": ""
            }
           },
           "name": "Total de Obitos",
           "orientation": "h",
           "showlegend": true,
           "text": {
            "bdata": "AAAAAJBc/kA=",
            "dtype": "f8"
           },
           "textposition": "auto",
           "type": "bar",
           "x": {
            "bdata": "yeUBAA==",
            "dtype": "i4"
           },
           "xaxis": "x",
           "y": [
            "Total de Obitos"
           ],
           "yaxis": "y"
          }
         ],
         "name": "2022"
        },
        {
         "data": [
          {
           "hovertemplate": "Pessoas=%{y}<br>Anos=2023<br>Nascimento x Obitos=%{text}<extra></extra>",
           "ids": [
            "Total de Nados-vivos"
           ],
           "legendgroup": "Total de Nados-vivos",
           "marker": {
            "color": "blue",
            "pattern": {
             "shape": ""
            }
           },
           "name": "Total de Nados-vivos",
           "orientation": "h",
           "showlegend": true,
           "text": {
            "bdata": "AAAAADDs9EA=",
            "dtype": "f8"
           },
           "textposition": "auto",
           "type": "bar",
           "x": {
            "bdata": "w04BAA==",
            "dtype": "i4"
           },
           "xaxis": "x",
           "y": [
            "Total de Nados-vivos"
           ],
           "yaxis": "y"
          },
          {
           "hovertemplate": "Pessoas=%{y}<br>Anos=2023<br>Nascimento x Obitos=%{text}<extra></extra>",
           "ids": [
            "Total de Obitos"
           ],
           "legendgroup": "Total de Obitos",
           "marker": {
            "color": "red",
            "pattern": {
             "shape": ""
            }
           },
           "name": "Total de Obitos",
           "orientation": "h",
           "showlegend": true,
           "text": {
            "bdata": "AAAAAHDh/EA=",
            "dtype": "f8"
           },
           "textposition": "auto",
           "type": "bar",
           "x": {
            "bdata": "F84BAA==",
            "dtype": "i4"
           },
           "xaxis": "x",
           "y": [
            "Total de Obitos"
           ],
           "yaxis": "y"
          }
         ],
         "name": "2023"
        }
       ],
       "layout": {
        "barmode": "relative",
        "legend": {
         "title": {
          "text": "Pessoas"
         },
         "tracegroupgap": 0
        },
        "sliders": [
         {
          "active": 0,
          "currentvalue": {
           "prefix": "Anos="
          },
          "len": 0.9,
          "pad": {
           "b": 10,
           "t": 60
          },
          "steps": [
           {
            "args": [
             [
              "1900"
             ],
             {
              "frame": {
               "duration": 0,
               "redraw": true
              },
              "fromcurrent": true,
              "mode": "immediate",
              "transition": {
               "duration": 0,
               "easing": "linear"
              }
             }
            ],
            "label": "1900",
            "method": "animate"
           },
           {
            "args": [
             [
              "1910"
             ],
             {
              "frame": {
               "duration": 0,
               "redraw": true
              },
              "fromcurrent": true,
              "mode": "immediate",
              "transition": {
               "duration": 0,
               "easing": "linear"
              }
             }
            ],
            "label": "1910",
            "method": "animate"
           },
           {
            "args": [
             [
              "1920"
             ],
             {
              "frame": {
               "duration": 0,
               "redraw": true
              },
              "fromcurrent": true,
              "mode": "immediate",
              "transition": {
               "duration": 0,
               "easing": "linear"
              }
             }
            ],
            "label": "1920",
            "method": "animate"
           },
           {
            "args": [
             [
              "1930"
             ],
             {
              "frame": {
               "duration": 0,
               "redraw": true
              },
              "fromcurrent": true,
              "mode": "immediate",
              "transition": {
               "duration": 0,
               "easing": "linear"
              }
             }
            ],
            "label": "1930",
            "method": "animate"
           },
           {
            "args": [
             [
              "1940"
             ],
             {
              "frame": {
               "duration": 0,
               "redraw": true
              },
              "fromcurrent": true,
              "mode": "immediate",
              "transition": {
               "duration": 0,
               "easing": "linear"
              }
             }
            ],
            "label": "1940",
            "method": "animate"
           },
           {
            "args": [
             [
              "1950"
             ],
             {
              "frame": {
               "duration": 0,
               "redraw": true
              },
              "fromcurrent": true,
              "mode": "immediate",
              "transition": {
               "duration": 0,
               "easing": "linear"
              }
             }
            ],
            "label": "1950",
            "method": "animate"
           },
           {
            "args": [
             [
              "1960"
             ],
             {
              "frame": {
               "duration": 0,
               "redraw": true
              },
              "fromcurrent": true,
              "mode": "immediate",
              "transition": {
               "duration": 0,
               "easing": "linear"
              }
             }
            ],
            "label": "1960",
            "method": "animate"
           },
           {
            "args": [
             [
              "1970"
             ],
             {
              "frame": {
               "duration": 0,
               "redraw": true
              },
              "fromcurrent": true,
              "mode": "immediate",
              "transition": {
               "duration": 0,
               "easing": "linear"
              }
             }
            ],
            "label": "1970",
            "method": "animate"
           },
           {
            "args": [
             [
              "1980"
             ],
             {
              "frame": {
               "duration": 0,
               "redraw": true
              },
              "fromcurrent": true,
              "mode": "immediate",
              "transition": {
               "duration": 0,
               "easing": "linear"
              }
             }
            ],
            "label": "1980",
            "method": "animate"
           },
           {
            "args": [
             [
              "1981"
             ],
             {
              "frame": {
               "duration": 0,
               "redraw": true
              },
              "fromcurrent": true,
              "mode": "immediate",
              "transition": {
               "duration": 0,
               "easing": "linear"
              }
             }
            ],
            "label": "1981",
            "method": "animate"
           },
           {
            "args": [
             [
              "1982"
             ],
             {
              "frame": {
               "duration": 0,
               "redraw": true
              },
              "fromcurrent": true,
              "mode": "immediate",
              "transition": {
               "duration": 0,
               "easing": "linear"
              }
             }
            ],
            "label": "1982",
            "method": "animate"
           },
           {
            "args": [
             [
              "1983"
             ],
             {
              "frame": {
               "duration": 0,
               "redraw": true
              },
              "fromcurrent": true,
              "mode": "immediate",
              "transition": {
               "duration": 0,
               "easing": "linear"
              }
             }
            ],
            "label": "1983",
            "method": "animate"
           },
           {
            "args": [
             [
              "1984"
             ],
             {
              "frame": {
               "duration": 0,
               "redraw": true
              },
              "fromcurrent": true,
              "mode": "immediate",
              "transition": {
               "duration": 0,
               "easing": "linear"
              }
             }
            ],
            "label": "1984",
            "method": "animate"
           },
           {
            "args": [
             [
              "1985"
             ],
             {
              "frame": {
               "duration": 0,
               "redraw": true
              },
              "fromcurrent": true,
              "mode": "immediate",
              "transition": {
               "duration": 0,
               "easing": "linear"
              }
             }
            ],
            "label": "1985",
            "method": "animate"
           },
           {
            "args": [
             [
              "1986"
             ],
             {
              "frame": {
               "duration": 0,
               "redraw": true
              },
              "fromcurrent": true,
              "mode": "immediate",
              "transition": {
               "duration": 0,
               "easing": "linear"
              }
             }
            ],
            "label": "1986",
            "method": "animate"
           },
           {
            "args": [
             [
              "1987"
             ],
             {
              "frame": {
               "duration": 0,
               "redraw": true
              },
              "fromcurrent": true,
              "mode": "immediate",
              "transition": {
               "duration": 0,
               "easing": "linear"
              }
             }
            ],
            "label": "1987",
            "method": "animate"
           },
           {
            "args": [
             [
              "1988"
             ],
             {
              "frame": {
               "duration": 0,
               "redraw": true
              },
              "fromcurrent": true,
              "mode": "immediate",
              "transition": {
               "duration": 0,
               "easing": "linear"
              }
             }
            ],
            "label": "1988",
            "method": "animate"
           },
           {
            "args": [
             [
              "1989"
             ],
             {
              "frame": {
               "duration": 0,
               "redraw": true
              },
              "fromcurrent": true,
              "mode": "immediate",
              "transition": {
               "duration": 0,
               "easing": "linear"
              }
             }
            ],
            "label": "1989",
            "method": "animate"
           },
           {
            "args": [
             [
              "1990"
             ],
             {
              "frame": {
               "duration": 0,
               "redraw": true
              },
              "fromcurrent": true,
              "mode": "immediate",
              "transition": {
               "duration": 0,
               "easing": "linear"
              }
             }
            ],
            "label": "1990",
            "method": "animate"
           },
           {
            "args": [
             [
              "1991"
             ],
             {
              "frame": {
               "duration": 0,
               "redraw": true
              },
              "fromcurrent": true,
              "mode": "immediate",
              "transition": {
               "duration": 0,
               "easing": "linear"
              }
             }
            ],
            "label": "1991",
            "method": "animate"
           },
           {
            "args": [
             [
              "1992"
             ],
             {
              "frame": {
               "duration": 0,
               "redraw": true
              },
              "fromcurrent": true,
              "mode": "immediate",
              "transition": {
               "duration": 0,
               "easing": "linear"
              }
             }
            ],
            "label": "1992",
            "method": "animate"
           },
           {
            "args": [
             [
              "1993"
             ],
             {
              "frame": {
               "duration": 0,
               "redraw": true
              },
              "fromcurrent": true,
              "mode": "immediate",
              "transition": {
               "duration": 0,
               "easing": "linear"
              }
             }
            ],
            "label": "1993",
            "method": "animate"
           },
           {
            "args": [
             [
              "1994"
             ],
             {
              "frame": {
               "duration": 0,
               "redraw": true
              },
              "fromcurrent": true,
              "mode": "immediate",
              "transition": {
               "duration": 0,
               "easing": "linear"
              }
             }
            ],
            "label": "1994",
            "method": "animate"
           },
           {
            "args": [
             [
              "1995"
             ],
             {
              "frame": {
               "duration": 0,
               "redraw": true
              },
              "fromcurrent": true,
              "mode": "immediate",
              "transition": {
               "duration": 0,
               "easing": "linear"
              }
             }
            ],
            "label": "1995",
            "method": "animate"
           },
           {
            "args": [
             [
              "1996"
             ],
             {
              "frame": {
               "duration": 0,
               "redraw": true
              },
              "fromcurrent": true,
              "mode": "immediate",
              "transition": {
               "duration": 0,
               "easing": "linear"
              }
             }
            ],
            "label": "1996",
            "method": "animate"
           },
           {
            "args": [
             [
              "1997"
             ],
             {
              "frame": {
               "duration": 0,
               "redraw": true
              },
              "fromcurrent": true,
              "mode": "immediate",
              "transition": {
               "duration": 0,
               "easing": "linear"
              }
             }
            ],
            "label": "1997",
            "method": "animate"
           },
           {
            "args": [
             [
              "1998"
             ],
             {
              "frame": {
               "duration": 0,
               "redraw": true
              },
              "fromcurrent": true,
              "mode": "immediate",
              "transition": {
               "duration": 0,
               "easing": "linear"
              }
             }
            ],
            "label": "1998",
            "method": "animate"
           },
           {
            "args": [
             [
              "1999"
             ],
             {
              "frame": {
               "duration": 0,
               "redraw": true
              },
              "fromcurrent": true,
              "mode": "immediate",
              "transition": {
               "duration": 0,
               "easing": "linear"
              }
             }
            ],
            "label": "1999",
            "method": "animate"
           },
           {
            "args": [
             [
              "2000"
             ],
             {
              "frame": {
               "duration": 0,
               "redraw": true
              },
              "fromcurrent": true,
              "mode": "immediate",
              "transition": {
               "duration": 0,
               "easing": "linear"
              }
             }
            ],
            "label": "2000",
            "method": "animate"
           },
           {
            "args": [
             [
              "2001"
             ],
             {
              "frame": {
               "duration": 0,
               "redraw": true
              },
              "fromcurrent": true,
              "mode": "immediate",
              "transition": {
               "duration": 0,
               "easing": "linear"
              }
             }
            ],
            "label": "2001",
            "method": "animate"
           },
           {
            "args": [
             [
              "2002"
             ],
             {
              "frame": {
               "duration": 0,
               "redraw": true
              },
              "fromcurrent": true,
              "mode": "immediate",
              "transition": {
               "duration": 0,
               "easing": "linear"
              }
             }
            ],
            "label": "2002",
            "method": "animate"
           },
           {
            "args": [
             [
              "2003"
             ],
             {
              "frame": {
               "duration": 0,
               "redraw": true
              },
              "fromcurrent": true,
              "mode": "immediate",
              "transition": {
               "duration": 0,
               "easing": "linear"
              }
             }
            ],
            "label": "2003",
            "method": "animate"
           },
           {
            "args": [
             [
              "2004"
             ],
             {
              "frame": {
               "duration": 0,
               "redraw": true
              },
              "fromcurrent": true,
              "mode": "immediate",
              "transition": {
               "duration": 0,
               "easing": "linear"
              }
             }
            ],
            "label": "2004",
            "method": "animate"
           },
           {
            "args": [
             [
              "2005"
             ],
             {
              "frame": {
               "duration": 0,
               "redraw": true
              },
              "fromcurrent": true,
              "mode": "immediate",
              "transition": {
               "duration": 0,
               "easing": "linear"
              }
             }
            ],
            "label": "2005",
            "method": "animate"
           },
           {
            "args": [
             [
              "2006"
             ],
             {
              "frame": {
               "duration": 0,
               "redraw": true
              },
              "fromcurrent": true,
              "mode": "immediate",
              "transition": {
               "duration": 0,
               "easing": "linear"
              }
             }
            ],
            "label": "2006",
            "method": "animate"
           },
           {
            "args": [
             [
              "2007"
             ],
             {
              "frame": {
               "duration": 0,
               "redraw": true
              },
              "fromcurrent": true,
              "mode": "immediate",
              "transition": {
               "duration": 0,
               "easing": "linear"
              }
             }
            ],
            "label": "2007",
            "method": "animate"
           },
           {
            "args": [
             [
              "2008"
             ],
             {
              "frame": {
               "duration": 0,
               "redraw": true
              },
              "fromcurrent": true,
              "mode": "immediate",
              "transition": {
               "duration": 0,
               "easing": "linear"
              }
             }
            ],
            "label": "2008",
            "method": "animate"
           },
           {
            "args": [
             [
              "2009"
             ],
             {
              "frame": {
               "duration": 0,
               "redraw": true
              },
              "fromcurrent": true,
              "mode": "immediate",
              "transition": {
               "duration": 0,
               "easing": "linear"
              }
             }
            ],
            "label": "2009",
            "method": "animate"
           },
           {
            "args": [
             [
              "2010"
             ],
             {
              "frame": {
               "duration": 0,
               "redraw": true
              },
              "fromcurrent": true,
              "mode": "immediate",
              "transition": {
               "duration": 0,
               "easing": "linear"
              }
             }
            ],
            "label": "2010",
            "method": "animate"
           },
           {
            "args": [
             [
              "2011"
             ],
             {
              "frame": {
               "duration": 0,
               "redraw": true
              },
              "fromcurrent": true,
              "mode": "immediate",
              "transition": {
               "duration": 0,
               "easing": "linear"
              }
             }
            ],
            "label": "2011",
            "method": "animate"
           },
           {
            "args": [
             [
              "2012"
             ],
             {
              "frame": {
               "duration": 0,
               "redraw": true
              },
              "fromcurrent": true,
              "mode": "immediate",
              "transition": {
               "duration": 0,
               "easing": "linear"
              }
             }
            ],
            "label": "2012",
            "method": "animate"
           },
           {
            "args": [
             [
              "2013"
             ],
             {
              "frame": {
               "duration": 0,
               "redraw": true
              },
              "fromcurrent": true,
              "mode": "immediate",
              "transition": {
               "duration": 0,
               "easing": "linear"
              }
             }
            ],
            "label": "2013",
            "method": "animate"
           },
           {
            "args": [
             [
              "2014"
             ],
             {
              "frame": {
               "duration": 0,
               "redraw": true
              },
              "fromcurrent": true,
              "mode": "immediate",
              "transition": {
               "duration": 0,
               "easing": "linear"
              }
             }
            ],
            "label": "2014",
            "method": "animate"
           },
           {
            "args": [
             [
              "2015"
             ],
             {
              "frame": {
               "duration": 0,
               "redraw": true
              },
              "fromcurrent": true,
              "mode": "immediate",
              "transition": {
               "duration": 0,
               "easing": "linear"
              }
             }
            ],
            "label": "2015",
            "method": "animate"
           },
           {
            "args": [
             [
              "2016"
             ],
             {
              "frame": {
               "duration": 0,
               "redraw": true
              },
              "fromcurrent": true,
              "mode": "immediate",
              "transition": {
               "duration": 0,
               "easing": "linear"
              }
             }
            ],
            "label": "2016",
            "method": "animate"
           },
           {
            "args": [
             [
              "2017"
             ],
             {
              "frame": {
               "duration": 0,
               "redraw": true
              },
              "fromcurrent": true,
              "mode": "immediate",
              "transition": {
               "duration": 0,
               "easing": "linear"
              }
             }
            ],
            "label": "2017",
            "method": "animate"
           },
           {
            "args": [
             [
              "2018"
             ],
             {
              "frame": {
               "duration": 0,
               "redraw": true
              },
              "fromcurrent": true,
              "mode": "immediate",
              "transition": {
               "duration": 0,
               "easing": "linear"
              }
             }
            ],
            "label": "2018",
            "method": "animate"
           },
           {
            "args": [
             [
              "2019"
             ],
             {
              "frame": {
               "duration": 0,
               "redraw": true
              },
              "fromcurrent": true,
              "mode": "immediate",
              "transition": {
               "duration": 0,
               "easing": "linear"
              }
             }
            ],
            "label": "2019",
            "method": "animate"
           },
           {
            "args": [
             [
              "2020"
             ],
             {
              "frame": {
               "duration": 0,
               "redraw": true
              },
              "fromcurrent": true,
              "mode": "immediate",
              "transition": {
               "duration": 0,
               "easing": "linear"
              }
             }
            ],
            "label": "2020",
            "method": "animate"
           },
           {
            "args": [
             [
              "2021"
             ],
             {
              "frame": {
               "duration": 0,
               "redraw": true
              },
              "fromcurrent": true,
              "mode": "immediate",
              "transition": {
               "duration": 0,
               "easing": "linear"
              }
             }
            ],
            "label": "2021",
            "method": "animate"
           },
           {
            "args": [
             [
              "2022"
             ],
             {
              "frame": {
               "duration": 0,
               "redraw": true
              },
              "fromcurrent": true,
              "mode": "immediate",
              "transition": {
               "duration": 0,
               "easing": "linear"
              }
             }
            ],
            "label": "2022",
            "method": "animate"
           },
           {
            "args": [
             [
              "2023"
             ],
             {
              "frame": {
               "duration": 0,
               "redraw": true
              },
              "fromcurrent": true,
              "mode": "immediate",
              "transition": {
               "duration": 0,
               "easing": "linear"
              }
             }
            ],
            "label": "2023",
            "method": "animate"
           }
          ],
          "x": 0.1,
          "xanchor": "left",
          "y": 0,
          "yanchor": "top"
         }
        ],
        "template": {
         "data": {
          "bar": [
           {
            "error_x": {
             "color": "#2a3f5f"
            },
            "error_y": {
             "color": "#2a3f5f"
            },
            "marker": {
             "line": {
              "color": "#E5ECF6",
              "width": 0.5
             },
             "pattern": {
              "fillmode": "overlay",
              "size": 10,
              "solidity": 0.2
             }
            },
            "type": "bar"
           }
          ],
          "barpolar": [
           {
            "marker": {
             "line": {
              "color": "#E5ECF6",
              "width": 0.5
             },
             "pattern": {
              "fillmode": "overlay",
              "size": 10,
              "solidity": 0.2
             }
            },
            "type": "barpolar"
           }
          ],
          "carpet": [
           {
            "aaxis": {
             "endlinecolor": "#2a3f5f",
             "gridcolor": "white",
             "linecolor": "white",
             "minorgridcolor": "white",
             "startlinecolor": "#2a3f5f"
            },
            "baxis": {
             "endlinecolor": "#2a3f5f",
             "gridcolor": "white",
             "linecolor": "white",
             "minorgridcolor": "white",
             "startlinecolor": "#2a3f5f"
            },
            "type": "carpet"
           }
          ],
          "choropleth": [
           {
            "colorbar": {
             "outlinewidth": 0,
             "ticks": ""
            },
            "type": "choropleth"
           }
          ],
          "contour": [
           {
            "colorbar": {
             "outlinewidth": 0,
             "ticks": ""
            },
            "colorscale": [
             [
              0,
              "#0d0887"
             ],
             [
              0.1111111111111111,
              "#46039f"
             ],
             [
              0.2222222222222222,
              "#7201a8"
             ],
             [
              0.3333333333333333,
              "#9c179e"
             ],
             [
              0.4444444444444444,
              "#bd3786"
             ],
             [
              0.5555555555555556,
              "#d8576b"
             ],
             [
              0.6666666666666666,
              "#ed7953"
             ],
             [
              0.7777777777777778,
              "#fb9f3a"
             ],
             [
              0.8888888888888888,
              "#fdca26"
             ],
             [
              1,
              "#f0f921"
             ]
            ],
            "type": "contour"
           }
          ],
          "contourcarpet": [
           {
            "colorbar": {
             "outlinewidth": 0,
             "ticks": ""
            },
            "type": "contourcarpet"
           }
          ],
          "heatmap": [
           {
            "colorbar": {
             "outlinewidth": 0,
             "ticks": ""
            },
            "colorscale": [
             [
              0,
              "#0d0887"
             ],
             [
              0.1111111111111111,
              "#46039f"
             ],
             [
              0.2222222222222222,
              "#7201a8"
             ],
             [
              0.3333333333333333,
              "#9c179e"
             ],
             [
              0.4444444444444444,
              "#bd3786"
             ],
             [
              0.5555555555555556,
              "#d8576b"
             ],
             [
              0.6666666666666666,
              "#ed7953"
             ],
             [
              0.7777777777777778,
              "#fb9f3a"
             ],
             [
              0.8888888888888888,
              "#fdca26"
             ],
             [
              1,
              "#f0f921"
             ]
            ],
            "type": "heatmap"
           }
          ],
          "histogram": [
           {
            "marker": {
             "pattern": {
              "fillmode": "overlay",
              "size": 10,
              "solidity": 0.2
             }
            },
            "type": "histogram"
           }
          ],
          "histogram2d": [
           {
            "colorbar": {
             "outlinewidth": 0,
             "ticks": ""
            },
            "colorscale": [
             [
              0,
              "#0d0887"
             ],
             [
              0.1111111111111111,
              "#46039f"
             ],
             [
              0.2222222222222222,
              "#7201a8"
             ],
             [
              0.3333333333333333,
              "#9c179e"
             ],
             [
              0.4444444444444444,
              "#bd3786"
             ],
             [
              0.5555555555555556,
              "#d8576b"
             ],
             [
              0.6666666666666666,
              "#ed7953"
             ],
             [
              0.7777777777777778,
              "#fb9f3a"
             ],
             [
              0.8888888888888888,
              "#fdca26"
             ],
             [
              1,
              "#f0f921"
             ]
            ],
            "type": "histogram2d"
           }
          ],
          "histogram2dcontour": [
           {
            "colorbar": {
             "outlinewidth": 0,
             "ticks": ""
            },
            "colorscale": [
             [
              0,
              "#0d0887"
             ],
             [
              0.1111111111111111,
              "#46039f"
             ],
             [
              0.2222222222222222,
              "#7201a8"
             ],
             [
              0.3333333333333333,
              "#9c179e"
             ],
             [
              0.4444444444444444,
              "#bd3786"
             ],
             [
              0.5555555555555556,
              "#d8576b"
             ],
             [
              0.6666666666666666,
              "#ed7953"
             ],
             [
              0.7777777777777778,
              "#fb9f3a"
             ],
             [
              0.8888888888888888,
              "#fdca26"
             ],
             [
              1,
              "#f0f921"
             ]
            ],
            "type": "histogram2dcontour"
           }
          ],
          "mesh3d": [
           {
            "colorbar": {
             "outlinewidth": 0,
             "ticks": ""
            },
            "type": "mesh3d"
           }
          ],
          "parcoords": [
           {
            "line": {
             "colorbar": {
              "outlinewidth": 0,
              "ticks": ""
             }
            },
            "type": "parcoords"
           }
          ],
          "pie": [
           {
            "automargin": true,
            "type": "pie"
           }
          ],
          "scatter": [
           {
            "fillpattern": {
             "fillmode": "overlay",
             "size": 10,
             "solidity": 0.2
            },
            "type": "scatter"
           }
          ],
          "scatter3d": [
           {
            "line": {
             "colorbar": {
              "outlinewidth": 0,
              "ticks": ""
             }
            },
            "marker": {
             "colorbar": {
              "outlinewidth": 0,
              "ticks": ""
             }
            },
            "type": "scatter3d"
           }
          ],
          "scattercarpet": [
           {
            "marker": {
             "colorbar": {
              "outlinewidth": 0,
              "ticks": ""
             }
            },
            "type": "scattercarpet"
           }
          ],
          "scattergeo": [
           {
            "marker": {
             "colorbar": {
              "outlinewidth": 0,
              "ticks": ""
             }
            },
            "type": "scattergeo"
           }
          ],
          "scattergl": [
           {
            "marker": {
             "colorbar": {
              "outlinewidth": 0,
              "ticks": ""
             }
            },
            "type": "scattergl"
           }
          ],
          "scattermap": [
           {
            "marker": {
             "colorbar": {
              "outlinewidth": 0,
              "ticks": ""
             }
            },
            "type": "scattermap"
           }
          ],
          "scattermapbox": [
           {
            "marker": {
             "colorbar": {
              "outlinewidth": 0,
              "ticks": ""
             }
            },
            "type": "scattermapbox"
           }
          ],
          "scatterpolar": [
           {
            "marker": {
             "colorbar": {
              "outlinewidth": 0,
              "ticks": ""
             }
            },
            "type": "scatterpolar"
           }
          ],
          "scatterpolargl": [
           {
            "marker": {
             "colorbar": {
              "outlinewidth": 0,
              "ticks": ""
             }
            },
            "type": "scatterpolargl"
           }
          ],
          "scatterternary": [
           {
            "marker": {
             "colorbar": {
              "outlinewidth": 0,
              "ticks": ""
             }
            },
            "type": "scatterternary"
           }
          ],
          "surface": [
           {
            "colorbar": {
             "outlinewidth": 0,
             "ticks": ""
            },
            "colorscale": [
             [
              0,
              "#0d0887"
             ],
             [
              0.1111111111111111,
              "#46039f"
             ],
             [
              0.2222222222222222,
              "#7201a8"
             ],
             [
              0.3333333333333333,
              "#9c179e"
             ],
             [
              0.4444444444444444,
              "#bd3786"
             ],
             [
              0.5555555555555556,
              "#d8576b"
             ],
             [
              0.6666666666666666,
              "#ed7953"
             ],
             [
              0.7777777777777778,
              "#fb9f3a"
             ],
             [
              0.8888888888888888,
              "#fdca26"
             ],
             [
              1,
              "#f0f921"
             ]
            ],
            "type": "surface"
           }
          ],
          "table": [
           {
            "cells": {
             "fill": {
              "color": "#EBF0F8"
             },
             "line": {
              "color": "white"
             }
            },
            "header": {
             "fill": {
              "color": "#C8D4E3"
             },
             "line": {
              "color": "white"
             }
            },
            "type": "table"
           }
          ]
         },
         "layout": {
          "annotationdefaults": {
           "arrowcolor": "#2a3f5f",
           "arrowhead": 0,
           "arrowwidth": 1
          },
          "autotypenumbers": "strict",
          "coloraxis": {
           "colorbar": {
            "outlinewidth": 0,
            "ticks": ""
           }
          },
          "colorscale": {
           "diverging": [
            [
             0,
             "#8e0152"
            ],
            [
             0.1,
             "#c51b7d"
            ],
            [
             0.2,
             "#de77ae"
            ],
            [
             0.3,
             "#f1b6da"
            ],
            [
             0.4,
             "#fde0ef"
            ],
            [
             0.5,
             "#f7f7f7"
            ],
            [
             0.6,
             "#e6f5d0"
            ],
            [
             0.7,
             "#b8e186"
            ],
            [
             0.8,
             "#7fbc41"
            ],
            [
             0.9,
             "#4d9221"
            ],
            [
             1,
             "#276419"
            ]
           ],
           "sequential": [
            [
             0,
             "#0d0887"
            ],
            [
             0.1111111111111111,
             "#46039f"
            ],
            [
             0.2222222222222222,
             "#7201a8"
            ],
            [
             0.3333333333333333,
             "#9c179e"
            ],
            [
             0.4444444444444444,
             "#bd3786"
            ],
            [
             0.5555555555555556,
             "#d8576b"
            ],
            [
             0.6666666666666666,
             "#ed7953"
            ],
            [
             0.7777777777777778,
             "#fb9f3a"
            ],
            [
             0.8888888888888888,
             "#fdca26"
            ],
            [
             1,
             "#f0f921"
            ]
           ],
           "sequentialminus": [
            [
             0,
             "#0d0887"
            ],
            [
             0.1111111111111111,
             "#46039f"
            ],
            [
             0.2222222222222222,
             "#7201a8"
            ],
            [
             0.3333333333333333,
             "#9c179e"
            ],
            [
             0.4444444444444444,
             "#bd3786"
            ],
            [
             0.5555555555555556,
             "#d8576b"
            ],
            [
             0.6666666666666666,
             "#ed7953"
            ],
            [
             0.7777777777777778,
             "#fb9f3a"
            ],
            [
             0.8888888888888888,
             "#fdca26"
            ],
            [
             1,
             "#f0f921"
            ]
           ]
          },
          "colorway": [
           "#636efa",
           "#EF553B",
           "#00cc96",
           "#ab63fa",
           "#FFA15A",
           "#19d3f3",
           "#FF6692",
           "#B6E880",
           "#FF97FF",
           "#FECB52"
          ],
          "font": {
           "color": "#2a3f5f"
          },
          "geo": {
           "bgcolor": "white",
           "lakecolor": "white",
           "landcolor": "#E5ECF6",
           "showlakes": true,
           "showland": true,
           "subunitcolor": "white"
          },
          "hoverlabel": {
           "align": "left"
          },
          "hovermode": "closest",
          "mapbox": {
           "style": "light"
          },
          "paper_bgcolor": "white",
          "plot_bgcolor": "#E5ECF6",
          "polar": {
           "angularaxis": {
            "gridcolor": "white",
            "linecolor": "white",
            "ticks": ""
           },
           "bgcolor": "#E5ECF6",
           "radialaxis": {
            "gridcolor": "white",
            "linecolor": "white",
            "ticks": ""
           }
          },
          "scene": {
           "xaxis": {
            "backgroundcolor": "#E5ECF6",
            "gridcolor": "white",
            "gridwidth": 2,
            "linecolor": "white",
            "showbackground": true,
            "ticks": "",
            "zerolinecolor": "white"
           },
           "yaxis": {
            "backgroundcolor": "#E5ECF6",
            "gridcolor": "white",
            "gridwidth": 2,
            "linecolor": "white",
            "showbackground": true,
            "ticks": "",
            "zerolinecolor": "white"
           },
           "zaxis": {
            "backgroundcolor": "#E5ECF6",
            "gridcolor": "white",
            "gridwidth": 2,
            "linecolor": "white",
            "showbackground": true,
            "ticks": "",
            "zerolinecolor": "white"
           }
          },
          "shapedefaults": {
           "line": {
            "color": "#2a3f5f"
           }
          },
          "ternary": {
           "aaxis": {
            "gridcolor": "white",
            "linecolor": "white",
            "ticks": ""
           },
           "baxis": {
            "gridcolor": "white",
            "linecolor": "white",
            "ticks": ""
           },
           "bgcolor": "#E5ECF6",
           "caxis": {
            "gridcolor": "white",
            "linecolor": "white",
            "ticks": ""
           }
          },
          "title": {
           "x": 0.05
          },
          "xaxis": {
           "automargin": true,
           "gridcolor": "white",
           "linecolor": "white",
           "ticks": "",
           "title": {
            "standoff": 15
           },
           "zerolinecolor": "white",
           "zerolinewidth": 2
          },
          "yaxis": {
           "automargin": true,
           "gridcolor": "white",
           "linecolor": "white",
           "ticks": "",
           "title": {
            "standoff": 15
           },
           "zerolinecolor": "white",
           "zerolinewidth": 2
          }
         }
        },
        "title": {
         "text": "Diferença entre Nascimento e Obito (1900-2023)"
        },
        "updatemenus": [
         {
          "buttons": [
           {
            "args": [
             null,
             {
              "frame": {
               "duration": 500,
               "redraw": true
              },
              "fromcurrent": true,
              "mode": "immediate",
              "transition": {
               "duration": 500,
               "easing": "linear"
              }
             }
            ],
            "label": "&#9654;",
            "method": "animate"
           },
           {
            "args": [
             [
              null
             ],
             {
              "frame": {
               "duration": 0,
               "redraw": true
              },
              "fromcurrent": true,
              "mode": "immediate",
              "transition": {
               "duration": 0,
               "easing": "linear"
              }
             }
            ],
            "label": "&#9724;",
            "method": "animate"
           }
          ],
          "direction": "left",
          "pad": {
           "r": 10,
           "t": 70
          },
          "showactive": false,
          "type": "buttons",
          "x": 0.1,
          "xanchor": "right",
          "y": 0,
          "yanchor": "top"
         }
        ],
        "xaxis": {
         "anchor": "y",
         "domain": [
          0,
          1
         ],
         "range": [
          0,
          235284.50000000003
         ],
         "title": {
          "text": "Nascimento x Obitos"
         }
        },
        "yaxis": {
         "anchor": "x",
         "categoryarray": [
          "Total de Obitos",
          "Total de Nados-vivos"
         ],
         "categoryorder": "total ascending",
         "domain": [
          0,
          1
         ],
         "title": {
          "text": "Pessoas"
         }
        }
       }
      }
     },
     "metadata": {},
     "output_type": "display_data"
    }
   ],
   "source": [
    "import plotly.express as px\n",
    "\n",
    "grafico_dinamico = px.bar(\n",
    "    tabela_long,\n",
    "    y='Pessoas',           # barras horizontais para categorias Sexo\n",
    "    x='Nascimento x Obitos',   # valores no eixo x\n",
    "    color='Pessoas',\n",
    "    orientation='h',    # barras horizontais\n",
    "    animation_frame='Anos',    # animação por anos\n",
    "    animation_group='Pessoas',    # grupo de animação\n",
    "    range_x=[0, tabela_long['Nascimento x Obitos'].max() * 1.1],\n",
    "    color_discrete_map={'Total de Nados-vivos': 'blue', 'Total de Obitos': 'red'}, # cores específicas para cada categoria\n",
    "    title='Diferença entre Nascimento e Obito (1900-2023)',\n",
    "    text='Nascimento x Obitos',\n",
    ")\n",
    "\n",
    "grafico_dinamico.update_layout(yaxis={'categoryorder':'total ascending'})  # para ordem das barras\n",
    "grafico_dinamico.show()"
   ]
  },
  {
   "cell_type": "code",
   "execution_count": 36,
   "id": "96e46afc",
   "metadata": {},
   "outputs": [],
   "source": [
    "grafico_dinamico.write_html('Grafico_Dinamico_Nascimento_x_Obito.html')"
   ]
  },
  {
   "cell_type": "code",
   "execution_count": 20,
   "id": "b2e6b90b",
   "metadata": {},
   "outputs": [],
   "source": [
    "tabela = df_combinado[['Anos', 'Total de Obitos', 'Total de Nados-vivos']]"
   ]
  },
  {
   "cell_type": "code",
   "execution_count": 40,
   "id": "9d938c98",
   "metadata": {},
   "outputs": [
    {
     "data": {
      "application/vnd.plotly.v1+json": {
       "config": {
        "plotlyServerURL": "https://plot.ly"
       },
       "data": [
        {
         "alignmentgroup": "True",
         "hovertemplate": "variable=Total de Nados-vivos<br>Anos=%{x}<br>value=%{y}<extra></extra>",
         "legendgroup": "Total de Nados-vivos",
         "marker": {
          "color": "#636efa",
          "pattern": {
           "shape": ""
          }
         },
         "name": "Total de Nados-vivos",
         "offsetgroup": "Total de Nados-vivos",
         "orientation": "v",
         "showlegend": true,
         "textposition": "auto",
         "type": "bar",
         "x": {
          "bdata": "bAd2B4AHigeUB54HqAeyB7wHvQe+B78HwAfBB8IHwwfEB8UHxgfHB8gHyQfKB8sHzAfNB84HzwfQB9EH0gfTB9QH1QfWB9cH2AfZB9oH2wfcB90H3gffB+AH4QfiB+MH5AflB+YH5wc=",
          "dtype": "i2"
         },
         "xaxis": "x",
         "y": {
          "bdata": "fYUCAEnaAgCcGAMAIRcDAPTdAgBrIQMAh0MDANLBAgBlagIAB1ICANpNAgCoMwIAvy0CAJL9AQD77gEAK+EBAO3cAQDTzgEAYcYBAEvGAQDswAEAKL0BAKuqAQBZogEAta4BACW5AQDougEAIsUBAMjUAQCGuAEAz74BAIO3AQDyqgEAV6sBAOmbAQBckAEAkpgBAKOEAQAFjAEAWHoBAPFeAQBjQwEAv0EBAPxNAQBWVAEAilABAOxTAQAzUgEAMkoBAN42AQDXRgEAw04BAA==",
          "dtype": "i4"
         },
         "yaxis": "y"
        },
        {
         "alignmentgroup": "True",
         "hovertemplate": "variable=Total de Obitos<br>Anos=%{x}<br>value=%{y}<extra></extra>",
         "legendgroup": "Total de Obitos",
         "marker": {
          "color": "#EF553B",
          "pattern": {
           "shape": ""
          }
         },
         "name": "Total de Obitos",
         "offsetgroup": "Total de Obitos",
         "orientation": "v",
         "showlegend": true,
         "textposition": "auto",
         "type": "bar",
         "x": {
          "bdata": "bAd2B4AHigeUB54HqAeyB7wHvQe+B78HwAfBB8IHwwfEB8UHxgfHB8gHyQfKB8sHzAfNB84HzwfQB9EH0gfTB9QH1QfWB9cH2AfZB9oH2wfcB90H3gffB+AH4QfiB+MH5AflB+YH5wc=",
          "dtype": "i2"
         },
         "xaxis": "x",
         "y": {
          "bdata": "+q4BAAm6AQAOLgIAgMYBAKbWAQCOkQEAo3IBALZqAQBKcgEA8HUBANtoAQCzdwEAz3oBAD17AQAhdQEAfnMBADR+AQD/dQEAcJEBAMqVAQAeiQEA3p0BAKCDAQAzlAEAgaEBAEqZAQDWngEAX6UBAJSbAQCEmgEAEp8BAPuoAQB8jgEAyKMBAGaOAQBYlAEAWJcBAPKXAQDinQEAwJEBAFykAQA6oAEAi5kBAPunAQDtrwEAvqwBAJu5AQDjtAEABOIBAKnnAQDJ5QEAF84BAA==",
          "dtype": "i4"
         },
         "yaxis": "y"
        }
       ],
       "layout": {
        "barmode": "group",
        "legend": {
         "title": {
          "text": "variable"
         },
         "tracegroupgap": 0
        },
        "template": {
         "data": {
          "bar": [
           {
            "error_x": {
             "color": "#2a3f5f"
            },
            "error_y": {
             "color": "#2a3f5f"
            },
            "marker": {
             "line": {
              "color": "#E5ECF6",
              "width": 0.5
             },
             "pattern": {
              "fillmode": "overlay",
              "size": 10,
              "solidity": 0.2
             }
            },
            "type": "bar"
           }
          ],
          "barpolar": [
           {
            "marker": {
             "line": {
              "color": "#E5ECF6",
              "width": 0.5
             },
             "pattern": {
              "fillmode": "overlay",
              "size": 10,
              "solidity": 0.2
             }
            },
            "type": "barpolar"
           }
          ],
          "carpet": [
           {
            "aaxis": {
             "endlinecolor": "#2a3f5f",
             "gridcolor": "white",
             "linecolor": "white",
             "minorgridcolor": "white",
             "startlinecolor": "#2a3f5f"
            },
            "baxis": {
             "endlinecolor": "#2a3f5f",
             "gridcolor": "white",
             "linecolor": "white",
             "minorgridcolor": "white",
             "startlinecolor": "#2a3f5f"
            },
            "type": "carpet"
           }
          ],
          "choropleth": [
           {
            "colorbar": {
             "outlinewidth": 0,
             "ticks": ""
            },
            "type": "choropleth"
           }
          ],
          "contour": [
           {
            "colorbar": {
             "outlinewidth": 0,
             "ticks": ""
            },
            "colorscale": [
             [
              0,
              "#0d0887"
             ],
             [
              0.1111111111111111,
              "#46039f"
             ],
             [
              0.2222222222222222,
              "#7201a8"
             ],
             [
              0.3333333333333333,
              "#9c179e"
             ],
             [
              0.4444444444444444,
              "#bd3786"
             ],
             [
              0.5555555555555556,
              "#d8576b"
             ],
             [
              0.6666666666666666,
              "#ed7953"
             ],
             [
              0.7777777777777778,
              "#fb9f3a"
             ],
             [
              0.8888888888888888,
              "#fdca26"
             ],
             [
              1,
              "#f0f921"
             ]
            ],
            "type": "contour"
           }
          ],
          "contourcarpet": [
           {
            "colorbar": {
             "outlinewidth": 0,
             "ticks": ""
            },
            "type": "contourcarpet"
           }
          ],
          "heatmap": [
           {
            "colorbar": {
             "outlinewidth": 0,
             "ticks": ""
            },
            "colorscale": [
             [
              0,
              "#0d0887"
             ],
             [
              0.1111111111111111,
              "#46039f"
             ],
             [
              0.2222222222222222,
              "#7201a8"
             ],
             [
              0.3333333333333333,
              "#9c179e"
             ],
             [
              0.4444444444444444,
              "#bd3786"
             ],
             [
              0.5555555555555556,
              "#d8576b"
             ],
             [
              0.6666666666666666,
              "#ed7953"
             ],
             [
              0.7777777777777778,
              "#fb9f3a"
             ],
             [
              0.8888888888888888,
              "#fdca26"
             ],
             [
              1,
              "#f0f921"
             ]
            ],
            "type": "heatmap"
           }
          ],
          "histogram": [
           {
            "marker": {
             "pattern": {
              "fillmode": "overlay",
              "size": 10,
              "solidity": 0.2
             }
            },
            "type": "histogram"
           }
          ],
          "histogram2d": [
           {
            "colorbar": {
             "outlinewidth": 0,
             "ticks": ""
            },
            "colorscale": [
             [
              0,
              "#0d0887"
             ],
             [
              0.1111111111111111,
              "#46039f"
             ],
             [
              0.2222222222222222,
              "#7201a8"
             ],
             [
              0.3333333333333333,
              "#9c179e"
             ],
             [
              0.4444444444444444,
              "#bd3786"
             ],
             [
              0.5555555555555556,
              "#d8576b"
             ],
             [
              0.6666666666666666,
              "#ed7953"
             ],
             [
              0.7777777777777778,
              "#fb9f3a"
             ],
             [
              0.8888888888888888,
              "#fdca26"
             ],
             [
              1,
              "#f0f921"
             ]
            ],
            "type": "histogram2d"
           }
          ],
          "histogram2dcontour": [
           {
            "colorbar": {
             "outlinewidth": 0,
             "ticks": ""
            },
            "colorscale": [
             [
              0,
              "#0d0887"
             ],
             [
              0.1111111111111111,
              "#46039f"
             ],
             [
              0.2222222222222222,
              "#7201a8"
             ],
             [
              0.3333333333333333,
              "#9c179e"
             ],
             [
              0.4444444444444444,
              "#bd3786"
             ],
             [
              0.5555555555555556,
              "#d8576b"
             ],
             [
              0.6666666666666666,
              "#ed7953"
             ],
             [
              0.7777777777777778,
              "#fb9f3a"
             ],
             [
              0.8888888888888888,
              "#fdca26"
             ],
             [
              1,
              "#f0f921"
             ]
            ],
            "type": "histogram2dcontour"
           }
          ],
          "mesh3d": [
           {
            "colorbar": {
             "outlinewidth": 0,
             "ticks": ""
            },
            "type": "mesh3d"
           }
          ],
          "parcoords": [
           {
            "line": {
             "colorbar": {
              "outlinewidth": 0,
              "ticks": ""
             }
            },
            "type": "parcoords"
           }
          ],
          "pie": [
           {
            "automargin": true,
            "type": "pie"
           }
          ],
          "scatter": [
           {
            "fillpattern": {
             "fillmode": "overlay",
             "size": 10,
             "solidity": 0.2
            },
            "type": "scatter"
           }
          ],
          "scatter3d": [
           {
            "line": {
             "colorbar": {
              "outlinewidth": 0,
              "ticks": ""
             }
            },
            "marker": {
             "colorbar": {
              "outlinewidth": 0,
              "ticks": ""
             }
            },
            "type": "scatter3d"
           }
          ],
          "scattercarpet": [
           {
            "marker": {
             "colorbar": {
              "outlinewidth": 0,
              "ticks": ""
             }
            },
            "type": "scattercarpet"
           }
          ],
          "scattergeo": [
           {
            "marker": {
             "colorbar": {
              "outlinewidth": 0,
              "ticks": ""
             }
            },
            "type": "scattergeo"
           }
          ],
          "scattergl": [
           {
            "marker": {
             "colorbar": {
              "outlinewidth": 0,
              "ticks": ""
             }
            },
            "type": "scattergl"
           }
          ],
          "scattermap": [
           {
            "marker": {
             "colorbar": {
              "outlinewidth": 0,
              "ticks": ""
             }
            },
            "type": "scattermap"
           }
          ],
          "scattermapbox": [
           {
            "marker": {
             "colorbar": {
              "outlinewidth": 0,
              "ticks": ""
             }
            },
            "type": "scattermapbox"
           }
          ],
          "scatterpolar": [
           {
            "marker": {
             "colorbar": {
              "outlinewidth": 0,
              "ticks": ""
             }
            },
            "type": "scatterpolar"
           }
          ],
          "scatterpolargl": [
           {
            "marker": {
             "colorbar": {
              "outlinewidth": 0,
              "ticks": ""
             }
            },
            "type": "scatterpolargl"
           }
          ],
          "scatterternary": [
           {
            "marker": {
             "colorbar": {
              "outlinewidth": 0,
              "ticks": ""
             }
            },
            "type": "scatterternary"
           }
          ],
          "surface": [
           {
            "colorbar": {
             "outlinewidth": 0,
             "ticks": ""
            },
            "colorscale": [
             [
              0,
              "#0d0887"
             ],
             [
              0.1111111111111111,
              "#46039f"
             ],
             [
              0.2222222222222222,
              "#7201a8"
             ],
             [
              0.3333333333333333,
              "#9c179e"
             ],
             [
              0.4444444444444444,
              "#bd3786"
             ],
             [
              0.5555555555555556,
              "#d8576b"
             ],
             [
              0.6666666666666666,
              "#ed7953"
             ],
             [
              0.7777777777777778,
              "#fb9f3a"
             ],
             [
              0.8888888888888888,
              "#fdca26"
             ],
             [
              1,
              "#f0f921"
             ]
            ],
            "type": "surface"
           }
          ],
          "table": [
           {
            "cells": {
             "fill": {
              "color": "#EBF0F8"
             },
             "line": {
              "color": "white"
             }
            },
            "header": {
             "fill": {
              "color": "#C8D4E3"
             },
             "line": {
              "color": "white"
             }
            },
            "type": "table"
           }
          ]
         },
         "layout": {
          "annotationdefaults": {
           "arrowcolor": "#2a3f5f",
           "arrowhead": 0,
           "arrowwidth": 1
          },
          "autotypenumbers": "strict",
          "coloraxis": {
           "colorbar": {
            "outlinewidth": 0,
            "ticks": ""
           }
          },
          "colorscale": {
           "diverging": [
            [
             0,
             "#8e0152"
            ],
            [
             0.1,
             "#c51b7d"
            ],
            [
             0.2,
             "#de77ae"
            ],
            [
             0.3,
             "#f1b6da"
            ],
            [
             0.4,
             "#fde0ef"
            ],
            [
             0.5,
             "#f7f7f7"
            ],
            [
             0.6,
             "#e6f5d0"
            ],
            [
             0.7,
             "#b8e186"
            ],
            [
             0.8,
             "#7fbc41"
            ],
            [
             0.9,
             "#4d9221"
            ],
            [
             1,
             "#276419"
            ]
           ],
           "sequential": [
            [
             0,
             "#0d0887"
            ],
            [
             0.1111111111111111,
             "#46039f"
            ],
            [
             0.2222222222222222,
             "#7201a8"
            ],
            [
             0.3333333333333333,
             "#9c179e"
            ],
            [
             0.4444444444444444,
             "#bd3786"
            ],
            [
             0.5555555555555556,
             "#d8576b"
            ],
            [
             0.6666666666666666,
             "#ed7953"
            ],
            [
             0.7777777777777778,
             "#fb9f3a"
            ],
            [
             0.8888888888888888,
             "#fdca26"
            ],
            [
             1,
             "#f0f921"
            ]
           ],
           "sequentialminus": [
            [
             0,
             "#0d0887"
            ],
            [
             0.1111111111111111,
             "#46039f"
            ],
            [
             0.2222222222222222,
             "#7201a8"
            ],
            [
             0.3333333333333333,
             "#9c179e"
            ],
            [
             0.4444444444444444,
             "#bd3786"
            ],
            [
             0.5555555555555556,
             "#d8576b"
            ],
            [
             0.6666666666666666,
             "#ed7953"
            ],
            [
             0.7777777777777778,
             "#fb9f3a"
            ],
            [
             0.8888888888888888,
             "#fdca26"
            ],
            [
             1,
             "#f0f921"
            ]
           ]
          },
          "colorway": [
           "#636efa",
           "#EF553B",
           "#00cc96",
           "#ab63fa",
           "#FFA15A",
           "#19d3f3",
           "#FF6692",
           "#B6E880",
           "#FF97FF",
           "#FECB52"
          ],
          "font": {
           "color": "#2a3f5f"
          },
          "geo": {
           "bgcolor": "white",
           "lakecolor": "white",
           "landcolor": "#E5ECF6",
           "showlakes": true,
           "showland": true,
           "subunitcolor": "white"
          },
          "hoverlabel": {
           "align": "left"
          },
          "hovermode": "closest",
          "mapbox": {
           "style": "light"
          },
          "paper_bgcolor": "white",
          "plot_bgcolor": "#E5ECF6",
          "polar": {
           "angularaxis": {
            "gridcolor": "white",
            "linecolor": "white",
            "ticks": ""
           },
           "bgcolor": "#E5ECF6",
           "radialaxis": {
            "gridcolor": "white",
            "linecolor": "white",
            "ticks": ""
           }
          },
          "scene": {
           "xaxis": {
            "backgroundcolor": "#E5ECF6",
            "gridcolor": "white",
            "gridwidth": 2,
            "linecolor": "white",
            "showbackground": true,
            "ticks": "",
            "zerolinecolor": "white"
           },
           "yaxis": {
            "backgroundcolor": "#E5ECF6",
            "gridcolor": "white",
            "gridwidth": 2,
            "linecolor": "white",
            "showbackground": true,
            "ticks": "",
            "zerolinecolor": "white"
           },
           "zaxis": {
            "backgroundcolor": "#E5ECF6",
            "gridcolor": "white",
            "gridwidth": 2,
            "linecolor": "white",
            "showbackground": true,
            "ticks": "",
            "zerolinecolor": "white"
           }
          },
          "shapedefaults": {
           "line": {
            "color": "#2a3f5f"
           }
          },
          "ternary": {
           "aaxis": {
            "gridcolor": "white",
            "linecolor": "white",
            "ticks": ""
           },
           "baxis": {
            "gridcolor": "white",
            "linecolor": "white",
            "ticks": ""
           },
           "bgcolor": "#E5ECF6",
           "caxis": {
            "gridcolor": "white",
            "linecolor": "white",
            "ticks": ""
           }
          },
          "title": {
           "x": 0.05
          },
          "xaxis": {
           "automargin": true,
           "gridcolor": "white",
           "linecolor": "white",
           "ticks": "",
           "title": {
            "standoff": 15
           },
           "zerolinecolor": "white",
           "zerolinewidth": 2
          },
          "yaxis": {
           "automargin": true,
           "gridcolor": "white",
           "linecolor": "white",
           "ticks": "",
           "title": {
            "standoff": 15
           },
           "zerolinecolor": "white",
           "zerolinewidth": 2
          }
         }
        },
        "title": {
         "text": "Nascimentos x Obitos por Ano (1900-2023)"
        },
        "xaxis": {
         "anchor": "y",
         "domain": [
          0,
          1
         ],
         "title": {
          "text": "Anos"
         }
        },
        "yaxis": {
         "anchor": "x",
         "domain": [
          0,
          1
         ],
         "title": {
          "text": "value"
         }
        }
       }
      }
     },
     "metadata": {},
     "output_type": "display_data"
    }
   ],
   "source": [
    "import plotly.express as px\n",
    "grafico_barras = px.bar(\n",
    "    tabela,\n",
    "    x='Anos',\n",
    "    y=['Total de Nados-vivos', 'Total de Obitos'],\n",
    "    barmode='group',         # barras lado a lado\n",
    "    title='Nascimentos x Obitos por Ano (1900-2023)',\n",
    ")\n",
    "   \n",
    "\n",
    "grafico_barras.show()\n"
   ]
  },
  {
   "cell_type": "code",
   "execution_count": 39,
   "id": "cc4ec9db",
   "metadata": {},
   "outputs": [
    {
     "data": {
      "application/vnd.plotly.v1+json": {
       "config": {
        "plotlyServerURL": "https://plot.ly"
       },
       "data": [
        {
         "hovertemplate": "Categoria=Total de Nados-vivos<br>Anos=%{x}<br>Pessoas=%{y}<extra></extra>",
         "legendgroup": "Total de Nados-vivos",
         "line": {
          "color": "#636efa",
          "dash": "solid"
         },
         "marker": {
          "symbol": "circle"
         },
         "mode": "lines",
         "name": "Total de Nados-vivos",
         "orientation": "v",
         "showlegend": true,
         "type": "scatter",
         "x": {
          "bdata": "bAd2B4AHigeUB54HqAeyB7wHvQe+B78HwAfBB8IHwwfEB8UHxgfHB8gHyQfKB8sHzAfNB84HzwfQB9EH0gfTB9QH1QfWB9cH2AfZB9oH2wfcB90H3gffB+AH4QfiB+MH5AflB+YH5wc=",
          "dtype": "i2"
         },
         "xaxis": "x",
         "y": {
          "bdata": "fYUCAEnaAgCcGAMAIRcDAPTdAgBrIQMAh0MDANLBAgBlagIAB1ICANpNAgCoMwIAvy0CAJL9AQD77gEAK+EBAO3cAQDTzgEAYcYBAEvGAQDswAEAKL0BAKuqAQBZogEAta4BACW5AQDougEAIsUBAMjUAQCGuAEAz74BAIO3AQDyqgEAV6sBAOmbAQBckAEAkpgBAKOEAQAFjAEAWHoBAPFeAQBjQwEAv0EBAPxNAQBWVAEAilABAOxTAQAzUgEAMkoBAN42AQDXRgEAw04BAA==",
          "dtype": "i4"
         },
         "yaxis": "y"
        },
        {
         "hovertemplate": "Categoria=Total de Obitos<br>Anos=%{x}<br>Pessoas=%{y}<extra></extra>",
         "legendgroup": "Total de Obitos",
         "line": {
          "color": "#EF553B",
          "dash": "solid"
         },
         "marker": {
          "symbol": "circle"
         },
         "mode": "lines",
         "name": "Total de Obitos",
         "orientation": "v",
         "showlegend": true,
         "type": "scatter",
         "x": {
          "bdata": "bAd2B4AHigeUB54HqAeyB7wHvQe+B78HwAfBB8IHwwfEB8UHxgfHB8gHyQfKB8sHzAfNB84HzwfQB9EH0gfTB9QH1QfWB9cH2AfZB9oH2wfcB90H3gffB+AH4QfiB+MH5AflB+YH5wc=",
          "dtype": "i2"
         },
         "xaxis": "x",
         "y": {
          "bdata": "+q4BAAm6AQAOLgIAgMYBAKbWAQCOkQEAo3IBALZqAQBKcgEA8HUBANtoAQCzdwEAz3oBAD17AQAhdQEAfnMBADR+AQD/dQEAcJEBAMqVAQAeiQEA3p0BAKCDAQAzlAEAgaEBAEqZAQDWngEAX6UBAJSbAQCEmgEAEp8BAPuoAQB8jgEAyKMBAGaOAQBYlAEAWJcBAPKXAQDinQEAwJEBAFykAQA6oAEAi5kBAPunAQDtrwEAvqwBAJu5AQDjtAEABOIBAKnnAQDJ5QEAF84BAA==",
          "dtype": "i4"
         },
         "yaxis": "y"
        }
       ],
       "layout": {
        "legend": {
         "title": {
          "text": "Categoria"
         },
         "tracegroupgap": 0
        },
        "template": {
         "data": {
          "bar": [
           {
            "error_x": {
             "color": "#2a3f5f"
            },
            "error_y": {
             "color": "#2a3f5f"
            },
            "marker": {
             "line": {
              "color": "#E5ECF6",
              "width": 0.5
             },
             "pattern": {
              "fillmode": "overlay",
              "size": 10,
              "solidity": 0.2
             }
            },
            "type": "bar"
           }
          ],
          "barpolar": [
           {
            "marker": {
             "line": {
              "color": "#E5ECF6",
              "width": 0.5
             },
             "pattern": {
              "fillmode": "overlay",
              "size": 10,
              "solidity": 0.2
             }
            },
            "type": "barpolar"
           }
          ],
          "carpet": [
           {
            "aaxis": {
             "endlinecolor": "#2a3f5f",
             "gridcolor": "white",
             "linecolor": "white",
             "minorgridcolor": "white",
             "startlinecolor": "#2a3f5f"
            },
            "baxis": {
             "endlinecolor": "#2a3f5f",
             "gridcolor": "white",
             "linecolor": "white",
             "minorgridcolor": "white",
             "startlinecolor": "#2a3f5f"
            },
            "type": "carpet"
           }
          ],
          "choropleth": [
           {
            "colorbar": {
             "outlinewidth": 0,
             "ticks": ""
            },
            "type": "choropleth"
           }
          ],
          "contour": [
           {
            "colorbar": {
             "outlinewidth": 0,
             "ticks": ""
            },
            "colorscale": [
             [
              0,
              "#0d0887"
             ],
             [
              0.1111111111111111,
              "#46039f"
             ],
             [
              0.2222222222222222,
              "#7201a8"
             ],
             [
              0.3333333333333333,
              "#9c179e"
             ],
             [
              0.4444444444444444,
              "#bd3786"
             ],
             [
              0.5555555555555556,
              "#d8576b"
             ],
             [
              0.6666666666666666,
              "#ed7953"
             ],
             [
              0.7777777777777778,
              "#fb9f3a"
             ],
             [
              0.8888888888888888,
              "#fdca26"
             ],
             [
              1,
              "#f0f921"
             ]
            ],
            "type": "contour"
           }
          ],
          "contourcarpet": [
           {
            "colorbar": {
             "outlinewidth": 0,
             "ticks": ""
            },
            "type": "contourcarpet"
           }
          ],
          "heatmap": [
           {
            "colorbar": {
             "outlinewidth": 0,
             "ticks": ""
            },
            "colorscale": [
             [
              0,
              "#0d0887"
             ],
             [
              0.1111111111111111,
              "#46039f"
             ],
             [
              0.2222222222222222,
              "#7201a8"
             ],
             [
              0.3333333333333333,
              "#9c179e"
             ],
             [
              0.4444444444444444,
              "#bd3786"
             ],
             [
              0.5555555555555556,
              "#d8576b"
             ],
             [
              0.6666666666666666,
              "#ed7953"
             ],
             [
              0.7777777777777778,
              "#fb9f3a"
             ],
             [
              0.8888888888888888,
              "#fdca26"
             ],
             [
              1,
              "#f0f921"
             ]
            ],
            "type": "heatmap"
           }
          ],
          "histogram": [
           {
            "marker": {
             "pattern": {
              "fillmode": "overlay",
              "size": 10,
              "solidity": 0.2
             }
            },
            "type": "histogram"
           }
          ],
          "histogram2d": [
           {
            "colorbar": {
             "outlinewidth": 0,
             "ticks": ""
            },
            "colorscale": [
             [
              0,
              "#0d0887"
             ],
             [
              0.1111111111111111,
              "#46039f"
             ],
             [
              0.2222222222222222,
              "#7201a8"
             ],
             [
              0.3333333333333333,
              "#9c179e"
             ],
             [
              0.4444444444444444,
              "#bd3786"
             ],
             [
              0.5555555555555556,
              "#d8576b"
             ],
             [
              0.6666666666666666,
              "#ed7953"
             ],
             [
              0.7777777777777778,
              "#fb9f3a"
             ],
             [
              0.8888888888888888,
              "#fdca26"
             ],
             [
              1,
              "#f0f921"
             ]
            ],
            "type": "histogram2d"
           }
          ],
          "histogram2dcontour": [
           {
            "colorbar": {
             "outlinewidth": 0,
             "ticks": ""
            },
            "colorscale": [
             [
              0,
              "#0d0887"
             ],
             [
              0.1111111111111111,
              "#46039f"
             ],
             [
              0.2222222222222222,
              "#7201a8"
             ],
             [
              0.3333333333333333,
              "#9c179e"
             ],
             [
              0.4444444444444444,
              "#bd3786"
             ],
             [
              0.5555555555555556,
              "#d8576b"
             ],
             [
              0.6666666666666666,
              "#ed7953"
             ],
             [
              0.7777777777777778,
              "#fb9f3a"
             ],
             [
              0.8888888888888888,
              "#fdca26"
             ],
             [
              1,
              "#f0f921"
             ]
            ],
            "type": "histogram2dcontour"
           }
          ],
          "mesh3d": [
           {
            "colorbar": {
             "outlinewidth": 0,
             "ticks": ""
            },
            "type": "mesh3d"
           }
          ],
          "parcoords": [
           {
            "line": {
             "colorbar": {
              "outlinewidth": 0,
              "ticks": ""
             }
            },
            "type": "parcoords"
           }
          ],
          "pie": [
           {
            "automargin": true,
            "type": "pie"
           }
          ],
          "scatter": [
           {
            "fillpattern": {
             "fillmode": "overlay",
             "size": 10,
             "solidity": 0.2
            },
            "type": "scatter"
           }
          ],
          "scatter3d": [
           {
            "line": {
             "colorbar": {
              "outlinewidth": 0,
              "ticks": ""
             }
            },
            "marker": {
             "colorbar": {
              "outlinewidth": 0,
              "ticks": ""
             }
            },
            "type": "scatter3d"
           }
          ],
          "scattercarpet": [
           {
            "marker": {
             "colorbar": {
              "outlinewidth": 0,
              "ticks": ""
             }
            },
            "type": "scattercarpet"
           }
          ],
          "scattergeo": [
           {
            "marker": {
             "colorbar": {
              "outlinewidth": 0,
              "ticks": ""
             }
            },
            "type": "scattergeo"
           }
          ],
          "scattergl": [
           {
            "marker": {
             "colorbar": {
              "outlinewidth": 0,
              "ticks": ""
             }
            },
            "type": "scattergl"
           }
          ],
          "scattermap": [
           {
            "marker": {
             "colorbar": {
              "outlinewidth": 0,
              "ticks": ""
             }
            },
            "type": "scattermap"
           }
          ],
          "scattermapbox": [
           {
            "marker": {
             "colorbar": {
              "outlinewidth": 0,
              "ticks": ""
             }
            },
            "type": "scattermapbox"
           }
          ],
          "scatterpolar": [
           {
            "marker": {
             "colorbar": {
              "outlinewidth": 0,
              "ticks": ""
             }
            },
            "type": "scatterpolar"
           }
          ],
          "scatterpolargl": [
           {
            "marker": {
             "colorbar": {
              "outlinewidth": 0,
              "ticks": ""
             }
            },
            "type": "scatterpolargl"
           }
          ],
          "scatterternary": [
           {
            "marker": {
             "colorbar": {
              "outlinewidth": 0,
              "ticks": ""
             }
            },
            "type": "scatterternary"
           }
          ],
          "surface": [
           {
            "colorbar": {
             "outlinewidth": 0,
             "ticks": ""
            },
            "colorscale": [
             [
              0,
              "#0d0887"
             ],
             [
              0.1111111111111111,
              "#46039f"
             ],
             [
              0.2222222222222222,
              "#7201a8"
             ],
             [
              0.3333333333333333,
              "#9c179e"
             ],
             [
              0.4444444444444444,
              "#bd3786"
             ],
             [
              0.5555555555555556,
              "#d8576b"
             ],
             [
              0.6666666666666666,
              "#ed7953"
             ],
             [
              0.7777777777777778,
              "#fb9f3a"
             ],
             [
              0.8888888888888888,
              "#fdca26"
             ],
             [
              1,
              "#f0f921"
             ]
            ],
            "type": "surface"
           }
          ],
          "table": [
           {
            "cells": {
             "fill": {
              "color": "#EBF0F8"
             },
             "line": {
              "color": "white"
             }
            },
            "header": {
             "fill": {
              "color": "#C8D4E3"
             },
             "line": {
              "color": "white"
             }
            },
            "type": "table"
           }
          ]
         },
         "layout": {
          "annotationdefaults": {
           "arrowcolor": "#2a3f5f",
           "arrowhead": 0,
           "arrowwidth": 1
          },
          "autotypenumbers": "strict",
          "coloraxis": {
           "colorbar": {
            "outlinewidth": 0,
            "ticks": ""
           }
          },
          "colorscale": {
           "diverging": [
            [
             0,
             "#8e0152"
            ],
            [
             0.1,
             "#c51b7d"
            ],
            [
             0.2,
             "#de77ae"
            ],
            [
             0.3,
             "#f1b6da"
            ],
            [
             0.4,
             "#fde0ef"
            ],
            [
             0.5,
             "#f7f7f7"
            ],
            [
             0.6,
             "#e6f5d0"
            ],
            [
             0.7,
             "#b8e186"
            ],
            [
             0.8,
             "#7fbc41"
            ],
            [
             0.9,
             "#4d9221"
            ],
            [
             1,
             "#276419"
            ]
           ],
           "sequential": [
            [
             0,
             "#0d0887"
            ],
            [
             0.1111111111111111,
             "#46039f"
            ],
            [
             0.2222222222222222,
             "#7201a8"
            ],
            [
             0.3333333333333333,
             "#9c179e"
            ],
            [
             0.4444444444444444,
             "#bd3786"
            ],
            [
             0.5555555555555556,
             "#d8576b"
            ],
            [
             0.6666666666666666,
             "#ed7953"
            ],
            [
             0.7777777777777778,
             "#fb9f3a"
            ],
            [
             0.8888888888888888,
             "#fdca26"
            ],
            [
             1,
             "#f0f921"
            ]
           ],
           "sequentialminus": [
            [
             0,
             "#0d0887"
            ],
            [
             0.1111111111111111,
             "#46039f"
            ],
            [
             0.2222222222222222,
             "#7201a8"
            ],
            [
             0.3333333333333333,
             "#9c179e"
            ],
            [
             0.4444444444444444,
             "#bd3786"
            ],
            [
             0.5555555555555556,
             "#d8576b"
            ],
            [
             0.6666666666666666,
             "#ed7953"
            ],
            [
             0.7777777777777778,
             "#fb9f3a"
            ],
            [
             0.8888888888888888,
             "#fdca26"
            ],
            [
             1,
             "#f0f921"
            ]
           ]
          },
          "colorway": [
           "#636efa",
           "#EF553B",
           "#00cc96",
           "#ab63fa",
           "#FFA15A",
           "#19d3f3",
           "#FF6692",
           "#B6E880",
           "#FF97FF",
           "#FECB52"
          ],
          "font": {
           "color": "#2a3f5f"
          },
          "geo": {
           "bgcolor": "white",
           "lakecolor": "white",
           "landcolor": "#E5ECF6",
           "showlakes": true,
           "showland": true,
           "subunitcolor": "white"
          },
          "hoverlabel": {
           "align": "left"
          },
          "hovermode": "closest",
          "mapbox": {
           "style": "light"
          },
          "paper_bgcolor": "white",
          "plot_bgcolor": "#E5ECF6",
          "polar": {
           "angularaxis": {
            "gridcolor": "white",
            "linecolor": "white",
            "ticks": ""
           },
           "bgcolor": "#E5ECF6",
           "radialaxis": {
            "gridcolor": "white",
            "linecolor": "white",
            "ticks": ""
           }
          },
          "scene": {
           "xaxis": {
            "backgroundcolor": "#E5ECF6",
            "gridcolor": "white",
            "gridwidth": 2,
            "linecolor": "white",
            "showbackground": true,
            "ticks": "",
            "zerolinecolor": "white"
           },
           "yaxis": {
            "backgroundcolor": "#E5ECF6",
            "gridcolor": "white",
            "gridwidth": 2,
            "linecolor": "white",
            "showbackground": true,
            "ticks": "",
            "zerolinecolor": "white"
           },
           "zaxis": {
            "backgroundcolor": "#E5ECF6",
            "gridcolor": "white",
            "gridwidth": 2,
            "linecolor": "white",
            "showbackground": true,
            "ticks": "",
            "zerolinecolor": "white"
           }
          },
          "shapedefaults": {
           "line": {
            "color": "#2a3f5f"
           }
          },
          "ternary": {
           "aaxis": {
            "gridcolor": "white",
            "linecolor": "white",
            "ticks": ""
           },
           "baxis": {
            "gridcolor": "white",
            "linecolor": "white",
            "ticks": ""
           },
           "bgcolor": "#E5ECF6",
           "caxis": {
            "gridcolor": "white",
            "linecolor": "white",
            "ticks": ""
           }
          },
          "title": {
           "x": 0.05
          },
          "xaxis": {
           "automargin": true,
           "gridcolor": "white",
           "linecolor": "white",
           "ticks": "",
           "title": {
            "standoff": 15
           },
           "zerolinecolor": "white",
           "zerolinewidth": 2
          },
          "yaxis": {
           "automargin": true,
           "gridcolor": "white",
           "linecolor": "white",
           "ticks": "",
           "title": {
            "standoff": 15
           },
           "zerolinecolor": "white",
           "zerolinewidth": 2
          }
         }
        },
        "title": {
         "text": "Nascimentos x Obitos por Ano (1900-2023)"
        },
        "xaxis": {
         "anchor": "y",
         "domain": [
          0,
          1
         ],
         "title": {
          "text": "Anos"
         }
        },
        "yaxis": {
         "anchor": "x",
         "domain": [
          0,
          1
         ],
         "title": {
          "text": "Pessoas"
         }
        }
       }
      }
     },
     "metadata": {},
     "output_type": "display_data"
    }
   ],
   "source": [
    "grafico_linhas = px.line(\n",
    "    tabela,\n",
    "    x='Anos',\n",
    "    y=['Total de Nados-vivos', 'Total de Obitos'],\n",
    "    title='Nascimentos x Obitos por Ano (1900-2023)',\n",
    "    labels={'value': 'Pessoas', 'variable': 'Categoria'},\n",
    ")\n",
    "\n",
    "grafico_linhas.show()\n"
   ]
  }
 ],
 "metadata": {
  "kernelspec": {
   "display_name": "Python 3",
   "language": "python",
   "name": "python3"
  },
  "language_info": {
   "codemirror_mode": {
    "name": "ipython",
    "version": 3
   },
   "file_extension": ".py",
   "mimetype": "text/x-python",
   "name": "python",
   "nbconvert_exporter": "python",
   "pygments_lexer": "ipython3",
   "version": "3.12.7"
  }
 },
 "nbformat": 4,
 "nbformat_minor": 5
}
