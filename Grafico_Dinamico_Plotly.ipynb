{
 "cells": [
  {
   "cell_type": "code",
   "execution_count": 23,
   "id": "d5a61576",
   "metadata": {},
   "outputs": [],
   "source": [
    "import pandas as pd\n",
    "import plotly.express as px"
   ]
  },
  {
   "cell_type": "code",
   "execution_count": 5,
   "id": "16cc0218",
   "metadata": {},
   "outputs": [],
   "source": [
    "tabela = pd.read_csv('ETL_Natalidade_1900_a_2023.csv', sep=';', encoding='latin1')"
   ]
  },
  {
   "cell_type": "code",
   "execution_count": 24,
   "id": "9de33779",
   "metadata": {},
   "outputs": [
    {
     "data": {
      "application/vnd.plotly.v1+json": {
       "config": {
        "plotlyServerURL": "https://plot.ly"
       },
       "data": [
        {
         "hovertemplate": "Sexo=%{y}<br>Anos=1900<br>Nascimentos=%{text}<extra></extra>",
         "ids": [
          "Masculino"
         ],
         "legendgroup": "Masculino",
         "marker": {
          "color": "blue",
          "pattern": {
           "shape": ""
          }
         },
         "name": "Masculino",
         "orientation": "h",
         "showlegend": true,
         "text": {
          "bdata": "AAAAAKDR9EA=",
          "dtype": "f8"
         },
         "textposition": "auto",
         "type": "bar",
         "x": {
          "bdata": "Gk0BAA==",
          "dtype": "i4"
         },
         "xaxis": "x",
         "y": [
          "Masculino"
         ],
         "yaxis": "y"
        },
        {
         "hovertemplate": "Sexo=%{y}<br>Anos=1900<br>Nascimentos=%{text}<extra></extra>",
         "ids": [
          "Feminino"
         ],
         "legendgroup": "Feminino",
         "marker": {
          "color": "pink",
          "pattern": {
           "shape": ""
          }
         },
         "name": "Feminino",
         "orientation": "h",
         "showlegend": true,
         "text": {
          "bdata": "AAAAADCG80A=",
          "dtype": "f8"
         },
         "textposition": "auto",
         "type": "bar",
         "x": {
          "bdata": "YzgBAA==",
          "dtype": "i4"
         },
         "xaxis": "x",
         "y": [
          "Feminino"
         ],
         "yaxis": "y"
        }
       ],
       "frames": [
        {
         "data": [
          {
           "hovertemplate": "Sexo=%{y}<br>Anos=1900<br>Nascimentos=%{text}<extra></extra>",
           "ids": [
            "Masculino"
           ],
           "legendgroup": "Masculino",
           "marker": {
            "color": "blue",
            "pattern": {
             "shape": ""
            }
           },
           "name": "Masculino",
           "orientation": "h",
           "showlegend": true,
           "text": {
            "bdata": "AAAAAKDR9EA=",
            "dtype": "f8"
           },
           "textposition": "auto",
           "type": "bar",
           "x": {
            "bdata": "Gk0BAA==",
            "dtype": "i4"
           },
           "xaxis": "x",
           "y": [
            "Masculino"
           ],
           "yaxis": "y"
          },
          {
           "hovertemplate": "Sexo=%{y}<br>Anos=1900<br>Nascimentos=%{text}<extra></extra>",
           "ids": [
            "Feminino"
           ],
           "legendgroup": "Feminino",
           "marker": {
            "color": "pink",
            "pattern": {
             "shape": ""
            }
           },
           "name": "Feminino",
           "orientation": "h",
           "showlegend": true,
           "text": {
            "bdata": "AAAAADCG80A=",
            "dtype": "f8"
           },
           "textposition": "auto",
           "type": "bar",
           "x": {
            "bdata": "YzgBAA==",
            "dtype": "i4"
           },
           "xaxis": "x",
           "y": [
            "Feminino"
           ],
           "yaxis": "y"
          }
         ],
         "name": "1900"
        },
        {
         "data": [
          {
           "hovertemplate": "Sexo=%{y}<br>Anos=1910<br>Nascimentos=%{text}<extra></extra>",
           "ids": [
            "Masculino"
           ],
           "legendgroup": "Masculino",
           "marker": {
            "color": "blue",
            "pattern": {
             "shape": ""
            }
           },
           "name": "Masculino",
           "orientation": "h",
           "showlegend": true,
           "text": {
            "bdata": "AAAAANCk90A=",
            "dtype": "f8"
           },
           "textposition": "auto",
           "type": "bar",
           "x": {
            "bdata": "TXoBAA==",
            "dtype": "i4"
           },
           "xaxis": "x",
           "y": [
            "Masculino"
           ],
           "yaxis": "y"
          },
          {
           "hovertemplate": "Sexo=%{y}<br>Anos=1910<br>Nascimentos=%{text}<extra></extra>",
           "ids": [
            "Feminino"
           ],
           "legendgroup": "Feminino",
           "marker": {
            "color": "pink",
            "pattern": {
             "shape": ""
            }
           },
           "name": "Feminino",
           "orientation": "h",
           "showlegend": true,
           "text": {
            "bdata": "AAAAAMD/9UA=",
            "dtype": "f8"
           },
           "textposition": "auto",
           "type": "bar",
           "x": {
            "bdata": "/F8BAA==",
            "dtype": "i4"
           },
           "xaxis": "x",
           "y": [
            "Feminino"
           ],
           "yaxis": "y"
          }
         ],
         "name": "1910"
        },
        {
         "data": [
          {
           "hovertemplate": "Sexo=%{y}<br>Anos=1920<br>Nascimentos=%{text}<extra></extra>",
           "ids": [
            "Masculino"
           ],
           "legendgroup": "Masculino",
           "marker": {
            "color": "blue",
            "pattern": {
             "shape": ""
            }
           },
           "name": "Masculino",
           "orientation": "h",
           "showlegend": true,
           "text": {
            "bdata": "AAAAAABj+UA=",
            "dtype": "f8"
           },
           "textposition": "auto",
           "type": "bar",
           "x": {
            "bdata": "MJYBAA==",
            "dtype": "i4"
           },
           "xaxis": "x",
           "y": [
            "Masculino"
           ],
           "yaxis": "y"
          },
          {
           "hovertemplate": "Sexo=%{y}<br>Anos=1920<br>Nascimentos=%{text}<extra></extra>",
           "ids": [
            "Feminino"
           ],
           "legendgroup": "Feminino",
           "marker": {
            "color": "pink",
            "pattern": {
             "shape": ""
            }
           },
           "name": "Feminino",
           "orientation": "h",
           "showlegend": true,
           "text": {
            "bdata": "AAAAAMAm+EA=",
            "dtype": "f8"
           },
           "textposition": "auto",
           "type": "bar",
           "x": {
            "bdata": "bIIBAA==",
            "dtype": "i4"
           },
           "xaxis": "x",
           "y": [
            "Feminino"
           ],
           "yaxis": "y"
          }
         ],
         "name": "1920"
        },
        {
         "data": [
          {
           "hovertemplate": "Sexo=%{y}<br>Anos=1930<br>Nascimentos=%{text}<extra></extra>",
           "ids": [
            "Masculino"
           ],
           "legendgroup": "Masculino",
           "marker": {
            "color": "blue",
            "pattern": {
             "shape": ""
            }
           },
           "name": "Masculino",
           "orientation": "h",
           "showlegend": true,
           "text": {
            "bdata": "AAAAAIBf+UA=",
            "dtype": "f8"
           },
           "textposition": "auto",
           "type": "bar",
           "x": {
            "bdata": "+JUBAA==",
            "dtype": "i4"
           },
           "xaxis": "x",
           "y": [
            "Masculino"
           ],
           "yaxis": "y"
          },
          {
           "hovertemplate": "Sexo=%{y}<br>Anos=1930<br>Nascimentos=%{text}<extra></extra>",
           "ids": [
            "Feminino"
           ],
           "legendgroup": "Feminino",
           "marker": {
            "color": "pink",
            "pattern": {
             "shape": ""
            }
           },
           "name": "Feminino",
           "orientation": "h",
           "showlegend": true,
           "text": {
            "bdata": "AAAAAJAS+EA=",
            "dtype": "f8"
           },
           "textposition": "auto",
           "type": "bar",
           "x": {
            "bdata": "KYEBAA==",
            "dtype": "i4"
           },
           "xaxis": "x",
           "y": [
            "Feminino"
           ],
           "yaxis": "y"
          }
         ],
         "name": "1930"
        },
        {
         "data": [
          {
           "hovertemplate": "Sexo=%{y}<br>Anos=1940<br>Nascimentos=%{text}<extra></extra>",
           "ids": [
            "Masculino"
           ],
           "legendgroup": "Masculino",
           "marker": {
            "color": "blue",
            "pattern": {
             "shape": ""
            }
           },
           "name": "Masculino",
           "orientation": "h",
           "showlegend": true,
           "text": {
            "bdata": "AAAAALC390A=",
            "dtype": "f8"
           },
           "textposition": "auto",
           "type": "bar",
           "x": {
            "bdata": "e3sBAA==",
            "dtype": "i4"
           },
           "xaxis": "x",
           "y": [
            "Masculino"
           ],
           "yaxis": "y"
          },
          {
           "hovertemplate": "Sexo=%{y}<br>Anos=1940<br>Nascimentos=%{text}<extra></extra>",
           "ids": [
            "Feminino"
           ],
           "legendgroup": "Feminino",
           "marker": {
            "color": "pink",
            "pattern": {
             "shape": ""
            }
           },
           "name": "Feminino",
           "orientation": "h",
           "showlegend": true,
           "text": {
            "bdata": "AAAAAJAn9kA=",
            "dtype": "f8"
           },
           "textposition": "auto",
           "type": "bar",
           "x": {
            "bdata": "eWIBAA==",
            "dtype": "i4"
           },
           "xaxis": "x",
           "y": [
            "Feminino"
           ],
           "yaxis": "y"
          }
         ],
         "name": "1940"
        },
        {
         "data": [
          {
           "hovertemplate": "Sexo=%{y}<br>Anos=1950<br>Nascimentos=%{text}<extra></extra>",
           "ids": [
            "Masculino"
           ],
           "legendgroup": "Masculino",
           "marker": {
            "color": "blue",
            "pattern": {
             "shape": ""
            }
           },
           "name": "Masculino",
           "orientation": "h",
           "showlegend": true,
           "text": {
            "bdata": "AAAAAJDi+UA=",
            "dtype": "f8"
           },
           "textposition": "auto",
           "type": "bar",
           "x": {
            "bdata": "KZ4BAA==",
            "dtype": "i4"
           },
           "xaxis": "x",
           "y": [
            "Masculino"
           ],
           "yaxis": "y"
          },
          {
           "hovertemplate": "Sexo=%{y}<br>Anos=1950<br>Nascimentos=%{text}<extra></extra>",
           "ids": [
            "Feminino"
           ],
           "legendgroup": "Feminino",
           "marker": {
            "color": "pink",
            "pattern": {
             "shape": ""
            }
           },
           "name": "Feminino",
           "orientation": "h",
           "showlegend": true,
           "text": {
            "bdata": "AAAAACA0+EA=",
            "dtype": "f8"
           },
           "textposition": "auto",
           "type": "bar",
           "x": {
            "bdata": "QoMBAA==",
            "dtype": "i4"
           },
           "xaxis": "x",
           "y": [
            "Feminino"
           ],
           "yaxis": "y"
          }
         ],
         "name": "1950"
        },
        {
         "data": [
          {
           "hovertemplate": "Sexo=%{y}<br>Anos=1960<br>Nascimentos=%{text}<extra></extra>",
           "ids": [
            "Masculino"
           ],
           "legendgroup": "Masculino",
           "marker": {
            "color": "blue",
            "pattern": {
             "shape": ""
            }
           },
           "name": "Masculino",
           "orientation": "h",
           "showlegend": true,
           "text": {
            "bdata": "AAAAAFD5+kA=",
            "dtype": "f8"
           },
           "textposition": "auto",
           "type": "bar",
           "x": {
            "bdata": "la8BAA==",
            "dtype": "i4"
           },
           "xaxis": "x",
           "y": [
            "Masculino"
           ],
           "yaxis": "y"
          },
          {
           "hovertemplate": "Sexo=%{y}<br>Anos=1960<br>Nascimentos=%{text}<extra></extra>",
           "ids": [
            "Feminino"
           ],
           "legendgroup": "Feminino",
           "marker": {
            "color": "pink",
            "pattern": {
             "shape": ""
            }
           },
           "name": "Feminino",
           "orientation": "h",
           "showlegend": true,
           "text": {
            "bdata": "AAAAACA/+UA=",
            "dtype": "f8"
           },
           "textposition": "auto",
           "type": "bar",
           "x": {
            "bdata": "8pMBAA==",
            "dtype": "i4"
           },
           "xaxis": "x",
           "y": [
            "Feminino"
           ],
           "yaxis": "y"
          }
         ],
         "name": "1960"
        },
        {
         "data": [
          {
           "hovertemplate": "Sexo=%{y}<br>Anos=1970<br>Nascimentos=%{text}<extra></extra>",
           "ids": [
            "Masculino"
           ],
           "legendgroup": "Masculino",
           "marker": {
            "color": "blue",
            "pattern": {
             "shape": ""
            }
           },
           "name": "Masculino",
           "orientation": "h",
           "showlegend": true,
           "text": {
            "bdata": "AAAAAHDC9kA=",
            "dtype": "f8"
           },
           "textposition": "auto",
           "type": "bar",
           "x": {
            "bdata": "J2wBAA==",
            "dtype": "i4"
           },
           "xaxis": "x",
           "y": [
            "Masculino"
           ],
           "yaxis": "y"
          },
          {
           "hovertemplate": "Sexo=%{y}<br>Anos=1970<br>Nascimentos=%{text}<extra></extra>",
           "ids": [
            "Feminino"
           ],
           "legendgroup": "Feminino",
           "marker": {
            "color": "pink",
            "pattern": {
             "shape": ""
            }
           },
           "name": "Feminino",
           "orientation": "h",
           "showlegend": true,
           "text": {
            "bdata": "AAAAALBa9UA=",
            "dtype": "f8"
           },
           "textposition": "auto",
           "type": "bar",
           "x": {
            "bdata": "q1UBAA==",
            "dtype": "i4"
           },
           "xaxis": "x",
           "y": [
            "Feminino"
           ],
           "yaxis": "y"
          }
         ],
         "name": "1970"
        },
        {
         "data": [
          {
           "hovertemplate": "Sexo=%{y}<br>Anos=1980<br>Nascimentos=%{text}<extra></extra>",
           "ids": [
            "Masculino"
           ],
           "legendgroup": "Masculino",
           "marker": {
            "color": "blue",
            "pattern": {
             "shape": ""
            }
           },
           "name": "Masculino",
           "orientation": "h",
           "showlegend": true,
           "text": {
            "bdata": "AAAAAIDt80A=",
            "dtype": "f8"
           },
           "textposition": "auto",
           "type": "bar",
           "x": {
            "bdata": "2D4BAA==",
            "dtype": "i4"
           },
           "xaxis": "x",
           "y": [
            "Masculino"
           ],
           "yaxis": "y"
          },
          {
           "hovertemplate": "Sexo=%{y}<br>Anos=1980<br>Nascimentos=%{text}<extra></extra>",
           "ids": [
            "Feminino"
           ],
           "legendgroup": "Feminino",
           "marker": {
            "color": "pink",
            "pattern": {
             "shape": ""
            }
           },
           "name": "Feminino",
           "orientation": "h",
           "showlegend": true,
           "text": {
            "bdata": "AAAAANC48kA=",
            "dtype": "f8"
           },
           "textposition": "auto",
           "type": "bar",
           "x": {
            "bdata": "jSsBAA==",
            "dtype": "i4"
           },
           "xaxis": "x",
           "y": [
            "Feminino"
           ],
           "yaxis": "y"
          }
         ],
         "name": "1980"
        },
        {
         "data": [
          {
           "hovertemplate": "Sexo=%{y}<br>Anos=1981<br>Nascimentos=%{text}<extra></extra>",
           "ids": [
            "Masculino"
           ],
           "legendgroup": "Masculino",
           "marker": {
            "color": "blue",
            "pattern": {
             "shape": ""
            }
           },
           "name": "Masculino",
           "orientation": "h",
           "showlegend": true,
           "text": {
            "bdata": "AAAAALAf80A=",
            "dtype": "f8"
           },
           "textposition": "auto",
           "type": "bar",
           "x": {
            "bdata": "+zEBAA==",
            "dtype": "i4"
           },
           "xaxis": "x",
           "y": [
            "Masculino"
           ],
           "yaxis": "y"
          },
          {
           "hovertemplate": "Sexo=%{y}<br>Anos=1981<br>Nascimentos=%{text}<extra></extra>",
           "ids": [
            "Feminino"
           ],
           "legendgroup": "Feminino",
           "marker": {
            "color": "pink",
            "pattern": {
             "shape": ""
            }
           },
           "name": "Feminino",
           "orientation": "h",
           "showlegend": true,
           "text": {
            "bdata": "AAAAAMAA8kA=",
            "dtype": "f8"
           },
           "textposition": "auto",
           "type": "bar",
           "x": {
            "bdata": "DCABAA==",
            "dtype": "i4"
           },
           "xaxis": "x",
           "y": [
            "Feminino"
           ],
           "yaxis": "y"
          }
         ],
         "name": "1981"
        },
        {
         "data": [
          {
           "hovertemplate": "Sexo=%{y}<br>Anos=1982<br>Nascimentos=%{text}<extra></extra>",
           "ids": [
            "Masculino"
           ],
           "legendgroup": "Masculino",
           "marker": {
            "color": "blue",
            "pattern": {
             "shape": ""
            }
           },
           "name": "Masculino",
           "orientation": "h",
           "showlegend": true,
           "text": {
            "bdata": "AAAAAGAB80A=",
            "dtype": "f8"
           },
           "textposition": "auto",
           "type": "bar",
           "x": {
            "bdata": "FjABAA==",
            "dtype": "i4"
           },
           "xaxis": "x",
           "y": [
            "Masculino"
           ],
           "yaxis": "y"
          },
          {
           "hovertemplate": "Sexo=%{y}<br>Anos=1982<br>Nascimentos=%{text}<extra></extra>",
           "ids": [
            "Feminino"
           ],
           "legendgroup": "Feminino",
           "marker": {
            "color": "pink",
            "pattern": {
             "shape": ""
            }
           },
           "name": "Feminino",
           "orientation": "h",
           "showlegend": true,
           "text": {
            "bdata": "AAAAAEDc8UA=",
            "dtype": "f8"
           },
           "textposition": "auto",
           "type": "bar",
           "x": {
            "bdata": "xB0BAA==",
            "dtype": "i4"
           },
           "xaxis": "x",
           "y": [
            "Feminino"
           ],
           "yaxis": "y"
          }
         ],
         "name": "1982"
        },
        {
         "data": [
          {
           "hovertemplate": "Sexo=%{y}<br>Anos=1983<br>Nascimentos=%{text}<extra></extra>",
           "ids": [
            "Masculino"
           ],
           "legendgroup": "Masculino",
           "marker": {
            "color": "blue",
            "pattern": {
             "shape": ""
            }
           },
           "name": "Masculino",
           "orientation": "h",
           "showlegend": true,
           "text": {
            "bdata": "AAAAAIBC8kA=",
            "dtype": "f8"
           },
           "textposition": "auto",
           "type": "bar",
           "x": {
            "bdata": "KCQBAA==",
            "dtype": "i4"
           },
           "xaxis": "x",
           "y": [
            "Masculino"
           ],
           "yaxis": "y"
          },
          {
           "hovertemplate": "Sexo=%{y}<br>Anos=1983<br>Nascimentos=%{text}<extra></extra>",
           "ids": [
            "Feminino"
           ],
           "legendgroup": "Feminino",
           "marker": {
            "color": "pink",
            "pattern": {
             "shape": ""
            }
           },
           "name": "Feminino",
           "orientation": "h",
           "showlegend": true,
           "text": {
            "bdata": "AAAAAAD48EA=",
            "dtype": "f8"
           },
           "textposition": "auto",
           "type": "bar",
           "x": {
            "bdata": "gA8BAA==",
            "dtype": "i4"
           },
           "xaxis": "x",
           "y": [
            "Feminino"
           ],
           "yaxis": "y"
          }
         ],
         "name": "1983"
        },
        {
         "data": [
          {
           "hovertemplate": "Sexo=%{y}<br>Anos=1984<br>Nascimentos=%{text}<extra></extra>",
           "ids": [
            "Masculino"
           ],
           "legendgroup": "Masculino",
           "marker": {
            "color": "blue",
            "pattern": {
             "shape": ""
            }
           },
           "name": "Masculino",
           "orientation": "h",
           "showlegend": true,
           "text": {
            "bdata": "AAAAAMAJ8kA=",
            "dtype": "f8"
           },
           "textposition": "auto",
           "type": "bar",
           "x": {
            "bdata": "nCABAA==",
            "dtype": "i4"
           },
           "xaxis": "x",
           "y": [
            "Masculino"
           ],
           "yaxis": "y"
          },
          {
           "hovertemplate": "Sexo=%{y}<br>Anos=1984<br>Nascimentos=%{text}<extra></extra>",
           "ids": [
            "Feminino"
           ],
           "legendgroup": "Feminino",
           "marker": {
            "color": "pink",
            "pattern": {
             "shape": ""
            }
           },
           "name": "Feminino",
           "orientation": "h",
           "showlegend": true,
           "text": {
            "bdata": "AAAAADDS8EA=",
            "dtype": "f8"
           },
           "textposition": "auto",
           "type": "bar",
           "x": {
            "bdata": "Iw0BAA==",
            "dtype": "i4"
           },
           "xaxis": "x",
           "y": [
            "Feminino"
           ],
           "yaxis": "y"
          }
         ],
         "name": "1984"
        },
        {
         "data": [
          {
           "hovertemplate": "Sexo=%{y}<br>Anos=1985<br>Nascimentos=%{text}<extra></extra>",
           "ids": [
            "Masculino"
           ],
           "legendgroup": "Masculino",
           "marker": {
            "color": "blue",
            "pattern": {
             "shape": ""
            }
           },
           "name": "Masculino",
           "orientation": "h",
           "showlegend": true,
           "text": {
            "bdata": "AAAAADBw8EA=",
            "dtype": "f8"
           },
           "textposition": "auto",
           "type": "bar",
           "x": {
            "bdata": "AwcBAA==",
            "dtype": "i4"
           },
           "xaxis": "x",
           "y": [
            "Masculino"
           ],
           "yaxis": "y"
          },
          {
           "hovertemplate": "Sexo=%{y}<br>Anos=1985<br>Nascimentos=%{text}<extra></extra>",
           "ids": [
            "Feminino"
           ],
           "legendgroup": "Feminino",
           "marker": {
            "color": "pink",
            "pattern": {
             "shape": ""
            }
           },
           "name": "Feminino",
           "orientation": "h",
           "showlegend": true,
           "text": {
            "bdata": "AAAAAODR7kA=",
            "dtype": "f8"
           },
           "textposition": "auto",
           "type": "bar",
           "x": {
            "bdata": "j/YAAA==",
            "dtype": "i4"
           },
           "xaxis": "x",
           "y": [
            "Feminino"
           ],
           "yaxis": "y"
          }
         ],
         "name": "1985"
        },
        {
         "data": [
          {
           "hovertemplate": "Sexo=%{y}<br>Anos=1986<br>Nascimentos=%{text}<extra></extra>",
           "ids": [
            "Masculino"
           ],
           "legendgroup": "Masculino",
           "marker": {
            "color": "blue",
            "pattern": {
             "shape": ""
            }
           },
           "name": "Masculino",
           "orientation": "h",
           "showlegend": true,
           "text": {
            "bdata": "AAAAAADw70A=",
            "dtype": "f8"
           },
           "textposition": "auto",
           "type": "bar",
           "x": {
            "bdata": "gP8AAA==",
            "dtype": "i4"
           },
           "xaxis": "x",
           "y": [
            "Masculino"
           ],
           "yaxis": "y"
          },
          {
           "hovertemplate": "Sexo=%{y}<br>Anos=1986<br>Nascimentos=%{text}<extra></extra>",
           "ids": [
            "Feminino"
           ],
           "legendgroup": "Feminino",
           "marker": {
            "color": "pink",
            "pattern": {
             "shape": ""
            }
           },
           "name": "Feminino",
           "orientation": "h",
           "showlegend": true,
           "text": {
            "bdata": "AAAAAGDv7UA=",
            "dtype": "f8"
           },
           "textposition": "auto",
           "type": "bar",
           "x": {
            "bdata": "e+8AAA==",
            "dtype": "i4"
           },
           "xaxis": "x",
           "y": [
            "Feminino"
           ],
           "yaxis": "y"
          }
         ],
         "name": "1986"
        },
        {
         "data": [
          {
           "hovertemplate": "Sexo=%{y}<br>Anos=1987<br>Nascimentos=%{text}<extra></extra>",
           "ids": [
            "Masculino"
           ],
           "legendgroup": "Masculino",
           "marker": {
            "color": "blue",
            "pattern": {
             "shape": ""
            }
           },
           "name": "Masculino",
           "orientation": "h",
           "showlegend": true,
           "text": {
            "bdata": "AAAAAKAH70A=",
            "dtype": "f8"
           },
           "textposition": "auto",
           "type": "bar",
           "x": {
            "bdata": "PfgAAA==",
            "dtype": "i4"
           },
           "xaxis": "x",
           "y": [
            "Masculino"
           ],
           "yaxis": "y"
          },
          {
           "hovertemplate": "Sexo=%{y}<br>Anos=1987<br>Nascimentos=%{text}<extra></extra>",
           "ids": [
            "Feminino"
           ],
           "legendgroup": "Feminino",
           "marker": {
            "color": "pink",
            "pattern": {
             "shape": ""
            }
           },
           "name": "Feminino",
           "orientation": "h",
           "showlegend": true,
           "text": {
            "bdata": "AAAAAMAd7UA=",
            "dtype": "f8"
           },
           "textposition": "auto",
           "type": "bar",
           "x": {
            "bdata": "7ugAAA==",
            "dtype": "i4"
           },
           "xaxis": "x",
           "y": [
            "Feminino"
           ],
           "yaxis": "y"
          }
         ],
         "name": "1987"
        },
        {
         "data": [
          {
           "hovertemplate": "Sexo=%{y}<br>Anos=1988<br>Nascimentos=%{text}<extra></extra>",
           "ids": [
            "Masculino"
           ],
           "legendgroup": "Masculino",
           "marker": {
            "color": "blue",
            "pattern": {
             "shape": ""
            }
           },
           "name": "Masculino",
           "orientation": "h",
           "showlegend": true,
           "text": {
            "bdata": "AAAAAADE7kA=",
            "dtype": "f8"
           },
           "textposition": "auto",
           "type": "bar",
           "x": {
            "bdata": "IPYAAA==",
            "dtype": "i4"
           },
           "xaxis": "x",
           "y": [
            "Masculino"
           ],
           "yaxis": "y"
          },
          {
           "hovertemplate": "Sexo=%{y}<br>Anos=1988<br>Nascimentos=%{text}<extra></extra>",
           "ids": [
            "Feminino"
           ],
           "legendgroup": "Feminino",
           "marker": {
            "color": "pink",
            "pattern": {
             "shape": ""
            }
           },
           "name": "Feminino",
           "orientation": "h",
           "showlegend": true,
           "text": {
            "bdata": "AAAAAKDZ7EA=",
            "dtype": "f8"
           },
           "textposition": "auto",
           "type": "bar",
           "x": {
            "bdata": "zeYAAA==",
            "dtype": "i4"
           },
           "xaxis": "x",
           "y": [
            "Feminino"
           ],
           "yaxis": "y"
          }
         ],
         "name": "1988"
        },
        {
         "data": [
          {
           "hovertemplate": "Sexo=%{y}<br>Anos=1989<br>Nascimentos=%{text}<extra></extra>",
           "ids": [
            "Masculino"
           ],
           "legendgroup": "Masculino",
           "marker": {
            "color": "blue",
            "pattern": {
             "shape": ""
            }
           },
           "name": "Masculino",
           "orientation": "h",
           "showlegend": true,
           "text": {
            "bdata": "AAAAAEC37UA=",
            "dtype": "f8"
           },
           "textposition": "auto",
           "type": "bar",
           "x": {
            "bdata": "uu0AAA==",
            "dtype": "i4"
           },
           "xaxis": "x",
           "y": [
            "Masculino"
           ],
           "yaxis": "y"
          },
          {
           "hovertemplate": "Sexo=%{y}<br>Anos=1989<br>Nascimentos=%{text}<extra></extra>",
           "ids": [
            "Feminino"
           ],
           "legendgroup": "Feminino",
           "marker": {
            "color": "pink",
            "pattern": {
             "shape": ""
            }
           },
           "name": "Feminino",
           "orientation": "h",
           "showlegend": true,
           "text": {
            "bdata": "AAAAACAj7EA=",
            "dtype": "f8"
           },
           "textposition": "auto",
           "type": "bar",
           "x": {
            "bdata": "GeEAAA==",
            "dtype": "i4"
           },
           "xaxis": "x",
           "y": [
            "Feminino"
           ],
           "yaxis": "y"
          }
         ],
         "name": "1989"
        },
        {
         "data": [
          {
           "hovertemplate": "Sexo=%{y}<br>Anos=1990<br>Nascimentos=%{text}<extra></extra>",
           "ids": [
            "Masculino"
           ],
           "legendgroup": "Masculino",
           "marker": {
            "color": "blue",
            "pattern": {
             "shape": ""
            }
           },
           "name": "Masculino",
           "orientation": "h",
           "showlegend": true,
           "text": {
            "bdata": "AAAAAMBB7UA=",
            "dtype": "f8"
           },
           "textposition": "auto",
           "type": "bar",
           "x": {
            "bdata": "DuoAAA==",
            "dtype": "i4"
           },
           "xaxis": "x",
           "y": [
            "Masculino"
           ],
           "yaxis": "y"
          },
          {
           "hovertemplate": "Sexo=%{y}<br>Anos=1990<br>Nascimentos=%{text}<extra></extra>",
           "ids": [
            "Feminino"
           ],
           "legendgroup": "Feminino",
           "marker": {
            "color": "pink",
            "pattern": {
             "shape": ""
            }
           },
           "name": "Feminino",
           "orientation": "h",
           "showlegend": true,
           "text": {
            "bdata": "AAAAAGCK60A=",
            "dtype": "f8"
           },
           "textposition": "auto",
           "type": "bar",
           "x": {
            "bdata": "U9wAAA==",
            "dtype": "i4"
           },
           "xaxis": "x",
           "y": [
            "Feminino"
           ],
           "yaxis": "y"
          }
         ],
         "name": "1990"
        },
        {
         "data": [
          {
           "hovertemplate": "Sexo=%{y}<br>Anos=1991<br>Nascimentos=%{text}<extra></extra>",
           "ids": [
            "Masculino"
           ],
           "legendgroup": "Masculino",
           "marker": {
            "color": "blue",
            "pattern": {
             "shape": ""
            }
           },
           "name": "Masculino",
           "orientation": "h",
           "showlegend": true,
           "text": {
            "bdata": "AAAAAMA67UA=",
            "dtype": "f8"
           },
           "textposition": "auto",
           "type": "bar",
           "x": {
            "bdata": "1ukAAA==",
            "dtype": "i4"
           },
           "xaxis": "x",
           "y": [
            "Masculino"
           ],
           "yaxis": "y"
          },
          {
           "hovertemplate": "Sexo=%{y}<br>Anos=1991<br>Nascimentos=%{text}<extra></extra>",
           "ids": [
            "Feminino"
           ],
           "legendgroup": "Feminino",
           "marker": {
            "color": "pink",
            "pattern": {
             "shape": ""
            }
           },
           "name": "Feminino",
           "orientation": "h",
           "showlegend": true,
           "text": {
            "bdata": "AAAAAKCO60A=",
            "dtype": "f8"
           },
           "textposition": "auto",
           "type": "bar",
           "x": {
            "bdata": "ddwAAA==",
            "dtype": "i4"
           },
           "xaxis": "x",
           "y": [
            "Feminino"
           ],
           "yaxis": "y"
          }
         ],
         "name": "1991"
        },
        {
         "data": [
          {
           "hovertemplate": "Sexo=%{y}<br>Anos=1992<br>Nascimentos=%{text}<extra></extra>",
           "ids": [
            "Masculino"
           ],
           "legendgroup": "Masculino",
           "marker": {
            "color": "blue",
            "pattern": {
             "shape": ""
            }
           },
           "name": "Masculino",
           "orientation": "h",
           "showlegend": true,
           "text": {
            "bdata": "AAAAAIC77EA=",
            "dtype": "f8"
           },
           "textposition": "auto",
           "type": "bar",
           "x": {
            "bdata": "3OUAAA==",
            "dtype": "i4"
           },
           "xaxis": "x",
           "y": [
            "Masculino"
           ],
           "yaxis": "y"
          },
          {
           "hovertemplate": "Sexo=%{y}<br>Anos=1992<br>Nascimentos=%{text}<extra></extra>",
           "ids": [
            "Feminino"
           ],
           "legendgroup": "Feminino",
           "marker": {
            "color": "pink",
            "pattern": {
             "shape": ""
            }
           },
           "name": "Feminino",
           "orientation": "h",
           "showlegend": true,
           "text": {
            "bdata": "AAAAAABi60A=",
            "dtype": "f8"
           },
           "textposition": "auto",
           "type": "bar",
           "x": {
            "bdata": "ENsAAA==",
            "dtype": "i4"
           },
           "xaxis": "x",
           "y": [
            "Feminino"
           ],
           "yaxis": "y"
          }
         ],
         "name": "1992"
        },
        {
         "data": [
          {
           "hovertemplate": "Sexo=%{y}<br>Anos=1993<br>Nascimentos=%{text}<extra></extra>",
           "ids": [
            "Masculino"
           ],
           "legendgroup": "Masculino",
           "marker": {
            "color": "blue",
            "pattern": {
             "shape": ""
            }
           },
           "name": "Masculino",
           "orientation": "h",
           "showlegend": true,
           "text": {
            "bdata": "AAAAAICC7EA=",
            "dtype": "f8"
           },
           "textposition": "auto",
           "type": "bar",
           "x": {
            "bdata": "FOQAAA==",
            "dtype": "i4"
           },
           "xaxis": "x",
           "y": [
            "Masculino"
           ],
           "yaxis": "y"
          },
          {
           "hovertemplate": "Sexo=%{y}<br>Anos=1993<br>Nascimentos=%{text}<extra></extra>",
           "ids": [
            "Feminino"
           ],
           "legendgroup": "Feminino",
           "marker": {
            "color": "pink",
            "pattern": {
             "shape": ""
            }
           },
           "name": "Feminino",
           "orientation": "h",
           "showlegend": true,
           "text": {
            "bdata": "AAAAAIAi60A=",
            "dtype": "f8"
           },
           "textposition": "auto",
           "type": "bar",
           "x": {
            "bdata": "FNkAAA==",
            "dtype": "i4"
           },
           "xaxis": "x",
           "y": [
            "Feminino"
           ],
           "yaxis": "y"
          }
         ],
         "name": "1993"
        },
        {
         "data": [
          {
           "hovertemplate": "Sexo=%{y}<br>Anos=1994<br>Nascimentos=%{text}<extra></extra>",
           "ids": [
            "Masculino"
           ],
           "legendgroup": "Masculino",
           "marker": {
            "color": "blue",
            "pattern": {
             "shape": ""
            }
           },
           "name": "Masculino",
           "orientation": "h",
           "showlegend": true,
           "text": {
            "bdata": "AAAAAOCO60A=",
            "dtype": "f8"
           },
           "textposition": "auto",
           "type": "bar",
           "x": {
            "bdata": "d9wAAA==",
            "dtype": "i4"
           },
           "xaxis": "x",
           "y": [
            "Masculino"
           ],
           "yaxis": "y"
          },
          {
           "hovertemplate": "Sexo=%{y}<br>Anos=1994<br>Nascimentos=%{text}<extra></extra>",
           "ids": [
            "Feminino"
           ],
           "legendgroup": "Feminino",
           "marker": {
            "color": "pink",
            "pattern": {
             "shape": ""
            }
           },
           "name": "Feminino",
           "orientation": "h",
           "showlegend": true,
           "text": {
            "bdata": "AAAAAIDG6UA=",
            "dtype": "f8"
           },
           "textposition": "auto",
           "type": "bar",
           "x": {
            "bdata": "NM4AAA==",
            "dtype": "i4"
           },
           "xaxis": "x",
           "y": [
            "Feminino"
           ],
           "yaxis": "y"
          }
         ],
         "name": "1994"
        },
        {
         "data": [
          {
           "hovertemplate": "Sexo=%{y}<br>Anos=1995<br>Nascimentos=%{text}<extra></extra>",
           "ids": [
            "Masculino"
           ],
           "legendgroup": "Masculino",
           "marker": {
            "color": "blue",
            "pattern": {
             "shape": ""
            }
           },
           "name": "Masculino",
           "orientation": "h",
           "showlegend": true,
           "text": {
            "bdata": "AAAAAMAt60A=",
            "dtype": "f8"
           },
           "textposition": "auto",
           "type": "bar",
           "x": {
            "bdata": "btkAAA==",
            "dtype": "i4"
           },
           "xaxis": "x",
           "y": [
            "Masculino"
           ],
           "yaxis": "y"
          },
          {
           "hovertemplate": "Sexo=%{y}<br>Anos=1995<br>Nascimentos=%{text}<extra></extra>",
           "ids": [
            "Feminino"
           ],
           "legendgroup": "Feminino",
           "marker": {
            "color": "pink",
            "pattern": {
             "shape": ""
            }
           },
           "name": "Feminino",
           "orientation": "h",
           "showlegend": true,
           "text": {
            "bdata": "AAAAAGAd6UA=",
            "dtype": "f8"
           },
           "textposition": "auto",
           "type": "bar",
           "x": {
            "bdata": "68gAAA==",
            "dtype": "i4"
           },
           "xaxis": "x",
           "y": [
            "Feminino"
           ],
           "yaxis": "y"
          }
         ],
         "name": "1995"
        },
        {
         "data": [
          {
           "hovertemplate": "Sexo=%{y}<br>Anos=1996<br>Nascimentos=%{text}<extra></extra>",
           "ids": [
            "Masculino"
           ],
           "legendgroup": "Masculino",
           "marker": {
            "color": "blue",
            "pattern": {
             "shape": ""
            }
           },
           "name": "Masculino",
           "orientation": "h",
           "showlegend": true,
           "text": {
            "bdata": "AAAAAID960A=",
            "dtype": "f8"
           },
           "textposition": "auto",
           "type": "bar",
           "x": {
            "bdata": "7N8AAA==",
            "dtype": "i4"
           },
           "xaxis": "x",
           "y": [
            "Masculino"
           ],
           "yaxis": "y"
          },
          {
           "hovertemplate": "Sexo=%{y}<br>Anos=1996<br>Nascimentos=%{text}<extra></extra>",
           "ids": [
            "Feminino"
           ],
           "legendgroup": "Feminino",
           "marker": {
            "color": "pink",
            "pattern": {
             "shape": ""
            }
           },
           "name": "Feminino",
           "orientation": "h",
           "showlegend": true,
           "text": {
            "bdata": "AAAAACDZ6UA=",
            "dtype": "f8"
           },
           "textposition": "auto",
           "type": "bar",
           "x": {
            "bdata": "yc4AAA==",
            "dtype": "i4"
           },
           "xaxis": "x",
           "y": [
            "Feminino"
           ],
           "yaxis": "y"
          }
         ],
         "name": "1996"
        },
        {
         "data": [
          {
           "hovertemplate": "Sexo=%{y}<br>Anos=1997<br>Nascimentos=%{text}<extra></extra>",
           "ids": [
            "Masculino"
           ],
           "legendgroup": "Masculino",
           "marker": {
            "color": "blue",
            "pattern": {
             "shape": ""
            }
           },
           "name": "Masculino",
           "orientation": "h",
           "showlegend": true,
           "text": {
            "bdata": "AAAAAKBW7EA=",
            "dtype": "f8"
           },
           "textposition": "auto",
           "type": "bar",
           "x": {
            "bdata": "teIAAA==",
            "dtype": "i4"
           },
           "xaxis": "x",
           "y": [
            "Masculino"
           ],
           "yaxis": "y"
          },
          {
           "hovertemplate": "Sexo=%{y}<br>Anos=1997<br>Nascimentos=%{text}<extra></extra>",
           "ids": [
            "Feminino"
           ],
           "legendgroup": "Feminino",
           "marker": {
            "color": "pink",
            "pattern": {
             "shape": ""
            }
           },
           "name": "Feminino",
           "orientation": "h",
           "showlegend": true,
           "text": {
            "bdata": "AAAAAADO6kA=",
            "dtype": "f8"
           },
           "textposition": "auto",
           "type": "bar",
           "x": {
            "bdata": "cNYAAA==",
            "dtype": "i4"
           },
           "xaxis": "x",
           "y": [
            "Feminino"
           ],
           "yaxis": "y"
          }
         ],
         "name": "1997"
        },
        {
         "data": [
          {
           "hovertemplate": "Sexo=%{y}<br>Anos=1998<br>Nascimentos=%{text}<extra></extra>",
           "ids": [
            "Masculino"
           ],
           "legendgroup": "Masculino",
           "marker": {
            "color": "blue",
            "pattern": {
             "shape": ""
            }
           },
           "name": "Masculino",
           "orientation": "h",
           "showlegend": true,
           "text": {
            "bdata": "AAAAAECU7EA=",
            "dtype": "f8"
           },
           "textposition": "auto",
           "type": "bar",
           "x": {
            "bdata": "ouQAAA==",
            "dtype": "i4"
           },
           "xaxis": "x",
           "y": [
            "Masculino"
           ],
           "yaxis": "y"
          },
          {
           "hovertemplate": "Sexo=%{y}<br>Anos=1998<br>Nascimentos=%{text}<extra></extra>",
           "ids": [
            "Feminino"
           ],
           "legendgroup": "Feminino",
           "marker": {
            "color": "pink",
            "pattern": {
             "shape": ""
            }
           },
           "name": "Feminino",
           "orientation": "h",
           "showlegend": true,
           "text": {
            "bdata": "AAAAAMDI6kA=",
            "dtype": "f8"
           },
           "textposition": "auto",
           "type": "bar",
           "x": {
            "bdata": "RtYAAA==",
            "dtype": "i4"
           },
           "xaxis": "x",
           "y": [
            "Feminino"
           ],
           "yaxis": "y"
          }
         ],
         "name": "1998"
        },
        {
         "data": [
          {
           "hovertemplate": "Sexo=%{y}<br>Anos=1999<br>Nascimentos=%{text}<extra></extra>",
           "ids": [
            "Masculino"
           ],
           "legendgroup": "Masculino",
           "marker": {
            "color": "blue",
            "pattern": {
             "shape": ""
            }
           },
           "name": "Masculino",
           "orientation": "h",
           "showlegend": true,
           "text": {
            "bdata": "AAAAAMAv7UA=",
            "dtype": "f8"
           },
           "textposition": "auto",
           "type": "bar",
           "x": {
            "bdata": "fukAAA==",
            "dtype": "i4"
           },
           "xaxis": "x",
           "y": [
            "Masculino"
           ],
           "yaxis": "y"
          },
          {
           "hovertemplate": "Sexo=%{y}<br>Anos=1999<br>Nascimentos=%{text}<extra></extra>",
           "ids": [
            "Feminino"
           ],
           "legendgroup": "Feminino",
           "marker": {
            "color": "pink",
            "pattern": {
             "shape": ""
            }
           },
           "name": "Feminino",
           "orientation": "h",
           "showlegend": true,
           "text": {
            "bdata": "AAAAAIB060A=",
            "dtype": "f8"
           },
           "textposition": "auto",
           "type": "bar",
           "x": {
            "bdata": "pNsAAA==",
            "dtype": "i4"
           },
           "xaxis": "x",
           "y": [
            "Feminino"
           ],
           "yaxis": "y"
          }
         ],
         "name": "1999"
        },
        {
         "data": [
          {
           "hovertemplate": "Sexo=%{y}<br>Anos=2000<br>Nascimentos=%{text}<extra></extra>",
           "ids": [
            "Masculino"
           ],
           "legendgroup": "Masculino",
           "marker": {
            "color": "blue",
            "pattern": {
             "shape": ""
            }
           },
           "name": "Masculino",
           "orientation": "h",
           "showlegend": true,
           "text": {
            "bdata": "AAAAAMBh7kA=",
            "dtype": "f8"
           },
           "textposition": "auto",
           "type": "bar",
           "x": {
            "bdata": "DvMAAA==",
            "dtype": "i4"
           },
           "xaxis": "x",
           "y": [
            "Masculino"
           ],
           "yaxis": "y"
          },
          {
           "hovertemplate": "Sexo=%{y}<br>Anos=2000<br>Nascimentos=%{text}<extra></extra>",
           "ids": [
            "Feminino"
           ],
           "legendgroup": "Feminino",
           "marker": {
            "color": "pink",
            "pattern": {
             "shape": ""
            }
           },
           "name": "Feminino",
           "orientation": "h",
           "showlegend": true,
           "text": {
            "bdata": "AAAAAEA37EA=",
            "dtype": "f8"
           },
           "textposition": "auto",
           "type": "bar",
           "x": {
            "bdata": "uuEAAA==",
            "dtype": "i4"
           },
           "xaxis": "x",
           "y": [
            "Feminino"
           ],
           "yaxis": "y"
          }
         ],
         "name": "2000"
        },
        {
         "data": [
          {
           "hovertemplate": "Sexo=%{y}<br>Anos=2001<br>Nascimentos=%{text}<extra></extra>",
           "ids": [
            "Masculino"
           ],
           "legendgroup": "Masculino",
           "marker": {
            "color": "blue",
            "pattern": {
             "shape": ""
            }
           },
           "name": "Masculino",
           "orientation": "h",
           "showlegend": true,
           "text": {
            "bdata": "AAAAAKB/7EA=",
            "dtype": "f8"
           },
           "textposition": "auto",
           "type": "bar",
           "x": {
            "bdata": "/eMAAA==",
            "dtype": "i4"
           },
           "xaxis": "x",
           "y": [
            "Masculino"
           ],
           "yaxis": "y"
          },
          {
           "hovertemplate": "Sexo=%{y}<br>Anos=2001<br>Nascimentos=%{text}<extra></extra>",
           "ids": [
            "Feminino"
           ],
           "legendgroup": "Feminino",
           "marker": {
            "color": "pink",
            "pattern": {
             "shape": ""
            }
           },
           "name": "Feminino",
           "orientation": "h",
           "showlegend": true,
           "text": {
            "bdata": "AAAAACCR6kA=",
            "dtype": "f8"
           },
           "textposition": "auto",
           "type": "bar",
           "x": {
            "bdata": "idQAAA==",
            "dtype": "i4"
           },
           "xaxis": "x",
           "y": [
            "Feminino"
           ],
           "yaxis": "y"
          }
         ],
         "name": "2001"
        },
        {
         "data": [
          {
           "hovertemplate": "Sexo=%{y}<br>Anos=2002<br>Nascimentos=%{text}<extra></extra>",
           "ids": [
            "Masculino"
           ],
           "legendgroup": "Masculino",
           "marker": {
            "color": "blue",
            "pattern": {
             "shape": ""
            }
           },
           "name": "Masculino",
           "orientation": "h",
           "showlegend": true,
           "text": {
            "bdata": "AAAAAOD07EA=",
            "dtype": "f8"
           },
           "textposition": "auto",
           "type": "bar",
           "x": {
            "bdata": "p+cAAA==",
            "dtype": "i4"
           },
           "xaxis": "x",
           "y": [
            "Masculino"
           ],
           "yaxis": "y"
          },
          {
           "hovertemplate": "Sexo=%{y}<br>Anos=2002<br>Nascimentos=%{text}<extra></extra>",
           "ids": [
            "Feminino"
           ],
           "legendgroup": "Feminino",
           "marker": {
            "color": "pink",
            "pattern": {
             "shape": ""
            }
           },
           "name": "Feminino",
           "orientation": "h",
           "showlegend": true,
           "text": {
            "bdata": "AAAAAADl6kA=",
            "dtype": "f8"
           },
           "textposition": "auto",
           "type": "bar",
           "x": {
            "bdata": "KNcAAA==",
            "dtype": "i4"
           },
           "xaxis": "x",
           "y": [
            "Feminino"
           ],
           "yaxis": "y"
          }
         ],
         "name": "2002"
        },
        {
         "data": [
          {
           "hovertemplate": "Sexo=%{y}<br>Anos=2003<br>Nascimentos=%{text}<extra></extra>",
           "ids": [
            "Masculino"
           ],
           "legendgroup": "Masculino",
           "marker": {
            "color": "blue",
            "pattern": {
             "shape": ""
            }
           },
           "name": "Masculino",
           "orientation": "h",
           "showlegend": true,
           "text": {
            "bdata": "AAAAAEBs7EA=",
            "dtype": "f8"
           },
           "textposition": "auto",
           "type": "bar",
           "x": {
            "bdata": "YuMAAA==",
            "dtype": "i4"
           },
           "xaxis": "x",
           "y": [
            "Masculino"
           ],
           "yaxis": "y"
          },
          {
           "hovertemplate": "Sexo=%{y}<br>Anos=2003<br>Nascimentos=%{text}<extra></extra>",
           "ids": [
            "Feminino"
           ],
           "legendgroup": "Feminino",
           "marker": {
            "color": "pink",
            "pattern": {
             "shape": ""
            }
           },
           "name": "Feminino",
           "orientation": "h",
           "showlegend": true,
           "text": {
            "bdata": "AAAAACCE6kA=",
            "dtype": "f8"
           },
           "textposition": "auto",
           "type": "bar",
           "x": {
            "bdata": "IdQAAA==",
            "dtype": "i4"
           },
           "xaxis": "x",
           "y": [
            "Feminino"
           ],
           "yaxis": "y"
          }
         ],
         "name": "2003"
        },
        {
         "data": [
          {
           "hovertemplate": "Sexo=%{y}<br>Anos=2004<br>Nascimentos=%{text}<extra></extra>",
           "ids": [
            "Masculino"
           ],
           "legendgroup": "Masculino",
           "marker": {
            "color": "blue",
            "pattern": {
             "shape": ""
            }
           },
           "name": "Masculino",
           "orientation": "h",
           "showlegend": true,
           "text": {
            "bdata": "AAAAAIBy60A=",
            "dtype": "f8"
           },
           "textposition": "auto",
           "type": "bar",
           "x": {
            "bdata": "lNsAAA==",
            "dtype": "i4"
           },
           "xaxis": "x",
           "y": [
            "Masculino"
           ],
           "yaxis": "y"
          },
          {
           "hovertemplate": "Sexo=%{y}<br>Anos=2004<br>Nascimentos=%{text}<extra></extra>",
           "ids": [
            "Feminino"
           ],
           "legendgroup": "Feminino",
           "marker": {
            "color": "pink",
            "pattern": {
             "shape": ""
            }
           },
           "name": "Feminino",
           "orientation": "h",
           "showlegend": true,
           "text": {
            "bdata": "AAAAAMDr6UA=",
            "dtype": "f8"
           },
           "textposition": "auto",
           "type": "bar",
           "x": {
            "bdata": "Xs8AAA==",
            "dtype": "i4"
           },
           "xaxis": "x",
           "y": [
            "Feminino"
           ],
           "yaxis": "y"
          }
         ],
         "name": "2004"
        },
        {
         "data": [
          {
           "hovertemplate": "Sexo=%{y}<br>Anos=2005<br>Nascimentos=%{text}<extra></extra>",
           "ids": [
            "Masculino"
           ],
           "legendgroup": "Masculino",
           "marker": {
            "color": "blue",
            "pattern": {
             "shape": ""
            }
           },
           "name": "Masculino",
           "orientation": "h",
           "showlegend": true,
           "text": {
            "bdata": "AAAAAICk60A=",
            "dtype": "f8"
           },
           "textposition": "auto",
           "type": "bar",
           "x": {
            "bdata": "JN0AAA==",
            "dtype": "i4"
           },
           "xaxis": "x",
           "y": [
            "Masculino"
           ],
           "yaxis": "y"
          },
          {
           "hovertemplate": "Sexo=%{y}<br>Anos=2005<br>Nascimentos=%{text}<extra></extra>",
           "ids": [
            "Feminino"
           ],
           "legendgroup": "Feminino",
           "marker": {
            "color": "pink",
            "pattern": {
             "shape": ""
            }
           },
           "name": "Feminino",
           "orientation": "h",
           "showlegend": true,
           "text": {
            "bdata": "AAAAAGDG6UA=",
            "dtype": "f8"
           },
           "textposition": "auto",
           "type": "bar",
           "x": {
            "bdata": "M84AAA==",
            "dtype": "i4"
           },
           "xaxis": "x",
           "y": [
            "Feminino"
           ],
           "yaxis": "y"
          }
         ],
         "name": "2005"
        },
        {
         "data": [
          {
           "hovertemplate": "Sexo=%{y}<br>Anos=2006<br>Nascimentos=%{text}<extra></extra>",
           "ids": [
            "Masculino"
           ],
           "legendgroup": "Masculino",
           "marker": {
            "color": "blue",
            "pattern": {
             "shape": ""
            }
           },
           "name": "Masculino",
           "orientation": "h",
           "showlegend": true,
           "text": {
            "bdata": "AAAAACBl6kA=",
            "dtype": "f8"
           },
           "textposition": "auto",
           "type": "bar",
           "x": {
            "bdata": "KdMAAA==",
            "dtype": "i4"
           },
           "xaxis": "x",
           "y": [
            "Masculino"
           ],
           "yaxis": "y"
          },
          {
           "hovertemplate": "Sexo=%{y}<br>Anos=2006<br>Nascimentos=%{text}<extra></extra>",
           "ids": [
            "Feminino"
           ],
           "legendgroup": "Feminino",
           "marker": {
            "color": "pink",
            "pattern": {
             "shape": ""
            }
           },
           "name": "Feminino",
           "orientation": "h",
           "showlegend": true,
           "text": {
            "bdata": "AAAAAAAY6UA=",
            "dtype": "f8"
           },
           "textposition": "auto",
           "type": "bar",
           "x": {
            "bdata": "wMgAAA==",
            "dtype": "i4"
           },
           "xaxis": "x",
           "y": [
            "Feminino"
           ],
           "yaxis": "y"
          }
         ],
         "name": "2006"
        },
        {
         "data": [
          {
           "hovertemplate": "Sexo=%{y}<br>Anos=2007<br>Nascimentos=%{text}<extra></extra>",
           "ids": [
            "Masculino"
           ],
           "legendgroup": "Masculino",
           "marker": {
            "color": "blue",
            "pattern": {
             "shape": ""
            }
           },
           "name": "Masculino",
           "orientation": "h",
           "showlegend": true,
           "text": {
            "bdata": "AAAAAGC56UA=",
            "dtype": "f8"
           },
           "textposition": "auto",
           "type": "bar",
           "x": {
            "bdata": "y80AAA==",
            "dtype": "i4"
           },
           "xaxis": "x",
           "y": [
            "Masculino"
           ],
           "yaxis": "y"
          },
          {
           "hovertemplate": "Sexo=%{y}<br>Anos=2007<br>Nascimentos=%{text}<extra></extra>",
           "ids": [
            "Feminino"
           ],
           "legendgroup": "Feminino",
           "marker": {
            "color": "pink",
            "pattern": {
             "shape": ""
            }
           },
           "name": "Feminino",
           "orientation": "h",
           "showlegend": true,
           "text": {
            "bdata": "AAAAACBS6EA=",
            "dtype": "f8"
           },
           "textposition": "auto",
           "type": "bar",
           "x": {
            "bdata": "kcIAAA==",
            "dtype": "i4"
           },
           "xaxis": "x",
           "y": [
            "Feminino"
           ],
           "yaxis": "y"
          }
         ],
         "name": "2007"
        },
        {
         "data": [
          {
           "hovertemplate": "Sexo=%{y}<br>Anos=2008<br>Nascimentos=%{text}<extra></extra>",
           "ids": [
            "Masculino"
           ],
           "legendgroup": "Masculino",
           "marker": {
            "color": "blue",
            "pattern": {
             "shape": ""
            }
           },
           "name": "Masculino",
           "orientation": "h",
           "showlegend": true,
           "text": {
            "bdata": "AAAAAABb6kA=",
            "dtype": "f8"
           },
           "textposition": "auto",
           "type": "bar",
           "x": {
            "bdata": "2NIAAA==",
            "dtype": "i4"
           },
           "xaxis": "x",
           "y": [
            "Masculino"
           ],
           "yaxis": "y"
          },
          {
           "hovertemplate": "Sexo=%{y}<br>Anos=2008<br>Nascimentos=%{text}<extra></extra>",
           "ids": [
            "Feminino"
           ],
           "legendgroup": "Feminino",
           "marker": {
            "color": "pink",
            "pattern": {
             "shape": ""
            }
           },
           "name": "Feminino",
           "orientation": "h",
           "showlegend": true,
           "text": {
            "bdata": "AAAAAEC36EA=",
            "dtype": "f8"
           },
           "textposition": "auto",
           "type": "bar",
           "x": {
            "bdata": "usUAAA==",
            "dtype": "i4"
           },
           "xaxis": "x",
           "y": [
            "Feminino"
           ],
           "yaxis": "y"
          }
         ],
         "name": "2008"
        },
        {
         "data": [
          {
           "hovertemplate": "Sexo=%{y}<br>Anos=2009<br>Nascimentos=%{text}<extra></extra>",
           "ids": [
            "Masculino"
           ],
           "legendgroup": "Masculino",
           "marker": {
            "color": "blue",
            "pattern": {
             "shape": ""
            }
           },
           "name": "Masculino",
           "orientation": "h",
           "showlegend": true,
           "text": {
            "bdata": "AAAAACDX6EA=",
            "dtype": "f8"
           },
           "textposition": "auto",
           "type": "bar",
           "x": {
            "bdata": "ucYAAA==",
            "dtype": "i4"
           },
           "xaxis": "x",
           "y": [
            "Masculino"
           ],
           "yaxis": "y"
          },
          {
           "hovertemplate": "Sexo=%{y}<br>Anos=2009<br>Nascimentos=%{text}<extra></extra>",
           "ids": [
            "Feminino"
           ],
           "legendgroup": "Feminino",
           "marker": {
            "color": "pink",
            "pattern": {
             "shape": ""
            }
           },
           "name": "Feminino",
           "orientation": "h",
           "showlegend": true,
           "text": {
            "bdata": "AAAAAEC950A=",
            "dtype": "f8"
           },
           "textposition": "auto",
           "type": "bar",
           "x": {
            "bdata": "6r0AAA==",
            "dtype": "i4"
           },
           "xaxis": "x",
           "y": [
            "Feminino"
           ],
           "yaxis": "y"
          }
         ],
         "name": "2009"
        },
        {
         "data": [
          {
           "hovertemplate": "Sexo=%{y}<br>Anos=2010<br>Nascimentos=%{text}<extra></extra>",
           "ids": [
            "Masculino"
           ],
           "legendgroup": "Masculino",
           "marker": {
            "color": "blue",
            "pattern": {
             "shape": ""
            }
           },
           "name": "Masculino",
           "orientation": "h",
           "showlegend": true,
           "text": {
            "bdata": "AAAAAOAp6UA=",
            "dtype": "f8"
           },
           "textposition": "auto",
           "type": "bar",
           "x": {
            "bdata": "T8kAAA==",
            "dtype": "i4"
           },
           "xaxis": "x",
           "y": [
            "Masculino"
           ],
           "yaxis": "y"
          },
          {
           "hovertemplate": "Sexo=%{y}<br>Anos=2010<br>Nascimentos=%{text}<extra></extra>",
           "ids": [
            "Feminino"
           ],
           "legendgroup": "Feminino",
           "marker": {
            "color": "pink",
            "pattern": {
             "shape": ""
            }
           },
           "name": "Feminino",
           "orientation": "h",
           "showlegend": true,
           "text": {
            "bdata": "AAAAAMBW6EA=",
            "dtype": "f8"
           },
           "textposition": "auto",
           "type": "bar",
           "x": {
            "bdata": "tsIAAA==",
            "dtype": "i4"
           },
           "xaxis": "x",
           "y": [
            "Feminino"
           ],
           "yaxis": "y"
          }
         ],
         "name": "2010"
        },
        {
         "data": [
          {
           "hovertemplate": "Sexo=%{y}<br>Anos=2011<br>Nascimentos=%{text}<extra></extra>",
           "ids": [
            "Masculino"
           ],
           "legendgroup": "Masculino",
           "marker": {
            "color": "blue",
            "pattern": {
             "shape": ""
            }
           },
           "name": "Masculino",
           "orientation": "h",
           "showlegend": true,
           "text": {
            "bdata": "AAAAAABD6EA=",
            "dtype": "f8"
           },
           "textposition": "auto",
           "type": "bar",
           "x": {
            "bdata": "GMIAAA==",
            "dtype": "i4"
           },
           "xaxis": "x",
           "y": [
            "Masculino"
           ],
           "yaxis": "y"
          },
          {
           "hovertemplate": "Sexo=%{y}<br>Anos=2011<br>Nascimentos=%{text}<extra></extra>",
           "ids": [
            "Feminino"
           ],
           "legendgroup": "Feminino",
           "marker": {
            "color": "pink",
            "pattern": {
             "shape": ""
            }
           },
           "name": "Feminino",
           "orientation": "h",
           "showlegend": true,
           "text": {
            "bdata": "AAAAAOAH50A=",
            "dtype": "f8"
           },
           "textposition": "auto",
           "type": "bar",
           "x": {
            "bdata": "P7gAAA==",
            "dtype": "i4"
           },
           "xaxis": "x",
           "y": [
            "Feminino"
           ],
           "yaxis": "y"
          }
         ],
         "name": "2011"
        },
        {
         "data": [
          {
           "hovertemplate": "Sexo=%{y}<br>Anos=2012<br>Nascimentos=%{text}<extra></extra>",
           "ids": [
            "Masculino"
           ],
           "legendgroup": "Masculino",
           "marker": {
            "color": "blue",
            "pattern": {
             "shape": ""
            }
           },
           "name": "Masculino",
           "orientation": "h",
           "showlegend": true,
           "text": {
            "bdata": "AAAAACCK5kA=",
            "dtype": "f8"
           },
           "textposition": "auto",
           "type": "bar",
           "x": {
            "bdata": "UbQAAA==",
            "dtype": "i4"
           },
           "xaxis": "x",
           "y": [
            "Masculino"
           ],
           "yaxis": "y"
          },
          {
           "hovertemplate": "Sexo=%{y}<br>Anos=2012<br>Nascimentos=%{text}<extra></extra>",
           "ids": [
            "Feminino"
           ],
           "legendgroup": "Feminino",
           "marker": {
            "color": "pink",
            "pattern": {
             "shape": ""
            }
           },
           "name": "Feminino",
           "orientation": "h",
           "showlegend": true,
           "text": {
            "bdata": "AAAAAABU5UA=",
            "dtype": "f8"
           },
           "textposition": "auto",
           "type": "bar",
           "x": {
            "bdata": "oKoAAA==",
            "dtype": "i4"
           },
           "xaxis": "x",
           "y": [
            "Feminino"
           ],
           "yaxis": "y"
          }
         ],
         "name": "2012"
        },
        {
         "data": [
          {
           "hovertemplate": "Sexo=%{y}<br>Anos=2013<br>Nascimentos=%{text}<extra></extra>",
           "ids": [
            "Masculino"
           ],
           "legendgroup": "Masculino",
           "marker": {
            "color": "blue",
            "pattern": {
             "shape": ""
            }
           },
           "name": "Masculino",
           "orientation": "h",
           "showlegend": true,
           "text": {
            "bdata": "AAAAAGCd5EA=",
            "dtype": "f8"
           },
           "textposition": "auto",
           "type": "bar",
           "x": {
            "bdata": "66QAAA==",
            "dtype": "i4"
           },
           "xaxis": "x",
           "y": [
            "Masculino"
           ],
           "yaxis": "y"
          },
          {
           "hovertemplate": "Sexo=%{y}<br>Anos=2013<br>Nascimentos=%{text}<extra></extra>",
           "ids": [
            "Feminino"
           ],
           "legendgroup": "Feminino",
           "marker": {
            "color": "pink",
            "pattern": {
             "shape": ""
            }
           },
           "name": "Feminino",
           "orientation": "h",
           "showlegend": true,
           "text": {
            "bdata": "AAAAAODO40A=",
            "dtype": "f8"
           },
           "textposition": "auto",
           "type": "bar",
           "x": {
            "bdata": "d54AAA==",
            "dtype": "i4"
           },
           "xaxis": "x",
           "y": [
            "Feminino"
           ],
           "yaxis": "y"
          }
         ],
         "name": "2013"
        },
        {
         "data": [
          {
           "hovertemplate": "Sexo=%{y}<br>Anos=2014<br>Nascimentos=%{text}<extra></extra>",
           "ids": [
            "Masculino"
           ],
           "legendgroup": "Masculino",
           "marker": {
            "color": "blue",
            "pattern": {
             "shape": ""
            }
           },
           "name": "Masculino",
           "orientation": "h",
           "showlegend": true,
           "text": {
            "bdata": "AAAAAGC35EA=",
            "dtype": "f8"
           },
           "textposition": "auto",
           "type": "bar",
           "x": {
            "bdata": "u6UAAA==",
            "dtype": "i4"
           },
           "xaxis": "x",
           "y": [
            "Masculino"
           ],
           "yaxis": "y"
          },
          {
           "hovertemplate": "Sexo=%{y}<br>Anos=2014<br>Nascimentos=%{text}<extra></extra>",
           "ids": [
            "Feminino"
           ],
           "legendgroup": "Feminino",
           "marker": {
            "color": "pink",
            "pattern": {
             "shape": ""
            }
           },
           "name": "Feminino",
           "orientation": "h",
           "showlegend": true,
           "text": {
            "bdata": "AAAAAICA40A=",
            "dtype": "f8"
           },
           "textposition": "auto",
           "type": "bar",
           "x": {
            "bdata": "BJwAAA==",
            "dtype": "i4"
           },
           "xaxis": "x",
           "y": [
            "Feminino"
           ],
           "yaxis": "y"
          }
         ],
         "name": "2014"
        },
        {
         "data": [
          {
           "hovertemplate": "Sexo=%{y}<br>Anos=2015<br>Nascimentos=%{text}<extra></extra>",
           "ids": [
            "Masculino"
           ],
           "legendgroup": "Masculino",
           "marker": {
            "color": "blue",
            "pattern": {
             "shape": ""
            }
           },
           "name": "Masculino",
           "orientation": "h",
           "showlegend": true,
           "text": {
            "bdata": "AAAAAKBU5UA=",
            "dtype": "f8"
           },
           "textposition": "auto",
           "type": "bar",
           "x": {
            "bdata": "paoAAA==",
            "dtype": "i4"
           },
           "xaxis": "x",
           "y": [
            "Masculino"
           ],
           "yaxis": "y"
          },
          {
           "hovertemplate": "Sexo=%{y}<br>Anos=2015<br>Nascimentos=%{text}<extra></extra>",
           "ids": [
            "Feminino"
           ],
           "legendgroup": "Feminino",
           "marker": {
            "color": "pink",
            "pattern": {
             "shape": ""
            }
           },
           "name": "Feminino",
           "orientation": "h",
           "showlegend": true,
           "text": {
            "bdata": "AAAAAOBq5EA=",
            "dtype": "f8"
           },
           "textposition": "auto",
           "type": "bar",
           "x": {
            "bdata": "V6MAAA==",
            "dtype": "i4"
           },
           "xaxis": "x",
           "y": [
            "Feminino"
           ],
           "yaxis": "y"
          }
         ],
         "name": "2015"
        },
        {
         "data": [
          {
           "hovertemplate": "Sexo=%{y}<br>Anos=2016<br>Nascimentos=%{text}<extra></extra>",
           "ids": [
            "Masculino"
           ],
           "legendgroup": "Masculino",
           "marker": {
            "color": "blue",
            "pattern": {
             "shape": ""
            }
           },
           "name": "Masculino",
           "orientation": "h",
           "showlegend": true,
           "text": {
            "bdata": "AAAAAKDe5UA=",
            "dtype": "f8"
           },
           "textposition": "auto",
           "type": "bar",
           "x": {
            "bdata": "9a4AAA==",
            "dtype": "i4"
           },
           "xaxis": "x",
           "y": [
            "Masculino"
           ],
           "yaxis": "y"
          },
          {
           "hovertemplate": "Sexo=%{y}<br>Anos=2016<br>Nascimentos=%{text}<extra></extra>",
           "ids": [
            "Feminino"
           ],
           "legendgroup": "Feminino",
           "marker": {
            "color": "pink",
            "pattern": {
             "shape": ""
            }
           },
           "name": "Feminino",
           "orientation": "h",
           "showlegend": true,
           "text": {
            "bdata": "AAAAACCs5EA=",
            "dtype": "f8"
           },
           "textposition": "auto",
           "type": "bar",
           "x": {
            "bdata": "YaUAAA==",
            "dtype": "i4"
           },
           "xaxis": "x",
           "y": [
            "Feminino"
           ],
           "yaxis": "y"
          }
         ],
         "name": "2016"
        },
        {
         "data": [
          {
           "hovertemplate": "Sexo=%{y}<br>Anos=2017<br>Nascimentos=%{text}<extra></extra>",
           "ids": [
            "Masculino"
           ],
           "legendgroup": "Masculino",
           "marker": {
            "color": "blue",
            "pattern": {
             "shape": ""
            }
           },
           "name": "Masculino",
           "orientation": "h",
           "showlegend": true,
           "text": {
            "bdata": "AAAAAACF5UA=",
            "dtype": "f8"
           },
           "textposition": "auto",
           "type": "bar",
           "x": {
            "bdata": "KKwAAA==",
            "dtype": "i4"
           },
           "xaxis": "x",
           "y": [
            "Masculino"
           ],
           "yaxis": "y"
          },
          {
           "hovertemplate": "Sexo=%{y}<br>Anos=2017<br>Nascimentos=%{text}<extra></extra>",
           "ids": [
            "Feminino"
           ],
           "legendgroup": "Feminino",
           "marker": {
            "color": "pink",
            "pattern": {
             "shape": ""
            }
           },
           "name": "Feminino",
           "orientation": "h",
           "showlegend": true,
           "text": {
            "bdata": "AAAAAECM5EA=",
            "dtype": "f8"
           },
           "textposition": "auto",
           "type": "bar",
           "x": {
            "bdata": "YqQAAA==",
            "dtype": "i4"
           },
           "xaxis": "x",
           "y": [
            "Feminino"
           ],
           "yaxis": "y"
          }
         ],
         "name": "2017"
        },
        {
         "data": [
          {
           "hovertemplate": "Sexo=%{y}<br>Anos=2018<br>Nascimentos=%{text}<extra></extra>",
           "ids": [
            "Masculino"
           ],
           "legendgroup": "Masculino",
           "marker": {
            "color": "blue",
            "pattern": {
             "shape": ""
            }
           },
           "name": "Masculino",
           "orientation": "h",
           "showlegend": true,
           "text": {
            "bdata": "AAAAAKCi5UA=",
            "dtype": "f8"
           },
           "textposition": "auto",
           "type": "bar",
           "x": {
            "bdata": "Fa0AAA==",
            "dtype": "i4"
           },
           "xaxis": "x",
           "y": [
            "Masculino"
           ],
           "yaxis": "y"
          },
          {
           "hovertemplate": "Sexo=%{y}<br>Anos=2018<br>Nascimentos=%{text}<extra></extra>",
           "ids": [
            "Feminino"
           ],
           "legendgroup": "Feminino",
           "marker": {
            "color": "pink",
            "pattern": {
             "shape": ""
            }
           },
           "name": "Feminino",
           "orientation": "h",
           "showlegend": true,
           "text": {
            "bdata": "AAAAAODa5EA=",
            "dtype": "f8"
           },
           "textposition": "auto",
           "type": "bar",
           "x": {
            "bdata": "16YAAA==",
            "dtype": "i4"
           },
           "xaxis": "x",
           "y": [
            "Feminino"
           ],
           "yaxis": "y"
          }
         ],
         "name": "2018"
        },
        {
         "data": [
          {
           "hovertemplate": "Sexo=%{y}<br>Anos=2019<br>Nascimentos=%{text}<extra></extra>",
           "ids": [
            "Masculino"
           ],
           "legendgroup": "Masculino",
           "marker": {
            "color": "blue",
            "pattern": {
             "shape": ""
            }
           },
           "name": "Masculino",
           "orientation": "h",
           "showlegend": true,
           "text": {
            "bdata": "AAAAAGC/5UA=",
            "dtype": "f8"
           },
           "textposition": "auto",
           "type": "bar",
           "x": {
            "bdata": "+60AAA==",
            "dtype": "i4"
           },
           "xaxis": "x",
           "y": [
            "Masculino"
           ],
           "yaxis": "y"
          },
          {
           "hovertemplate": "Sexo=%{y}<br>Anos=2019<br>Nascimentos=%{text}<extra></extra>",
           "ids": [
            "Feminino"
           ],
           "legendgroup": "Feminino",
           "marker": {
            "color": "pink",
            "pattern": {
             "shape": ""
            }
           },
           "name": "Feminino",
           "orientation": "h",
           "showlegend": true,
           "text": {
            "bdata": "AAAAAACH5EA=",
            "dtype": "f8"
           },
           "textposition": "auto",
           "type": "bar",
           "x": {
            "bdata": "OKQAAA==",
            "dtype": "i4"
           },
           "xaxis": "x",
           "y": [
            "Feminino"
           ],
           "yaxis": "y"
          }
         ],
         "name": "2019"
        },
        {
         "data": [
          {
           "hovertemplate": "Sexo=%{y}<br>Anos=2020<br>Nascimentos=%{text}<extra></extra>",
           "ids": [
            "Masculino"
           ],
           "legendgroup": "Masculino",
           "marker": {
            "color": "blue",
            "pattern": {
             "shape": ""
            }
           },
           "name": "Masculino",
           "orientation": "h",
           "showlegend": true,
           "text": {
            "bdata": "AAAAAGA35UA=",
            "dtype": "f8"
           },
           "textposition": "auto",
           "type": "bar",
           "x": {
            "bdata": "u6kAAA==",
            "dtype": "i4"
           },
           "xaxis": "x",
           "y": [
            "Masculino"
           ],
           "yaxis": "y"
          },
          {
           "hovertemplate": "Sexo=%{y}<br>Anos=2020<br>Nascimentos=%{text}<extra></extra>",
           "ids": [
            "Feminino"
           ],
           "legendgroup": "Feminino",
           "marker": {
            "color": "pink",
            "pattern": {
             "shape": ""
            }
           },
           "name": "Feminino",
           "orientation": "h",
           "showlegend": true,
           "text": {
            "bdata": "AAAAAOAO5EA=",
            "dtype": "f8"
           },
           "textposition": "auto",
           "type": "bar",
           "x": {
            "bdata": "d6AAAA==",
            "dtype": "i4"
           },
           "xaxis": "x",
           "y": [
            "Feminino"
           ],
           "yaxis": "y"
          }
         ],
         "name": "2020"
        },
        {
         "data": [
          {
           "hovertemplate": "Sexo=%{y}<br>Anos=2021<br>Nascimentos=%{text}<extra></extra>",
           "ids": [
            "Masculino"
           ],
           "legendgroup": "Masculino",
           "marker": {
            "color": "blue",
            "pattern": {
             "shape": ""
            }
           },
           "name": "Masculino",
           "orientation": "h",
           "showlegend": true,
           "text": {
            "bdata": "AAAAAEDn40A=",
            "dtype": "f8"
           },
           "textposition": "auto",
           "type": "bar",
           "x": {
            "bdata": "Op8AAA==",
            "dtype": "i4"
           },
           "xaxis": "x",
           "y": [
            "Masculino"
           ],
           "yaxis": "y"
          },
          {
           "hovertemplate": "Sexo=%{y}<br>Anos=2021<br>Nascimentos=%{text}<extra></extra>",
           "ids": [
            "Feminino"
           ],
           "legendgroup": "Feminino",
           "marker": {
            "color": "pink",
            "pattern": {
             "shape": ""
            }
           },
           "name": "Feminino",
           "orientation": "h",
           "showlegend": true,
           "text": {
            "bdata": "AAAAAID04kA=",
            "dtype": "f8"
           },
           "textposition": "auto",
           "type": "bar",
           "x": {
            "bdata": "pJcAAA==",
            "dtype": "i4"
           },
           "xaxis": "x",
           "y": [
            "Feminino"
           ],
           "yaxis": "y"
          }
         ],
         "name": "2021"
        },
        {
         "data": [
          {
           "hovertemplate": "Sexo=%{y}<br>Anos=2022<br>Nascimentos=%{text}<extra></extra>",
           "ids": [
            "Masculino"
           ],
           "legendgroup": "Masculino",
           "marker": {
            "color": "blue",
            "pattern": {
             "shape": ""
            }
           },
           "name": "Masculino",
           "orientation": "h",
           "showlegend": true,
           "text": {
            "bdata": "AAAAAKD15EA=",
            "dtype": "f8"
           },
           "textposition": "auto",
           "type": "bar",
           "x": {
            "bdata": "racAAA==",
            "dtype": "i4"
           },
           "xaxis": "x",
           "y": [
            "Masculino"
           ],
           "yaxis": "y"
          },
          {
           "hovertemplate": "Sexo=%{y}<br>Anos=2022<br>Nascimentos=%{text}<extra></extra>",
           "ids": [
            "Feminino"
           ],
           "legendgroup": "Feminino",
           "marker": {
            "color": "pink",
            "pattern": {
             "shape": ""
            }
           },
           "name": "Feminino",
           "orientation": "h",
           "showlegend": true,
           "text": {
            "bdata": "AAAAAEDl40A=",
            "dtype": "f8"
           },
           "textposition": "auto",
           "type": "bar",
           "x": {
            "bdata": "Kp8AAA==",
            "dtype": "i4"
           },
           "xaxis": "x",
           "y": [
            "Feminino"
           ],
           "yaxis": "y"
          }
         ],
         "name": "2022"
        },
        {
         "data": [
          {
           "hovertemplate": "Sexo=%{y}<br>Anos=2023<br>Nascimentos=%{text}<extra></extra>",
           "ids": [
            "Masculino"
           ],
           "legendgroup": "Masculino",
           "marker": {
            "color": "blue",
            "pattern": {
             "shape": ""
            }
           },
           "name": "Masculino",
           "orientation": "h",
           "showlegend": true,
           "text": {
            "bdata": "AAAAAIBc5UA=",
            "dtype": "f8"
           },
           "textposition": "auto",
           "type": "bar",
           "x": {
            "bdata": "5KoAAA==",
            "dtype": "i4"
           },
           "xaxis": "x",
           "y": [
            "Masculino"
           ],
           "yaxis": "y"
          },
          {
           "hovertemplate": "Sexo=%{y}<br>Anos=2023<br>Nascimentos=%{text}<extra></extra>",
           "ids": [
            "Feminino"
           ],
           "legendgroup": "Feminino",
           "marker": {
            "color": "pink",
            "pattern": {
             "shape": ""
            }
           },
           "name": "Feminino",
           "orientation": "h",
           "showlegend": true,
           "text": {
            "bdata": "AAAAAOB75EA=",
            "dtype": "f8"
           },
           "textposition": "auto",
           "type": "bar",
           "x": {
            "bdata": "36MAAA==",
            "dtype": "i4"
           },
           "xaxis": "x",
           "y": [
            "Feminino"
           ],
           "yaxis": "y"
          }
         ],
         "name": "2023"
        }
       ],
       "layout": {
        "barmode": "relative",
        "legend": {
         "title": {
          "text": "Sexo"
         },
         "tracegroupgap": 0
        },
        "sliders": [
         {
          "active": 0,
          "currentvalue": {
           "prefix": "Anos="
          },
          "len": 0.9,
          "pad": {
           "b": 10,
           "t": 60
          },
          "steps": [
           {
            "args": [
             [
              "1900"
             ],
             {
              "frame": {
               "duration": 0,
               "redraw": true
              },
              "fromcurrent": true,
              "mode": "immediate",
              "transition": {
               "duration": 0,
               "easing": "linear"
              }
             }
            ],
            "label": "1900",
            "method": "animate"
           },
           {
            "args": [
             [
              "1910"
             ],
             {
              "frame": {
               "duration": 0,
               "redraw": true
              },
              "fromcurrent": true,
              "mode": "immediate",
              "transition": {
               "duration": 0,
               "easing": "linear"
              }
             }
            ],
            "label": "1910",
            "method": "animate"
           },
           {
            "args": [
             [
              "1920"
             ],
             {
              "frame": {
               "duration": 0,
               "redraw": true
              },
              "fromcurrent": true,
              "mode": "immediate",
              "transition": {
               "duration": 0,
               "easing": "linear"
              }
             }
            ],
            "label": "1920",
            "method": "animate"
           },
           {
            "args": [
             [
              "1930"
             ],
             {
              "frame": {
               "duration": 0,
               "redraw": true
              },
              "fromcurrent": true,
              "mode": "immediate",
              "transition": {
               "duration": 0,
               "easing": "linear"
              }
             }
            ],
            "label": "1930",
            "method": "animate"
           },
           {
            "args": [
             [
              "1940"
             ],
             {
              "frame": {
               "duration": 0,
               "redraw": true
              },
              "fromcurrent": true,
              "mode": "immediate",
              "transition": {
               "duration": 0,
               "easing": "linear"
              }
             }
            ],
            "label": "1940",
            "method": "animate"
           },
           {
            "args": [
             [
              "1950"
             ],
             {
              "frame": {
               "duration": 0,
               "redraw": true
              },
              "fromcurrent": true,
              "mode": "immediate",
              "transition": {
               "duration": 0,
               "easing": "linear"
              }
             }
            ],
            "label": "1950",
            "method": "animate"
           },
           {
            "args": [
             [
              "1960"
             ],
             {
              "frame": {
               "duration": 0,
               "redraw": true
              },
              "fromcurrent": true,
              "mode": "immediate",
              "transition": {
               "duration": 0,
               "easing": "linear"
              }
             }
            ],
            "label": "1960",
            "method": "animate"
           },
           {
            "args": [
             [
              "1970"
             ],
             {
              "frame": {
               "duration": 0,
               "redraw": true
              },
              "fromcurrent": true,
              "mode": "immediate",
              "transition": {
               "duration": 0,
               "easing": "linear"
              }
             }
            ],
            "label": "1970",
            "method": "animate"
           },
           {
            "args": [
             [
              "1980"
             ],
             {
              "frame": {
               "duration": 0,
               "redraw": true
              },
              "fromcurrent": true,
              "mode": "immediate",
              "transition": {
               "duration": 0,
               "easing": "linear"
              }
             }
            ],
            "label": "1980",
            "method": "animate"
           },
           {
            "args": [
             [
              "1981"
             ],
             {
              "frame": {
               "duration": 0,
               "redraw": true
              },
              "fromcurrent": true,
              "mode": "immediate",
              "transition": {
               "duration": 0,
               "easing": "linear"
              }
             }
            ],
            "label": "1981",
            "method": "animate"
           },
           {
            "args": [
             [
              "1982"
             ],
             {
              "frame": {
               "duration": 0,
               "redraw": true
              },
              "fromcurrent": true,
              "mode": "immediate",
              "transition": {
               "duration": 0,
               "easing": "linear"
              }
             }
            ],
            "label": "1982",
            "method": "animate"
           },
           {
            "args": [
             [
              "1983"
             ],
             {
              "frame": {
               "duration": 0,
               "redraw": true
              },
              "fromcurrent": true,
              "mode": "immediate",
              "transition": {
               "duration": 0,
               "easing": "linear"
              }
             }
            ],
            "label": "1983",
            "method": "animate"
           },
           {
            "args": [
             [
              "1984"
             ],
             {
              "frame": {
               "duration": 0,
               "redraw": true
              },
              "fromcurrent": true,
              "mode": "immediate",
              "transition": {
               "duration": 0,
               "easing": "linear"
              }
             }
            ],
            "label": "1984",
            "method": "animate"
           },
           {
            "args": [
             [
              "1985"
             ],
             {
              "frame": {
               "duration": 0,
               "redraw": true
              },
              "fromcurrent": true,
              "mode": "immediate",
              "transition": {
               "duration": 0,
               "easing": "linear"
              }
             }
            ],
            "label": "1985",
            "method": "animate"
           },
           {
            "args": [
             [
              "1986"
             ],
             {
              "frame": {
               "duration": 0,
               "redraw": true
              },
              "fromcurrent": true,
              "mode": "immediate",
              "transition": {
               "duration": 0,
               "easing": "linear"
              }
             }
            ],
            "label": "1986",
            "method": "animate"
           },
           {
            "args": [
             [
              "1987"
             ],
             {
              "frame": {
               "duration": 0,
               "redraw": true
              },
              "fromcurrent": true,
              "mode": "immediate",
              "transition": {
               "duration": 0,
               "easing": "linear"
              }
             }
            ],
            "label": "1987",
            "method": "animate"
           },
           {
            "args": [
             [
              "1988"
             ],
             {
              "frame": {
               "duration": 0,
               "redraw": true
              },
              "fromcurrent": true,
              "mode": "immediate",
              "transition": {
               "duration": 0,
               "easing": "linear"
              }
             }
            ],
            "label": "1988",
            "method": "animate"
           },
           {
            "args": [
             [
              "1989"
             ],
             {
              "frame": {
               "duration": 0,
               "redraw": true
              },
              "fromcurrent": true,
              "mode": "immediate",
              "transition": {
               "duration": 0,
               "easing": "linear"
              }
             }
            ],
            "label": "1989",
            "method": "animate"
           },
           {
            "args": [
             [
              "1990"
             ],
             {
              "frame": {
               "duration": 0,
               "redraw": true
              },
              "fromcurrent": true,
              "mode": "immediate",
              "transition": {
               "duration": 0,
               "easing": "linear"
              }
             }
            ],
            "label": "1990",
            "method": "animate"
           },
           {
            "args": [
             [
              "1991"
             ],
             {
              "frame": {
               "duration": 0,
               "redraw": true
              },
              "fromcurrent": true,
              "mode": "immediate",
              "transition": {
               "duration": 0,
               "easing": "linear"
              }
             }
            ],
            "label": "1991",
            "method": "animate"
           },
           {
            "args": [
             [
              "1992"
             ],
             {
              "frame": {
               "duration": 0,
               "redraw": true
              },
              "fromcurrent": true,
              "mode": "immediate",
              "transition": {
               "duration": 0,
               "easing": "linear"
              }
             }
            ],
            "label": "1992",
            "method": "animate"
           },
           {
            "args": [
             [
              "1993"
             ],
             {
              "frame": {
               "duration": 0,
               "redraw": true
              },
              "fromcurrent": true,
              "mode": "immediate",
              "transition": {
               "duration": 0,
               "easing": "linear"
              }
             }
            ],
            "label": "1993",
            "method": "animate"
           },
           {
            "args": [
             [
              "1994"
             ],
             {
              "frame": {
               "duration": 0,
               "redraw": true
              },
              "fromcurrent": true,
              "mode": "immediate",
              "transition": {
               "duration": 0,
               "easing": "linear"
              }
             }
            ],
            "label": "1994",
            "method": "animate"
           },
           {
            "args": [
             [
              "1995"
             ],
             {
              "frame": {
               "duration": 0,
               "redraw": true
              },
              "fromcurrent": true,
              "mode": "immediate",
              "transition": {
               "duration": 0,
               "easing": "linear"
              }
             }
            ],
            "label": "1995",
            "method": "animate"
           },
           {
            "args": [
             [
              "1996"
             ],
             {
              "frame": {
               "duration": 0,
               "redraw": true
              },
              "fromcurrent": true,
              "mode": "immediate",
              "transition": {
               "duration": 0,
               "easing": "linear"
              }
             }
            ],
            "label": "1996",
            "method": "animate"
           },
           {
            "args": [
             [
              "1997"
             ],
             {
              "frame": {
               "duration": 0,
               "redraw": true
              },
              "fromcurrent": true,
              "mode": "immediate",
              "transition": {
               "duration": 0,
               "easing": "linear"
              }
             }
            ],
            "label": "1997",
            "method": "animate"
           },
           {
            "args": [
             [
              "1998"
             ],
             {
              "frame": {
               "duration": 0,
               "redraw": true
              },
              "fromcurrent": true,
              "mode": "immediate",
              "transition": {
               "duration": 0,
               "easing": "linear"
              }
             }
            ],
            "label": "1998",
            "method": "animate"
           },
           {
            "args": [
             [
              "1999"
             ],
             {
              "frame": {
               "duration": 0,
               "redraw": true
              },
              "fromcurrent": true,
              "mode": "immediate",
              "transition": {
               "duration": 0,
               "easing": "linear"
              }
             }
            ],
            "label": "1999",
            "method": "animate"
           },
           {
            "args": [
             [
              "2000"
             ],
             {
              "frame": {
               "duration": 0,
               "redraw": true
              },
              "fromcurrent": true,
              "mode": "immediate",
              "transition": {
               "duration": 0,
               "easing": "linear"
              }
             }
            ],
            "label": "2000",
            "method": "animate"
           },
           {
            "args": [
             [
              "2001"
             ],
             {
              "frame": {
               "duration": 0,
               "redraw": true
              },
              "fromcurrent": true,
              "mode": "immediate",
              "transition": {
               "duration": 0,
               "easing": "linear"
              }
             }
            ],
            "label": "2001",
            "method": "animate"
           },
           {
            "args": [
             [
              "2002"
             ],
             {
              "frame": {
               "duration": 0,
               "redraw": true
              },
              "fromcurrent": true,
              "mode": "immediate",
              "transition": {
               "duration": 0,
               "easing": "linear"
              }
             }
            ],
            "label": "2002",
            "method": "animate"
           },
           {
            "args": [
             [
              "2003"
             ],
             {
              "frame": {
               "duration": 0,
               "redraw": true
              },
              "fromcurrent": true,
              "mode": "immediate",
              "transition": {
               "duration": 0,
               "easing": "linear"
              }
             }
            ],
            "label": "2003",
            "method": "animate"
           },
           {
            "args": [
             [
              "2004"
             ],
             {
              "frame": {
               "duration": 0,
               "redraw": true
              },
              "fromcurrent": true,
              "mode": "immediate",
              "transition": {
               "duration": 0,
               "easing": "linear"
              }
             }
            ],
            "label": "2004",
            "method": "animate"
           },
           {
            "args": [
             [
              "2005"
             ],
             {
              "frame": {
               "duration": 0,
               "redraw": true
              },
              "fromcurrent": true,
              "mode": "immediate",
              "transition": {
               "duration": 0,
               "easing": "linear"
              }
             }
            ],
            "label": "2005",
            "method": "animate"
           },
           {
            "args": [
             [
              "2006"
             ],
             {
              "frame": {
               "duration": 0,
               "redraw": true
              },
              "fromcurrent": true,
              "mode": "immediate",
              "transition": {
               "duration": 0,
               "easing": "linear"
              }
             }
            ],
            "label": "2006",
            "method": "animate"
           },
           {
            "args": [
             [
              "2007"
             ],
             {
              "frame": {
               "duration": 0,
               "redraw": true
              },
              "fromcurrent": true,
              "mode": "immediate",
              "transition": {
               "duration": 0,
               "easing": "linear"
              }
             }
            ],
            "label": "2007",
            "method": "animate"
           },
           {
            "args": [
             [
              "2008"
             ],
             {
              "frame": {
               "duration": 0,
               "redraw": true
              },
              "fromcurrent": true,
              "mode": "immediate",
              "transition": {
               "duration": 0,
               "easing": "linear"
              }
             }
            ],
            "label": "2008",
            "method": "animate"
           },
           {
            "args": [
             [
              "2009"
             ],
             {
              "frame": {
               "duration": 0,
               "redraw": true
              },
              "fromcurrent": true,
              "mode": "immediate",
              "transition": {
               "duration": 0,
               "easing": "linear"
              }
             }
            ],
            "label": "2009",
            "method": "animate"
           },
           {
            "args": [
             [
              "2010"
             ],
             {
              "frame": {
               "duration": 0,
               "redraw": true
              },
              "fromcurrent": true,
              "mode": "immediate",
              "transition": {
               "duration": 0,
               "easing": "linear"
              }
             }
            ],
            "label": "2010",
            "method": "animate"
           },
           {
            "args": [
             [
              "2011"
             ],
             {
              "frame": {
               "duration": 0,
               "redraw": true
              },
              "fromcurrent": true,
              "mode": "immediate",
              "transition": {
               "duration": 0,
               "easing": "linear"
              }
             }
            ],
            "label": "2011",
            "method": "animate"
           },
           {
            "args": [
             [
              "2012"
             ],
             {
              "frame": {
               "duration": 0,
               "redraw": true
              },
              "fromcurrent": true,
              "mode": "immediate",
              "transition": {
               "duration": 0,
               "easing": "linear"
              }
             }
            ],
            "label": "2012",
            "method": "animate"
           },
           {
            "args": [
             [
              "2013"
             ],
             {
              "frame": {
               "duration": 0,
               "redraw": true
              },
              "fromcurrent": true,
              "mode": "immediate",
              "transition": {
               "duration": 0,
               "easing": "linear"
              }
             }
            ],
            "label": "2013",
            "method": "animate"
           },
           {
            "args": [
             [
              "2014"
             ],
             {
              "frame": {
               "duration": 0,
               "redraw": true
              },
              "fromcurrent": true,
              "mode": "immediate",
              "transition": {
               "duration": 0,
               "easing": "linear"
              }
             }
            ],
            "label": "2014",
            "method": "animate"
           },
           {
            "args": [
             [
              "2015"
             ],
             {
              "frame": {
               "duration": 0,
               "redraw": true
              },
              "fromcurrent": true,
              "mode": "immediate",
              "transition": {
               "duration": 0,
               "easing": "linear"
              }
             }
            ],
            "label": "2015",
            "method": "animate"
           },
           {
            "args": [
             [
              "2016"
             ],
             {
              "frame": {
               "duration": 0,
               "redraw": true
              },
              "fromcurrent": true,
              "mode": "immediate",
              "transition": {
               "duration": 0,
               "easing": "linear"
              }
             }
            ],
            "label": "2016",
            "method": "animate"
           },
           {
            "args": [
             [
              "2017"
             ],
             {
              "frame": {
               "duration": 0,
               "redraw": true
              },
              "fromcurrent": true,
              "mode": "immediate",
              "transition": {
               "duration": 0,
               "easing": "linear"
              }
             }
            ],
            "label": "2017",
            "method": "animate"
           },
           {
            "args": [
             [
              "2018"
             ],
             {
              "frame": {
               "duration": 0,
               "redraw": true
              },
              "fromcurrent": true,
              "mode": "immediate",
              "transition": {
               "duration": 0,
               "easing": "linear"
              }
             }
            ],
            "label": "2018",
            "method": "animate"
           },
           {
            "args": [
             [
              "2019"
             ],
             {
              "frame": {
               "duration": 0,
               "redraw": true
              },
              "fromcurrent": true,
              "mode": "immediate",
              "transition": {
               "duration": 0,
               "easing": "linear"
              }
             }
            ],
            "label": "2019",
            "method": "animate"
           },
           {
            "args": [
             [
              "2020"
             ],
             {
              "frame": {
               "duration": 0,
               "redraw": true
              },
              "fromcurrent": true,
              "mode": "immediate",
              "transition": {
               "duration": 0,
               "easing": "linear"
              }
             }
            ],
            "label": "2020",
            "method": "animate"
           },
           {
            "args": [
             [
              "2021"
             ],
             {
              "frame": {
               "duration": 0,
               "redraw": true
              },
              "fromcurrent": true,
              "mode": "immediate",
              "transition": {
               "duration": 0,
               "easing": "linear"
              }
             }
            ],
            "label": "2021",
            "method": "animate"
           },
           {
            "args": [
             [
              "2022"
             ],
             {
              "frame": {
               "duration": 0,
               "redraw": true
              },
              "fromcurrent": true,
              "mode": "immediate",
              "transition": {
               "duration": 0,
               "easing": "linear"
              }
             }
            ],
            "label": "2022",
            "method": "animate"
           },
           {
            "args": [
             [
              "2023"
             ],
             {
              "frame": {
               "duration": 0,
               "redraw": true
              },
              "fromcurrent": true,
              "mode": "immediate",
              "transition": {
               "duration": 0,
               "easing": "linear"
              }
             }
            ],
            "label": "2023",
            "method": "animate"
           }
          ],
          "x": 0.1,
          "xanchor": "left",
          "y": 0,
          "yanchor": "top"
         }
        ],
        "template": {
         "data": {
          "bar": [
           {
            "error_x": {
             "color": "#2a3f5f"
            },
            "error_y": {
             "color": "#2a3f5f"
            },
            "marker": {
             "line": {
              "color": "#E5ECF6",
              "width": 0.5
             },
             "pattern": {
              "fillmode": "overlay",
              "size": 10,
              "solidity": 0.2
             }
            },
            "type": "bar"
           }
          ],
          "barpolar": [
           {
            "marker": {
             "line": {
              "color": "#E5ECF6",
              "width": 0.5
             },
             "pattern": {
              "fillmode": "overlay",
              "size": 10,
              "solidity": 0.2
             }
            },
            "type": "barpolar"
           }
          ],
          "carpet": [
           {
            "aaxis": {
             "endlinecolor": "#2a3f5f",
             "gridcolor": "white",
             "linecolor": "white",
             "minorgridcolor": "white",
             "startlinecolor": "#2a3f5f"
            },
            "baxis": {
             "endlinecolor": "#2a3f5f",
             "gridcolor": "white",
             "linecolor": "white",
             "minorgridcolor": "white",
             "startlinecolor": "#2a3f5f"
            },
            "type": "carpet"
           }
          ],
          "choropleth": [
           {
            "colorbar": {
             "outlinewidth": 0,
             "ticks": ""
            },
            "type": "choropleth"
           }
          ],
          "contour": [
           {
            "colorbar": {
             "outlinewidth": 0,
             "ticks": ""
            },
            "colorscale": [
             [
              0,
              "#0d0887"
             ],
             [
              0.1111111111111111,
              "#46039f"
             ],
             [
              0.2222222222222222,
              "#7201a8"
             ],
             [
              0.3333333333333333,
              "#9c179e"
             ],
             [
              0.4444444444444444,
              "#bd3786"
             ],
             [
              0.5555555555555556,
              "#d8576b"
             ],
             [
              0.6666666666666666,
              "#ed7953"
             ],
             [
              0.7777777777777778,
              "#fb9f3a"
             ],
             [
              0.8888888888888888,
              "#fdca26"
             ],
             [
              1,
              "#f0f921"
             ]
            ],
            "type": "contour"
           }
          ],
          "contourcarpet": [
           {
            "colorbar": {
             "outlinewidth": 0,
             "ticks": ""
            },
            "type": "contourcarpet"
           }
          ],
          "heatmap": [
           {
            "colorbar": {
             "outlinewidth": 0,
             "ticks": ""
            },
            "colorscale": [
             [
              0,
              "#0d0887"
             ],
             [
              0.1111111111111111,
              "#46039f"
             ],
             [
              0.2222222222222222,
              "#7201a8"
             ],
             [
              0.3333333333333333,
              "#9c179e"
             ],
             [
              0.4444444444444444,
              "#bd3786"
             ],
             [
              0.5555555555555556,
              "#d8576b"
             ],
             [
              0.6666666666666666,
              "#ed7953"
             ],
             [
              0.7777777777777778,
              "#fb9f3a"
             ],
             [
              0.8888888888888888,
              "#fdca26"
             ],
             [
              1,
              "#f0f921"
             ]
            ],
            "type": "heatmap"
           }
          ],
          "histogram": [
           {
            "marker": {
             "pattern": {
              "fillmode": "overlay",
              "size": 10,
              "solidity": 0.2
             }
            },
            "type": "histogram"
           }
          ],
          "histogram2d": [
           {
            "colorbar": {
             "outlinewidth": 0,
             "ticks": ""
            },
            "colorscale": [
             [
              0,
              "#0d0887"
             ],
             [
              0.1111111111111111,
              "#46039f"
             ],
             [
              0.2222222222222222,
              "#7201a8"
             ],
             [
              0.3333333333333333,
              "#9c179e"
             ],
             [
              0.4444444444444444,
              "#bd3786"
             ],
             [
              0.5555555555555556,
              "#d8576b"
             ],
             [
              0.6666666666666666,
              "#ed7953"
             ],
             [
              0.7777777777777778,
              "#fb9f3a"
             ],
             [
              0.8888888888888888,
              "#fdca26"
             ],
             [
              1,
              "#f0f921"
             ]
            ],
            "type": "histogram2d"
           }
          ],
          "histogram2dcontour": [
           {
            "colorbar": {
             "outlinewidth": 0,
             "ticks": ""
            },
            "colorscale": [
             [
              0,
              "#0d0887"
             ],
             [
              0.1111111111111111,
              "#46039f"
             ],
             [
              0.2222222222222222,
              "#7201a8"
             ],
             [
              0.3333333333333333,
              "#9c179e"
             ],
             [
              0.4444444444444444,
              "#bd3786"
             ],
             [
              0.5555555555555556,
              "#d8576b"
             ],
             [
              0.6666666666666666,
              "#ed7953"
             ],
             [
              0.7777777777777778,
              "#fb9f3a"
             ],
             [
              0.8888888888888888,
              "#fdca26"
             ],
             [
              1,
              "#f0f921"
             ]
            ],
            "type": "histogram2dcontour"
           }
          ],
          "mesh3d": [
           {
            "colorbar": {
             "outlinewidth": 0,
             "ticks": ""
            },
            "type": "mesh3d"
           }
          ],
          "parcoords": [
           {
            "line": {
             "colorbar": {
              "outlinewidth": 0,
              "ticks": ""
             }
            },
            "type": "parcoords"
           }
          ],
          "pie": [
           {
            "automargin": true,
            "type": "pie"
           }
          ],
          "scatter": [
           {
            "fillpattern": {
             "fillmode": "overlay",
             "size": 10,
             "solidity": 0.2
            },
            "type": "scatter"
           }
          ],
          "scatter3d": [
           {
            "line": {
             "colorbar": {
              "outlinewidth": 0,
              "ticks": ""
             }
            },
            "marker": {
             "colorbar": {
              "outlinewidth": 0,
              "ticks": ""
             }
            },
            "type": "scatter3d"
           }
          ],
          "scattercarpet": [
           {
            "marker": {
             "colorbar": {
              "outlinewidth": 0,
              "ticks": ""
             }
            },
            "type": "scattercarpet"
           }
          ],
          "scattergeo": [
           {
            "marker": {
             "colorbar": {
              "outlinewidth": 0,
              "ticks": ""
             }
            },
            "type": "scattergeo"
           }
          ],
          "scattergl": [
           {
            "marker": {
             "colorbar": {
              "outlinewidth": 0,
              "ticks": ""
             }
            },
            "type": "scattergl"
           }
          ],
          "scattermap": [
           {
            "marker": {
             "colorbar": {
              "outlinewidth": 0,
              "ticks": ""
             }
            },
            "type": "scattermap"
           }
          ],
          "scattermapbox": [
           {
            "marker": {
             "colorbar": {
              "outlinewidth": 0,
              "ticks": ""
             }
            },
            "type": "scattermapbox"
           }
          ],
          "scatterpolar": [
           {
            "marker": {
             "colorbar": {
              "outlinewidth": 0,
              "ticks": ""
             }
            },
            "type": "scatterpolar"
           }
          ],
          "scatterpolargl": [
           {
            "marker": {
             "colorbar": {
              "outlinewidth": 0,
              "ticks": ""
             }
            },
            "type": "scatterpolargl"
           }
          ],
          "scatterternary": [
           {
            "marker": {
             "colorbar": {
              "outlinewidth": 0,
              "ticks": ""
             }
            },
            "type": "scatterternary"
           }
          ],
          "surface": [
           {
            "colorbar": {
             "outlinewidth": 0,
             "ticks": ""
            },
            "colorscale": [
             [
              0,
              "#0d0887"
             ],
             [
              0.1111111111111111,
              "#46039f"
             ],
             [
              0.2222222222222222,
              "#7201a8"
             ],
             [
              0.3333333333333333,
              "#9c179e"
             ],
             [
              0.4444444444444444,
              "#bd3786"
             ],
             [
              0.5555555555555556,
              "#d8576b"
             ],
             [
              0.6666666666666666,
              "#ed7953"
             ],
             [
              0.7777777777777778,
              "#fb9f3a"
             ],
             [
              0.8888888888888888,
              "#fdca26"
             ],
             [
              1,
              "#f0f921"
             ]
            ],
            "type": "surface"
           }
          ],
          "table": [
           {
            "cells": {
             "fill": {
              "color": "#EBF0F8"
             },
             "line": {
              "color": "white"
             }
            },
            "header": {
             "fill": {
              "color": "#C8D4E3"
             },
             "line": {
              "color": "white"
             }
            },
            "type": "table"
           }
          ]
         },
         "layout": {
          "annotationdefaults": {
           "arrowcolor": "#2a3f5f",
           "arrowhead": 0,
           "arrowwidth": 1
          },
          "autotypenumbers": "strict",
          "coloraxis": {
           "colorbar": {
            "outlinewidth": 0,
            "ticks": ""
           }
          },
          "colorscale": {
           "diverging": [
            [
             0,
             "#8e0152"
            ],
            [
             0.1,
             "#c51b7d"
            ],
            [
             0.2,
             "#de77ae"
            ],
            [
             0.3,
             "#f1b6da"
            ],
            [
             0.4,
             "#fde0ef"
            ],
            [
             0.5,
             "#f7f7f7"
            ],
            [
             0.6,
             "#e6f5d0"
            ],
            [
             0.7,
             "#b8e186"
            ],
            [
             0.8,
             "#7fbc41"
            ],
            [
             0.9,
             "#4d9221"
            ],
            [
             1,
             "#276419"
            ]
           ],
           "sequential": [
            [
             0,
             "#0d0887"
            ],
            [
             0.1111111111111111,
             "#46039f"
            ],
            [
             0.2222222222222222,
             "#7201a8"
            ],
            [
             0.3333333333333333,
             "#9c179e"
            ],
            [
             0.4444444444444444,
             "#bd3786"
            ],
            [
             0.5555555555555556,
             "#d8576b"
            ],
            [
             0.6666666666666666,
             "#ed7953"
            ],
            [
             0.7777777777777778,
             "#fb9f3a"
            ],
            [
             0.8888888888888888,
             "#fdca26"
            ],
            [
             1,
             "#f0f921"
            ]
           ],
           "sequentialminus": [
            [
             0,
             "#0d0887"
            ],
            [
             0.1111111111111111,
             "#46039f"
            ],
            [
             0.2222222222222222,
             "#7201a8"
            ],
            [
             0.3333333333333333,
             "#9c179e"
            ],
            [
             0.4444444444444444,
             "#bd3786"
            ],
            [
             0.5555555555555556,
             "#d8576b"
            ],
            [
             0.6666666666666666,
             "#ed7953"
            ],
            [
             0.7777777777777778,
             "#fb9f3a"
            ],
            [
             0.8888888888888888,
             "#fdca26"
            ],
            [
             1,
             "#f0f921"
            ]
           ]
          },
          "colorway": [
           "#636efa",
           "#EF553B",
           "#00cc96",
           "#ab63fa",
           "#FFA15A",
           "#19d3f3",
           "#FF6692",
           "#B6E880",
           "#FF97FF",
           "#FECB52"
          ],
          "font": {
           "color": "#2a3f5f"
          },
          "geo": {
           "bgcolor": "white",
           "lakecolor": "white",
           "landcolor": "#E5ECF6",
           "showlakes": true,
           "showland": true,
           "subunitcolor": "white"
          },
          "hoverlabel": {
           "align": "left"
          },
          "hovermode": "closest",
          "mapbox": {
           "style": "light"
          },
          "paper_bgcolor": "white",
          "plot_bgcolor": "#E5ECF6",
          "polar": {
           "angularaxis": {
            "gridcolor": "white",
            "linecolor": "white",
            "ticks": ""
           },
           "bgcolor": "#E5ECF6",
           "radialaxis": {
            "gridcolor": "white",
            "linecolor": "white",
            "ticks": ""
           }
          },
          "scene": {
           "xaxis": {
            "backgroundcolor": "#E5ECF6",
            "gridcolor": "white",
            "gridwidth": 2,
            "linecolor": "white",
            "showbackground": true,
            "ticks": "",
            "zerolinecolor": "white"
           },
           "yaxis": {
            "backgroundcolor": "#E5ECF6",
            "gridcolor": "white",
            "gridwidth": 2,
            "linecolor": "white",
            "showbackground": true,
            "ticks": "",
            "zerolinecolor": "white"
           },
           "zaxis": {
            "backgroundcolor": "#E5ECF6",
            "gridcolor": "white",
            "gridwidth": 2,
            "linecolor": "white",
            "showbackground": true,
            "ticks": "",
            "zerolinecolor": "white"
           }
          },
          "shapedefaults": {
           "line": {
            "color": "#2a3f5f"
           }
          },
          "ternary": {
           "aaxis": {
            "gridcolor": "white",
            "linecolor": "white",
            "ticks": ""
           },
           "baxis": {
            "gridcolor": "white",
            "linecolor": "white",
            "ticks": ""
           },
           "bgcolor": "#E5ECF6",
           "caxis": {
            "gridcolor": "white",
            "linecolor": "white",
            "ticks": ""
           }
          },
          "title": {
           "x": 0.05
          },
          "xaxis": {
           "automargin": true,
           "gridcolor": "white",
           "linecolor": "white",
           "ticks": "",
           "title": {
            "standoff": 15
           },
           "zerolinecolor": "white",
           "zerolinewidth": 2
          },
          "yaxis": {
           "automargin": true,
           "gridcolor": "white",
           "linecolor": "white",
           "ticks": "",
           "title": {
            "standoff": 15
           },
           "zerolinecolor": "white",
           "zerolinewidth": 2
          }
         }
        },
        "title": {
         "text": "Nascimentos por Ano e Sexo (1900-2023)"
        },
        "updatemenus": [
         {
          "buttons": [
           {
            "args": [
             null,
             {
              "frame": {
               "duration": 500,
               "redraw": true
              },
              "fromcurrent": true,
              "mode": "immediate",
              "transition": {
               "duration": 500,
               "easing": "linear"
              }
             }
            ],
            "label": "&#9654;",
            "method": "animate"
           },
           {
            "args": [
             [
              null
             ],
             {
              "frame": {
               "duration": 0,
               "redraw": true
              },
              "fromcurrent": true,
              "mode": "immediate",
              "transition": {
               "duration": 0,
               "easing": "linear"
              }
             }
            ],
            "label": "&#9724;",
            "method": "animate"
           }
          ],
          "direction": "left",
          "pad": {
           "r": 10,
           "t": 70
          },
          "showactive": false,
          "type": "buttons",
          "x": 0.1,
          "xanchor": "right",
          "y": 0,
          "yanchor": "top"
         }
        ],
        "xaxis": {
         "anchor": "y",
         "domain": [
          0,
          1
         ],
         "range": [
          0,
          121533.50000000001
         ],
         "title": {
          "text": "Nascimentos"
         }
        },
        "yaxis": {
         "anchor": "x",
         "categoryarray": [
          "Feminino",
          "Masculino"
         ],
         "categoryorder": "total ascending",
         "domain": [
          0,
          1
         ],
         "title": {
          "text": "Sexo"
         }
        }
       }
      }
     },
     "metadata": {},
     "output_type": "display_data"
    }
   ],
   "source": [
    "fig = px.bar(\n",
    "    tabela_long,\n",
    "    y='Sexo',           # barras horizontais para categorias Sexo\n",
    "    x='Nascimentos',\n",
    "    color='Sexo',\n",
    "    orientation='h',    # barras horizontais\n",
    "    animation_frame='Anos',    # animação por anos\n",
    "    animation_group='Sexo',    # grupo de animação\n",
    "    range_x=[0, tabela_long['Nascimentos'].max() * 1.1],\n",
    "    color_discrete_map={'Masculino': 'blue', 'Feminino': 'pink'},\n",
    "    title='Nascimentos por Ano e Sexo (1900-2023)',\n",
    "    text='Nascimentos',\n",
    ")\n",
    "\n",
    "fig.update_layout(yaxis={'categoryorder':'total ascending'})  # para ordem das barras\n",
    "fig.show()\n"
   ]
  },
  {
   "cell_type": "code",
   "execution_count": 19,
   "id": "4235336d",
   "metadata": {},
   "outputs": [],
   "source": [
    "fig.write_html('grafico_dinamico_natalidade_HM.html')"
   ]
  }
 ],
 "metadata": {
  "kernelspec": {
   "display_name": "Python 3",
   "language": "python",
   "name": "python3"
  },
  "language_info": {
   "codemirror_mode": {
    "name": "ipython",
    "version": 3
   },
   "file_extension": ".py",
   "mimetype": "text/x-python",
   "name": "python",
   "nbconvert_exporter": "python",
   "pygments_lexer": "ipython3",
   "version": "3.12.7"
  }
 },
 "nbformat": 4,
 "nbformat_minor": 5
}
