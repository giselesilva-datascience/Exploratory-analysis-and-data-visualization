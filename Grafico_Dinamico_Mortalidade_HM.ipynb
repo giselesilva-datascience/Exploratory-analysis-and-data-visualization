{
 "cells": [
  {
   "cell_type": "code",
   "execution_count": 3,
   "id": "c38c339e",
   "metadata": {},
   "outputs": [],
   "source": [
    "import pandas as pd\n",
    "import plotly.express as px\n",
    "tabela = pd.read_csv('ETL_Taxa_Mortalidade_1900_a_2023.csv', sep=';', encoding='latin1')"
   ]
  },
  {
   "cell_type": "code",
   "execution_count": 5,
   "id": "616afeb9",
   "metadata": {},
   "outputs": [],
   "source": [
    "import plotly.express as px"
   ]
  },
  {
   "cell_type": "code",
   "execution_count": 7,
   "id": "3955998d",
   "metadata": {},
   "outputs": [],
   "source": [
    "# Exemplo de criação do dataframe tabela_long\n",
    "tabela_long = tabela.melt(id_vars=['Anos'], value_vars=['Masculino', 'Feminino'], \n",
    "                          var_name='Sexo', value_name='Obitos')  # ou o nome correto das colunas\n"
   ]
  },
  {
   "cell_type": "code",
   "execution_count": 9,
   "id": "d2359dd5",
   "metadata": {},
   "outputs": [
    {
     "data": {
      "application/vnd.plotly.v1+json": {
       "config": {
        "plotlyServerURL": "https://plot.ly"
       },
       "data": [
        {
         "hovertemplate": "Sexo=%{y}<br>Anos=1900<br>Obitos=%{text}<extra></extra>",
         "ids": [
          "Masculino"
         ],
         "legendgroup": "Masculino",
         "marker": {
          "color": "blue",
          "pattern": {
           "shape": ""
          }
         },
         "name": "Masculino",
         "orientation": "h",
         "showlegend": true,
         "text": {
          "bdata": "AAAAAAB+60A=",
          "dtype": "f8"
         },
         "textposition": "auto",
         "type": "bar",
         "x": {
          "bdata": "8NsAAA==",
          "dtype": "i4"
         },
         "xaxis": "x",
         "y": [
          "Masculino"
         ],
         "yaxis": "y"
        },
        {
         "hovertemplate": "Sexo=%{y}<br>Anos=1900<br>Obitos=%{text}<extra></extra>",
         "ids": [
          "Feminino"
         ],
         "legendgroup": "Feminino",
         "marker": {
          "color": "pink",
          "pattern": {
           "shape": ""
          }
         },
         "name": "Feminino",
         "orientation": "h",
         "showlegend": true,
         "text": {
          "bdata": "AAAAAEBh6kA=",
          "dtype": "f8"
         },
         "textposition": "auto",
         "type": "bar",
         "x": {
          "bdata": "CtMAAA==",
          "dtype": "i4"
         },
         "xaxis": "x",
         "y": [
          "Feminino"
         ],
         "yaxis": "y"
        }
       ],
       "frames": [
        {
         "data": [
          {
           "hovertemplate": "Sexo=%{y}<br>Anos=1900<br>Obitos=%{text}<extra></extra>",
           "ids": [
            "Masculino"
           ],
           "legendgroup": "Masculino",
           "marker": {
            "color": "blue",
            "pattern": {
             "shape": ""
            }
           },
           "name": "Masculino",
           "orientation": "h",
           "showlegend": true,
           "text": {
            "bdata": "AAAAAAB+60A=",
            "dtype": "f8"
           },
           "textposition": "auto",
           "type": "bar",
           "x": {
            "bdata": "8NsAAA==",
            "dtype": "i4"
           },
           "xaxis": "x",
           "y": [
            "Masculino"
           ],
           "yaxis": "y"
          },
          {
           "hovertemplate": "Sexo=%{y}<br>Anos=1900<br>Obitos=%{text}<extra></extra>",
           "ids": [
            "Feminino"
           ],
           "legendgroup": "Feminino",
           "marker": {
            "color": "pink",
            "pattern": {
             "shape": ""
            }
           },
           "name": "Feminino",
           "orientation": "h",
           "showlegend": true,
           "text": {
            "bdata": "AAAAAEBh6kA=",
            "dtype": "f8"
           },
           "textposition": "auto",
           "type": "bar",
           "x": {
            "bdata": "CtMAAA==",
            "dtype": "i4"
           },
           "xaxis": "x",
           "y": [
            "Feminino"
           ],
           "yaxis": "y"
          }
         ],
         "name": "1900"
        },
        {
         "data": [
          {
           "hovertemplate": "Sexo=%{y}<br>Anos=1910<br>Obitos=%{text}<extra></extra>",
           "ids": [
            "Masculino"
           ],
           "legendgroup": "Masculino",
           "marker": {
            "color": "blue",
            "pattern": {
             "shape": ""
            }
           },
           "name": "Masculino",
           "orientation": "h",
           "showlegend": true,
           "text": {
            "bdata": "AAAAAIBi7EA=",
            "dtype": "f8"
           },
           "textposition": "auto",
           "type": "bar",
           "x": {
            "bdata": "FOMAAA==",
            "dtype": "i4"
           },
           "xaxis": "x",
           "y": [
            "Masculino"
           ],
           "yaxis": "y"
          },
          {
           "hovertemplate": "Sexo=%{y}<br>Anos=1910<br>Obitos=%{text}<extra></extra>",
           "ids": [
            "Feminino"
           ],
           "legendgroup": "Feminino",
           "marker": {
            "color": "pink",
            "pattern": {
             "shape": ""
            }
           },
           "name": "Feminino",
           "orientation": "h",
           "showlegend": true,
           "text": {
            "bdata": "AAAAAKAs60A=",
            "dtype": "f8"
           },
           "textposition": "auto",
           "type": "bar",
           "x": {
            "bdata": "ZdkAAA==",
            "dtype": "i4"
           },
           "xaxis": "x",
           "y": [
            "Feminino"
           ],
           "yaxis": "y"
          }
         ],
         "name": "1910"
        },
        {
         "data": [
          {
           "hovertemplate": "Sexo=%{y}<br>Anos=1920<br>Obitos=%{text}<extra></extra>",
           "ids": [
            "Masculino"
           ],
           "legendgroup": "Masculino",
           "marker": {
            "color": "blue",
            "pattern": {
             "shape": ""
            }
           },
           "name": "Masculino",
           "orientation": "h",
           "showlegend": true,
           "text": {
            "bdata": "AAAAAMCh8UA=",
            "dtype": "f8"
           },
           "textposition": "auto",
           "type": "bar",
           "x": {
            "bdata": "HBoBAA==",
            "dtype": "i4"
           },
           "xaxis": "x",
           "y": [
            "Masculino"
           ],
           "yaxis": "y"
          },
          {
           "hovertemplate": "Sexo=%{y}<br>Anos=1920<br>Obitos=%{text}<extra></extra>",
           "ids": [
            "Feminino"
           ],
           "legendgroup": "Feminino",
           "marker": {
            "color": "pink",
            "pattern": {
             "shape": ""
            }
           },
           "name": "Feminino",
           "orientation": "h",
           "showlegend": true,
           "text": {
            "bdata": "AAAAAGBA8UA=",
            "dtype": "f8"
           },
           "textposition": "auto",
           "type": "bar",
           "x": {
            "bdata": "BhQBAA==",
            "dtype": "i4"
           },
           "xaxis": "x",
           "y": [
            "Feminino"
           ],
           "yaxis": "y"
          }
         ],
         "name": "1920"
        },
        {
         "data": [
          {
           "hovertemplate": "Sexo=%{y}<br>Anos=1930<br>Obitos=%{text}<extra></extra>",
           "ids": [
            "Masculino"
           ],
           "legendgroup": "Masculino",
           "marker": {
            "color": "blue",
            "pattern": {
             "shape": ""
            }
           },
           "name": "Masculino",
           "orientation": "h",
           "showlegend": true,
           "text": {
            "bdata": "AAAAAIAO7UA=",
            "dtype": "f8"
           },
           "textposition": "auto",
           "type": "bar",
           "x": {
            "bdata": "dOgAAA==",
            "dtype": "i4"
           },
           "xaxis": "x",
           "y": [
            "Masculino"
           ],
           "yaxis": "y"
          },
          {
           "hovertemplate": "Sexo=%{y}<br>Anos=1930<br>Obitos=%{text}<extra></extra>",
           "ids": [
            "Feminino"
           ],
           "legendgroup": "Feminino",
           "marker": {
            "color": "pink",
            "pattern": {
             "shape": ""
            }
           },
           "name": "Feminino",
           "orientation": "h",
           "showlegend": true,
           "text": {
            "bdata": "AAAAAIDB60A=",
            "dtype": "f8"
           },
           "textposition": "auto",
           "type": "bar",
           "x": {
            "bdata": "DN4AAA==",
            "dtype": "i4"
           },
           "xaxis": "x",
           "y": [
            "Feminino"
           ],
           "yaxis": "y"
          }
         ],
         "name": "1930"
        },
        {
         "data": [
          {
           "hovertemplate": "Sexo=%{y}<br>Anos=1940<br>Obitos=%{text}<extra></extra>",
           "ids": [
            "Masculino"
           ],
           "legendgroup": "Masculino",
           "marker": {
            "color": "blue",
            "pattern": {
             "shape": ""
            }
           },
           "name": "Masculino",
           "orientation": "h",
           "showlegend": true,
           "text": {
            "bdata": "AAAAAEDA7UA=",
            "dtype": "f8"
           },
           "textposition": "auto",
           "type": "bar",
           "x": {
            "bdata": "Au4AAA==",
            "dtype": "i4"
           },
           "xaxis": "x",
           "y": [
            "Masculino"
           ],
           "yaxis": "y"
          },
          {
           "hovertemplate": "Sexo=%{y}<br>Anos=1940<br>Obitos=%{text}<extra></extra>",
           "ids": [
            "Feminino"
           ],
           "legendgroup": "Feminino",
           "marker": {
            "color": "pink",
            "pattern": {
             "shape": ""
            }
           },
           "name": "Feminino",
           "orientation": "h",
           "showlegend": true,
           "text": {
            "bdata": "AAAAAIAU7UA=",
            "dtype": "f8"
           },
           "textposition": "auto",
           "type": "bar",
           "x": {
            "bdata": "pOgAAA==",
            "dtype": "i4"
           },
           "xaxis": "x",
           "y": [
            "Feminino"
           ],
           "yaxis": "y"
          }
         ],
         "name": "1940"
        },
        {
         "data": [
          {
           "hovertemplate": "Sexo=%{y}<br>Anos=1950<br>Obitos=%{text}<extra></extra>",
           "ids": [
            "Masculino"
           ],
           "legendgroup": "Masculino",
           "marker": {
            "color": "blue",
            "pattern": {
             "shape": ""
            }
           },
           "name": "Masculino",
           "orientation": "h",
           "showlegend": true,
           "text": {
            "bdata": "AAAAAMCR6UA=",
            "dtype": "f8"
           },
           "textposition": "auto",
           "type": "bar",
           "x": {
            "bdata": "jswAAA==",
            "dtype": "i4"
           },
           "xaxis": "x",
           "y": [
            "Masculino"
           ],
           "yaxis": "y"
          },
          {
           "hovertemplate": "Sexo=%{y}<br>Anos=1950<br>Obitos=%{text}<extra></extra>",
           "ids": [
            "Feminino"
           ],
           "legendgroup": "Feminino",
           "marker": {
            "color": "pink",
            "pattern": {
             "shape": ""
            }
           },
           "name": "Feminino",
           "orientation": "h",
           "showlegend": true,
           "text": {
            "bdata": "AAAAAACg6EA=",
            "dtype": "f8"
           },
           "textposition": "auto",
           "type": "bar",
           "x": {
            "bdata": "AMUAAA==",
            "dtype": "i4"
           },
           "xaxis": "x",
           "y": [
            "Feminino"
           ],
           "yaxis": "y"
          }
         ],
         "name": "1950"
        },
        {
         "data": [
          {
           "hovertemplate": "Sexo=%{y}<br>Anos=1960<br>Obitos=%{text}<extra></extra>",
           "ids": [
            "Masculino"
           ],
           "legendgroup": "Masculino",
           "marker": {
            "color": "blue",
            "pattern": {
             "shape": ""
            }
           },
           "name": "Masculino",
           "orientation": "h",
           "showlegend": true,
           "text": {
            "bdata": "AAAAAMB950A=",
            "dtype": "f8"
           },
           "textposition": "auto",
           "type": "bar",
           "x": {
            "bdata": "7rsAAA==",
            "dtype": "i4"
           },
           "xaxis": "x",
           "y": [
            "Masculino"
           ],
           "yaxis": "y"
          },
          {
           "hovertemplate": "Sexo=%{y}<br>Anos=1960<br>Obitos=%{text}<extra></extra>",
           "ids": [
            "Feminino"
           ],
           "legendgroup": "Feminino",
           "marker": {
            "color": "pink",
            "pattern": {
             "shape": ""
            }
           },
           "name": "Feminino",
           "orientation": "h",
           "showlegend": true,
           "text": {
            "bdata": "AAAAAKDW5kA=",
            "dtype": "f8"
           },
           "textposition": "auto",
           "type": "bar",
           "x": {
            "bdata": "tbYAAA==",
            "dtype": "i4"
           },
           "xaxis": "x",
           "y": [
            "Feminino"
           ],
           "yaxis": "y"
          }
         ],
         "name": "1960"
        },
        {
         "data": [
          {
           "hovertemplate": "Sexo=%{y}<br>Anos=1970<br>Obitos=%{text}<extra></extra>",
           "ids": [
            "Masculino"
           ],
           "legendgroup": "Masculino",
           "marker": {
            "color": "blue",
            "pattern": {
             "shape": ""
            }
           },
           "name": "Masculino",
           "orientation": "h",
           "showlegend": true,
           "text": {
            "bdata": "AAAAAGAJ50A=",
            "dtype": "f8"
           },
           "textposition": "auto",
           "type": "bar",
           "x": {
            "bdata": "S7gAAA==",
            "dtype": "i4"
           },
           "xaxis": "x",
           "y": [
            "Masculino"
           ],
           "yaxis": "y"
          },
          {
           "hovertemplate": "Sexo=%{y}<br>Anos=1970<br>Obitos=%{text}<extra></extra>",
           "ids": [
            "Feminino"
           ],
           "legendgroup": "Feminino",
           "marker": {
            "color": "pink",
            "pattern": {
             "shape": ""
            }
           },
           "name": "Feminino",
           "orientation": "h",
           "showlegend": true,
           "text": {
            "bdata": "AAAAAGBN5kA=",
            "dtype": "f8"
           },
           "textposition": "auto",
           "type": "bar",
           "x": {
            "bdata": "a7IAAA==",
            "dtype": "i4"
           },
           "xaxis": "x",
           "y": [
            "Feminino"
           ],
           "yaxis": "y"
          }
         ],
         "name": "1970"
        },
        {
         "data": [
          {
           "hovertemplate": "Sexo=%{y}<br>Anos=1980<br>Obitos=%{text}<extra></extra>",
           "ids": [
            "Masculino"
           ],
           "legendgroup": "Masculino",
           "marker": {
            "color": "blue",
            "pattern": {
             "shape": ""
            }
           },
           "name": "Masculino",
           "orientation": "h",
           "showlegend": true,
           "text": {
            "bdata": "AAAAAGAo6EA=",
            "dtype": "f8"
           },
           "textposition": "auto",
           "type": "bar",
           "x": {
            "bdata": "Q8EAAA==",
            "dtype": "i4"
           },
           "xaxis": "x",
           "y": [
            "Masculino"
           ],
           "yaxis": "y"
          },
          {
           "hovertemplate": "Sexo=%{y}<br>Anos=1980<br>Obitos=%{text}<extra></extra>",
           "ids": [
            "Feminino"
           ],
           "legendgroup": "Feminino",
           "marker": {
            "color": "pink",
            "pattern": {
             "shape": ""
            }
           },
           "name": "Feminino",
           "orientation": "h",
           "showlegend": true,
           "text": {
            "bdata": "AAAAAOAg5kA=",
            "dtype": "f8"
           },
           "textposition": "auto",
           "type": "bar",
           "x": {
            "bdata": "B7EAAA==",
            "dtype": "i4"
           },
           "xaxis": "x",
           "y": [
            "Feminino"
           ],
           "yaxis": "y"
          }
         ],
         "name": "1980"
        },
        {
         "data": [
          {
           "hovertemplate": "Sexo=%{y}<br>Anos=1981<br>Obitos=%{text}<extra></extra>",
           "ids": [
            "Masculino"
           ],
           "legendgroup": "Masculino",
           "marker": {
            "color": "blue",
            "pattern": {
             "shape": ""
            }
           },
           "name": "Masculino",
           "orientation": "h",
           "showlegend": true,
           "text": {
            "bdata": "AAAAAGBv6EA=",
            "dtype": "f8"
           },
           "textposition": "auto",
           "type": "bar",
           "x": {
            "bdata": "e8MAAA==",
            "dtype": "i4"
           },
           "xaxis": "x",
           "y": [
            "Masculino"
           ],
           "yaxis": "y"
          },
          {
           "hovertemplate": "Sexo=%{y}<br>Anos=1981<br>Obitos=%{text}<extra></extra>",
           "ids": [
            "Feminino"
           ],
           "legendgroup": "Feminino",
           "marker": {
            "color": "pink",
            "pattern": {
             "shape": ""
            }
           },
           "name": "Feminino",
           "orientation": "h",
           "showlegend": true,
           "text": {
            "bdata": "AAAAAKBO5kA=",
            "dtype": "f8"
           },
           "textposition": "auto",
           "type": "bar",
           "x": {
            "bdata": "dbIAAA==",
            "dtype": "i4"
           },
           "xaxis": "x",
           "y": [
            "Feminino"
           ],
           "yaxis": "y"
          }
         ],
         "name": "1981"
        },
        {
         "data": [
          {
           "hovertemplate": "Sexo=%{y}<br>Anos=1982<br>Obitos=%{text}<extra></extra>",
           "ids": [
            "Masculino"
           ],
           "legendgroup": "Masculino",
           "marker": {
            "color": "blue",
            "pattern": {
             "shape": ""
            }
           },
           "name": "Masculino",
           "orientation": "h",
           "showlegend": true,
           "text": {
            "bdata": "AAAAAGCa50A=",
            "dtype": "f8"
           },
           "textposition": "auto",
           "type": "bar",
           "x": {
            "bdata": "07wAAA==",
            "dtype": "i4"
           },
           "xaxis": "x",
           "y": [
            "Masculino"
           ],
           "yaxis": "y"
          },
          {
           "hovertemplate": "Sexo=%{y}<br>Anos=1982<br>Obitos=%{text}<extra></extra>",
           "ids": [
            "Feminino"
           ],
           "legendgroup": "Feminino",
           "marker": {
            "color": "pink",
            "pattern": {
             "shape": ""
            }
           },
           "name": "Feminino",
           "orientation": "h",
           "showlegend": true,
           "text": {
            "bdata": "AAAAAACB5UA=",
            "dtype": "f8"
           },
           "textposition": "auto",
           "type": "bar",
           "x": {
            "bdata": "CKwAAA==",
            "dtype": "i4"
           },
           "xaxis": "x",
           "y": [
            "Feminino"
           ],
           "yaxis": "y"
          }
         ],
         "name": "1982"
        },
        {
         "data": [
          {
           "hovertemplate": "Sexo=%{y}<br>Anos=1983<br>Obitos=%{text}<extra></extra>",
           "ids": [
            "Masculino"
           ],
           "legendgroup": "Masculino",
           "marker": {
            "color": "blue",
            "pattern": {
             "shape": ""
            }
           },
           "name": "Masculino",
           "orientation": "h",
           "showlegend": true,
           "text": {
            "bdata": "AAAAAKBv6EA=",
            "dtype": "f8"
           },
           "textposition": "auto",
           "type": "bar",
           "x": {
            "bdata": "fcMAAA==",
            "dtype": "i4"
           },
           "xaxis": "x",
           "y": [
            "Masculino"
           ],
           "yaxis": "y"
          },
          {
           "hovertemplate": "Sexo=%{y}<br>Anos=1983<br>Obitos=%{text}<extra></extra>",
           "ids": [
            "Feminino"
           ],
           "legendgroup": "Feminino",
           "marker": {
            "color": "pink",
            "pattern": {
             "shape": ""
            }
           },
           "name": "Feminino",
           "orientation": "h",
           "showlegend": true,
           "text": {
            "bdata": "AAAAAMCG5kA=",
            "dtype": "f8"
           },
           "textposition": "auto",
           "type": "bar",
           "x": {
            "bdata": "NrQAAA==",
            "dtype": "i4"
           },
           "xaxis": "x",
           "y": [
            "Feminino"
           ],
           "yaxis": "y"
          }
         ],
         "name": "1983"
        },
        {
         "data": [
          {
           "hovertemplate": "Sexo=%{y}<br>Anos=1984<br>Obitos=%{text}<extra></extra>",
           "ids": [
            "Masculino"
           ],
           "legendgroup": "Masculino",
           "marker": {
            "color": "blue",
            "pattern": {
             "shape": ""
            }
           },
           "name": "Masculino",
           "orientation": "h",
           "showlegend": true,
           "text": {
            "bdata": "AAAAAEDJ6EA=",
            "dtype": "f8"
           },
           "textposition": "auto",
           "type": "bar",
           "x": {
            "bdata": "SsYAAA==",
            "dtype": "i4"
           },
           "xaxis": "x",
           "y": [
            "Masculino"
           ],
           "yaxis": "y"
          },
          {
           "hovertemplate": "Sexo=%{y}<br>Anos=1984<br>Obitos=%{text}<extra></extra>",
           "ids": [
            "Feminino"
           ],
           "legendgroup": "Feminino",
           "marker": {
            "color": "pink",
            "pattern": {
             "shape": ""
            }
           },
           "name": "Feminino",
           "orientation": "h",
           "showlegend": true,
           "text": {
            "bdata": "AAAAAKCQ5kA=",
            "dtype": "f8"
           },
           "textposition": "auto",
           "type": "bar",
           "x": {
            "bdata": "hbQAAA==",
            "dtype": "i4"
           },
           "xaxis": "x",
           "y": [
            "Feminino"
           ],
           "yaxis": "y"
          }
         ],
         "name": "1984"
        },
        {
         "data": [
          {
           "hovertemplate": "Sexo=%{y}<br>Anos=1985<br>Obitos=%{text}<extra></extra>",
           "ids": [
            "Masculino"
           ],
           "legendgroup": "Masculino",
           "marker": {
            "color": "blue",
            "pattern": {
             "shape": ""
            }
           },
           "name": "Masculino",
           "orientation": "h",
           "showlegend": true,
           "text": {
            "bdata": "AAAAAIDQ6EA=",
            "dtype": "f8"
           },
           "textposition": "auto",
           "type": "bar",
           "x": {
            "bdata": "hMYAAA==",
            "dtype": "i4"
           },
           "xaxis": "x",
           "y": [
            "Masculino"
           ],
           "yaxis": "y"
          },
          {
           "hovertemplate": "Sexo=%{y}<br>Anos=1985<br>Obitos=%{text}<extra></extra>",
           "ids": [
            "Feminino"
           ],
           "legendgroup": "Feminino",
           "marker": {
            "color": "pink",
            "pattern": {
             "shape": ""
            }
           },
           "name": "Feminino",
           "orientation": "h",
           "showlegend": true,
           "text": {
            "bdata": "AAAAACCX5kA=",
            "dtype": "f8"
           },
           "textposition": "auto",
           "type": "bar",
           "x": {
            "bdata": "ubQAAA==",
            "dtype": "i4"
           },
           "xaxis": "x",
           "y": [
            "Feminino"
           ],
           "yaxis": "y"
          }
         ],
         "name": "1985"
        },
        {
         "data": [
          {
           "hovertemplate": "Sexo=%{y}<br>Anos=1986<br>Obitos=%{text}<extra></extra>",
           "ids": [
            "Masculino"
           ],
           "legendgroup": "Masculino",
           "marker": {
            "color": "blue",
            "pattern": {
             "shape": ""
            }
           },
           "name": "Masculino",
           "orientation": "h",
           "showlegend": true,
           "text": {
            "bdata": "AAAAAIBQ6EA=",
            "dtype": "f8"
           },
           "textposition": "auto",
           "type": "bar",
           "x": {
            "bdata": "hMIAAA==",
            "dtype": "i4"
           },
           "xaxis": "x",
           "y": [
            "Masculino"
           ],
           "yaxis": "y"
          },
          {
           "hovertemplate": "Sexo=%{y}<br>Anos=1986<br>Obitos=%{text}<extra></extra>",
           "ids": [
            "Feminino"
           ],
           "legendgroup": "Feminino",
           "marker": {
            "color": "pink",
            "pattern": {
             "shape": ""
            }
           },
           "name": "Feminino",
           "orientation": "h",
           "showlegend": true,
           "text": {
            "bdata": "AAAAAKBT5kA=",
            "dtype": "f8"
           },
           "textposition": "auto",
           "type": "bar",
           "x": {
            "bdata": "nbIAAA==",
            "dtype": "i4"
           },
           "xaxis": "x",
           "y": [
            "Feminino"
           ],
           "yaxis": "y"
          }
         ],
         "name": "1986"
        },
        {
         "data": [
          {
           "hovertemplate": "Sexo=%{y}<br>Anos=1987<br>Obitos=%{text}<extra></extra>",
           "ids": [
            "Masculino"
           ],
           "legendgroup": "Masculino",
           "marker": {
            "color": "blue",
            "pattern": {
             "shape": ""
            }
           },
           "name": "Masculino",
           "orientation": "h",
           "showlegend": true,
           "text": {
            "bdata": "AAAAAMA16EA=",
            "dtype": "f8"
           },
           "textposition": "auto",
           "type": "bar",
           "x": {
            "bdata": "rsEAAA==",
            "dtype": "i4"
           },
           "xaxis": "x",
           "y": [
            "Masculino"
           ],
           "yaxis": "y"
          },
          {
           "hovertemplate": "Sexo=%{y}<br>Anos=1987<br>Obitos=%{text}<extra></extra>",
           "ids": [
            "Feminino"
           ],
           "legendgroup": "Feminino",
           "marker": {
            "color": "pink",
            "pattern": {
             "shape": ""
            }
           },
           "name": "Feminino",
           "orientation": "h",
           "showlegend": true,
           "text": {
            "bdata": "AAAAAAA65kA=",
            "dtype": "f8"
           },
           "textposition": "auto",
           "type": "bar",
           "x": {
            "bdata": "0LEAAA==",
            "dtype": "i4"
           },
           "xaxis": "x",
           "y": [
            "Feminino"
           ],
           "yaxis": "y"
          }
         ],
         "name": "1987"
        },
        {
         "data": [
          {
           "hovertemplate": "Sexo=%{y}<br>Anos=1988<br>Obitos=%{text}<extra></extra>",
           "ids": [
            "Masculino"
           ],
           "legendgroup": "Masculino",
           "marker": {
            "color": "blue",
            "pattern": {
             "shape": ""
            }
           },
           "name": "Masculino",
           "orientation": "h",
           "showlegend": true,
           "text": {
            "bdata": "AAAAAMAF6UA=",
            "dtype": "f8"
           },
           "textposition": "auto",
           "type": "bar",
           "x": {
            "bdata": "LsgAAA==",
            "dtype": "i4"
           },
           "xaxis": "x",
           "y": [
            "Masculino"
           ],
           "yaxis": "y"
          },
          {
           "hovertemplate": "Sexo=%{y}<br>Anos=1988<br>Obitos=%{text}<extra></extra>",
           "ids": [
            "Feminino"
           ],
           "legendgroup": "Feminino",
           "marker": {
            "color": "pink",
            "pattern": {
             "shape": ""
            }
           },
           "name": "Feminino",
           "orientation": "h",
           "showlegend": true,
           "text": {
            "bdata": "AAAAAMDA5kA=",
            "dtype": "f8"
           },
           "textposition": "auto",
           "type": "bar",
           "x": {
            "bdata": "BrYAAA==",
            "dtype": "i4"
           },
           "xaxis": "x",
           "y": [
            "Feminino"
           ],
           "yaxis": "y"
          }
         ],
         "name": "1988"
        },
        {
         "data": [
          {
           "hovertemplate": "Sexo=%{y}<br>Anos=1989<br>Obitos=%{text}<extra></extra>",
           "ids": [
            "Masculino"
           ],
           "legendgroup": "Masculino",
           "marker": {
            "color": "blue",
            "pattern": {
             "shape": ""
            }
           },
           "name": "Masculino",
           "orientation": "h",
           "showlegend": true,
           "text": {
            "bdata": "AAAAAMBv6EA=",
            "dtype": "f8"
           },
           "textposition": "auto",
           "type": "bar",
           "x": {
            "bdata": "fsMAAA==",
            "dtype": "i4"
           },
           "xaxis": "x",
           "y": [
            "Masculino"
           ],
           "yaxis": "y"
          },
          {
           "hovertemplate": "Sexo=%{y}<br>Anos=1989<br>Obitos=%{text}<extra></extra>",
           "ids": [
            "Feminino"
           ],
           "legendgroup": "Feminino",
           "marker": {
            "color": "pink",
            "pattern": {
             "shape": ""
            }
           },
           "name": "Feminino",
           "orientation": "h",
           "showlegend": true,
           "text": {
            "bdata": "AAAAACBQ5kA=",
            "dtype": "f8"
           },
           "textposition": "auto",
           "type": "bar",
           "x": {
            "bdata": "gbIAAA==",
            "dtype": "i4"
           },
           "xaxis": "x",
           "y": [
            "Feminino"
           ],
           "yaxis": "y"
          }
         ],
         "name": "1989"
        },
        {
         "data": [
          {
           "hovertemplate": "Sexo=%{y}<br>Anos=1990<br>Obitos=%{text}<extra></extra>",
           "ids": [
            "Masculino"
           ],
           "legendgroup": "Masculino",
           "marker": {
            "color": "blue",
            "pattern": {
             "shape": ""
            }
           },
           "name": "Masculino",
           "orientation": "h",
           "showlegend": true,
           "text": {
            "bdata": "AAAAACD56UA=",
            "dtype": "f8"
           },
           "textposition": "auto",
           "type": "bar",
           "x": {
            "bdata": "yc8AAA==",
            "dtype": "i4"
           },
           "xaxis": "x",
           "y": [
            "Masculino"
           ],
           "yaxis": "y"
          },
          {
           "hovertemplate": "Sexo=%{y}<br>Anos=1990<br>Obitos=%{text}<extra></extra>",
           "ids": [
            "Feminino"
           ],
           "legendgroup": "Feminino",
           "marker": {
            "color": "pink",
            "pattern": {
             "shape": ""
            }
           },
           "name": "Feminino",
           "orientation": "h",
           "showlegend": true,
           "text": {
            "bdata": "AAAAAOA06EA=",
            "dtype": "f8"
           },
           "textposition": "auto",
           "type": "bar",
           "x": {
            "bdata": "p8EAAA==",
            "dtype": "i4"
           },
           "xaxis": "x",
           "y": [
            "Feminino"
           ],
           "yaxis": "y"
          }
         ],
         "name": "1990"
        },
        {
         "data": [
          {
           "hovertemplate": "Sexo=%{y}<br>Anos=1991<br>Obitos=%{text}<extra></extra>",
           "ids": [
            "Masculino"
           ],
           "legendgroup": "Masculino",
           "marker": {
            "color": "blue",
            "pattern": {
             "shape": ""
            }
           },
           "name": "Masculino",
           "orientation": "h",
           "showlegend": true,
           "text": {
            "bdata": "AAAAACB16kA=",
            "dtype": "f8"
           },
           "textposition": "auto",
           "type": "bar",
           "x": {
            "bdata": "qdMAAA==",
            "dtype": "i4"
           },
           "xaxis": "x",
           "y": [
            "Masculino"
           ],
           "yaxis": "y"
          },
          {
           "hovertemplate": "Sexo=%{y}<br>Anos=1991<br>Obitos=%{text}<extra></extra>",
           "ids": [
            "Feminino"
           ],
           "legendgroup": "Feminino",
           "marker": {
            "color": "pink",
            "pattern": {
             "shape": ""
            }
           },
           "name": "Feminino",
           "orientation": "h",
           "showlegend": true,
           "text": {
            "bdata": "AAAAACBE6EA=",
            "dtype": "f8"
           },
           "textposition": "auto",
           "type": "bar",
           "x": {
            "bdata": "IcIAAA==",
            "dtype": "i4"
           },
           "xaxis": "x",
           "y": [
            "Feminino"
           ],
           "yaxis": "y"
          }
         ],
         "name": "1991"
        },
        {
         "data": [
          {
           "hovertemplate": "Sexo=%{y}<br>Anos=1992<br>Obitos=%{text}<extra></extra>",
           "ids": [
            "Masculino"
           ],
           "legendgroup": "Masculino",
           "marker": {
            "color": "blue",
            "pattern": {
             "shape": ""
            }
           },
           "name": "Masculino",
           "orientation": "h",
           "showlegend": true,
           "text": {
            "bdata": "AAAAAEDZ6UA=",
            "dtype": "f8"
           },
           "textposition": "auto",
           "type": "bar",
           "x": {
            "bdata": "ys4AAA==",
            "dtype": "i4"
           },
           "xaxis": "x",
           "y": [
            "Masculino"
           ],
           "yaxis": "y"
          },
          {
           "hovertemplate": "Sexo=%{y}<br>Anos=1992<br>Obitos=%{text}<extra></extra>",
           "ids": [
            "Feminino"
           ],
           "legendgroup": "Feminino",
           "marker": {
            "color": "pink",
            "pattern": {
             "shape": ""
            }
           },
           "name": "Feminino",
           "orientation": "h",
           "showlegend": true,
           "text": {
            "bdata": "AAAAAIBK50A=",
            "dtype": "f8"
           },
           "textposition": "auto",
           "type": "bar",
           "x": {
            "bdata": "VLoAAA==",
            "dtype": "i4"
           },
           "xaxis": "x",
           "y": [
            "Feminino"
           ],
           "yaxis": "y"
          }
         ],
         "name": "1992"
        },
        {
         "data": [
          {
           "hovertemplate": "Sexo=%{y}<br>Anos=1993<br>Obitos=%{text}<extra></extra>",
           "ids": [
            "Masculino"
           ],
           "legendgroup": "Masculino",
           "marker": {
            "color": "blue",
            "pattern": {
             "shape": ""
            }
           },
           "name": "Masculino",
           "orientation": "h",
           "showlegend": true,
           "text": {
            "bdata": "AAAAAAAh60A=",
            "dtype": "f8"
           },
           "textposition": "auto",
           "type": "bar",
           "x": {
            "bdata": "CNkAAA==",
            "dtype": "i4"
           },
           "xaxis": "x",
           "y": [
            "Masculino"
           ],
           "yaxis": "y"
          },
          {
           "hovertemplate": "Sexo=%{y}<br>Anos=1993<br>Obitos=%{text}<extra></extra>",
           "ids": [
            "Feminino"
           ],
           "legendgroup": "Feminino",
           "marker": {
            "color": "pink",
            "pattern": {
             "shape": ""
            }
           },
           "name": "Feminino",
           "orientation": "h",
           "showlegend": true,
           "text": {
            "bdata": "AAAAAMCa6EA=",
            "dtype": "f8"
           },
           "textposition": "auto",
           "type": "bar",
           "x": {
            "bdata": "1sQAAA==",
            "dtype": "i4"
           },
           "xaxis": "x",
           "y": [
            "Feminino"
           ],
           "yaxis": "y"
          }
         ],
         "name": "1993"
        },
        {
         "data": [
          {
           "hovertemplate": "Sexo=%{y}<br>Anos=1994<br>Obitos=%{text}<extra></extra>",
           "ids": [
            "Masculino"
           ],
           "legendgroup": "Masculino",
           "marker": {
            "color": "blue",
            "pattern": {
             "shape": ""
            }
           },
           "name": "Masculino",
           "orientation": "h",
           "showlegend": true,
           "text": {
            "bdata": "AAAAAOBw6UA=",
            "dtype": "f8"
           },
           "textposition": "auto",
           "type": "bar",
           "x": {
            "bdata": "h8sAAA==",
            "dtype": "i4"
           },
           "xaxis": "x",
           "y": [
            "Masculino"
           ],
           "yaxis": "y"
          },
          {
           "hovertemplate": "Sexo=%{y}<br>Anos=1994<br>Obitos=%{text}<extra></extra>",
           "ids": [
            "Feminino"
           ],
           "legendgroup": "Feminino",
           "marker": {
            "color": "pink",
            "pattern": {
             "shape": ""
            }
           },
           "name": "Feminino",
           "orientation": "h",
           "showlegend": true,
           "text": {
            "bdata": "AAAAACAD50A=",
            "dtype": "f8"
           },
           "textposition": "auto",
           "type": "bar",
           "x": {
            "bdata": "GbgAAA==",
            "dtype": "i4"
           },
           "xaxis": "x",
           "y": [
            "Feminino"
           ],
           "yaxis": "y"
          }
         ],
         "name": "1994"
        },
        {
         "data": [
          {
           "hovertemplate": "Sexo=%{y}<br>Anos=1995<br>Obitos=%{text}<extra></extra>",
           "ids": [
            "Masculino"
           ],
           "legendgroup": "Masculino",
           "marker": {
            "color": "blue",
            "pattern": {
             "shape": ""
            }
           },
           "name": "Masculino",
           "orientation": "h",
           "showlegend": true,
           "text": {
            "bdata": "AAAAAMBn6kA=",
            "dtype": "f8"
           },
           "textposition": "auto",
           "type": "bar",
           "x": {
            "bdata": "PtMAAA==",
            "dtype": "i4"
           },
           "xaxis": "x",
           "y": [
            "Masculino"
           ],
           "yaxis": "y"
          },
          {
           "hovertemplate": "Sexo=%{y}<br>Anos=1995<br>Obitos=%{text}<extra></extra>",
           "ids": [
            "Feminino"
           ],
           "legendgroup": "Feminino",
           "marker": {
            "color": "pink",
            "pattern": {
             "shape": ""
            }
           },
           "name": "Feminino",
           "orientation": "h",
           "showlegend": true,
           "text": {
            "bdata": "AAAAAKAe6EA=",
            "dtype": "f8"
           },
           "textposition": "auto",
           "type": "bar",
           "x": {
            "bdata": "9cAAAA==",
            "dtype": "i4"
           },
           "xaxis": "x",
           "y": [
            "Feminino"
           ],
           "yaxis": "y"
          }
         ],
         "name": "1995"
        },
        {
         "data": [
          {
           "hovertemplate": "Sexo=%{y}<br>Anos=1996<br>Obitos=%{text}<extra></extra>",
           "ids": [
            "Masculino"
           ],
           "legendgroup": "Masculino",
           "marker": {
            "color": "blue",
            "pattern": {
             "shape": ""
            }
           },
           "name": "Masculino",
           "orientation": "h",
           "showlegend": true,
           "text": {
            "bdata": "AAAAACBt60A=",
            "dtype": "f8"
           },
           "textposition": "auto",
           "type": "bar",
           "x": {
            "bdata": "adsAAA==",
            "dtype": "i4"
           },
           "xaxis": "x",
           "y": [
            "Masculino"
           ],
           "yaxis": "y"
          },
          {
           "hovertemplate": "Sexo=%{y}<br>Anos=1996<br>Obitos=%{text}<extra></extra>",
           "ids": [
            "Feminino"
           ],
           "legendgroup": "Feminino",
           "marker": {
            "color": "pink",
            "pattern": {
             "shape": ""
            }
           },
           "name": "Feminino",
           "orientation": "h",
           "showlegend": true,
           "text": {
            "bdata": "AAAAAADD6EA=",
            "dtype": "f8"
           },
           "textposition": "auto",
           "type": "bar",
           "x": {
            "bdata": "GMYAAA==",
            "dtype": "i4"
           },
           "xaxis": "x",
           "y": [
            "Feminino"
           ],
           "yaxis": "y"
          }
         ],
         "name": "1996"
        },
        {
         "data": [
          {
           "hovertemplate": "Sexo=%{y}<br>Anos=1997<br>Obitos=%{text}<extra></extra>",
           "ids": [
            "Masculino"
           ],
           "legendgroup": "Masculino",
           "marker": {
            "color": "blue",
            "pattern": {
             "shape": ""
            }
           },
           "name": "Masculino",
           "orientation": "h",
           "showlegend": true,
           "text": {
            "bdata": "AAAAACDH6kA=",
            "dtype": "f8"
           },
           "textposition": "auto",
           "type": "bar",
           "x": {
            "bdata": "OdYAAA==",
            "dtype": "i4"
           },
           "xaxis": "x",
           "y": [
            "Masculino"
           ],
           "yaxis": "y"
          },
          {
           "hovertemplate": "Sexo=%{y}<br>Anos=1997<br>Obitos=%{text}<extra></extra>",
           "ids": [
            "Feminino"
           ],
           "legendgroup": "Feminino",
           "marker": {
            "color": "pink",
            "pattern": {
             "shape": ""
            }
           },
           "name": "Feminino",
           "orientation": "h",
           "showlegend": true,
           "text": {
            "bdata": "AAAAACBi6EA=",
            "dtype": "f8"
           },
           "textposition": "auto",
           "type": "bar",
           "x": {
            "bdata": "EcMAAA==",
            "dtype": "i4"
           },
           "xaxis": "x",
           "y": [
            "Feminino"
           ],
           "yaxis": "y"
          }
         ],
         "name": "1997"
        },
        {
         "data": [
          {
           "hovertemplate": "Sexo=%{y}<br>Anos=1998<br>Obitos=%{text}<extra></extra>",
           "ids": [
            "Masculino"
           ],
           "legendgroup": "Masculino",
           "marker": {
            "color": "blue",
            "pattern": {
             "shape": ""
            }
           },
           "name": "Masculino",
           "orientation": "h",
           "showlegend": true,
           "text": {
            "bdata": "AAAAAOAr60A=",
            "dtype": "f8"
           },
           "textposition": "auto",
           "type": "bar",
           "x": {
            "bdata": "X9kAAA==",
            "dtype": "i4"
           },
           "xaxis": "x",
           "y": [
            "Masculino"
           ],
           "yaxis": "y"
          },
          {
           "hovertemplate": "Sexo=%{y}<br>Anos=1998<br>Obitos=%{text}<extra></extra>",
           "ids": [
            "Feminino"
           ],
           "legendgroup": "Feminino",
           "marker": {
            "color": "pink",
            "pattern": {
             "shape": ""
            }
           },
           "name": "Feminino",
           "orientation": "h",
           "showlegend": true,
           "text": {
            "bdata": "AAAAAOCu6EA=",
            "dtype": "f8"
           },
           "textposition": "auto",
           "type": "bar",
           "x": {
            "bdata": "d8UAAA==",
            "dtype": "i4"
           },
           "xaxis": "x",
           "y": [
            "Feminino"
           ],
           "yaxis": "y"
          }
         ],
         "name": "1998"
        },
        {
         "data": [
          {
           "hovertemplate": "Sexo=%{y}<br>Anos=1999<br>Obitos=%{text}<extra></extra>",
           "ids": [
            "Masculino"
           ],
           "legendgroup": "Masculino",
           "marker": {
            "color": "blue",
            "pattern": {
             "shape": ""
            }
           },
           "name": "Masculino",
           "orientation": "h",
           "showlegend": true,
           "text": {
            "bdata": "AAAAAGBu60A=",
            "dtype": "f8"
           },
           "textposition": "auto",
           "type": "bar",
           "x": {
            "bdata": "c9sAAA==",
            "dtype": "i4"
           },
           "xaxis": "x",
           "y": [
            "Masculino"
           ],
           "yaxis": "y"
          },
          {
           "hovertemplate": "Sexo=%{y}<br>Anos=1999<br>Obitos=%{text}<extra></extra>",
           "ids": [
            "Feminino"
           ],
           "legendgroup": "Feminino",
           "marker": {
            "color": "pink",
            "pattern": {
             "shape": ""
            }
           },
           "name": "Feminino",
           "orientation": "h",
           "showlegend": true,
           "text": {
            "bdata": "AAAAAIA96UA=",
            "dtype": "f8"
           },
           "textposition": "auto",
           "type": "bar",
           "x": {
            "bdata": "7MkAAA==",
            "dtype": "i4"
           },
           "xaxis": "x",
           "y": [
            "Feminino"
           ],
           "yaxis": "y"
          }
         ],
         "name": "1999"
        },
        {
         "data": [
          {
           "hovertemplate": "Sexo=%{y}<br>Anos=2000<br>Obitos=%{text}<extra></extra>",
           "ids": [
            "Masculino"
           ],
           "legendgroup": "Masculino",
           "marker": {
            "color": "blue",
            "pattern": {
             "shape": ""
            }
           },
           "name": "Masculino",
           "orientation": "h",
           "showlegend": true,
           "text": {
            "bdata": "AAAAAODd6kA=",
            "dtype": "f8"
           },
           "textposition": "auto",
           "type": "bar",
           "x": {
            "bdata": "79YAAA==",
            "dtype": "i4"
           },
           "xaxis": "x",
           "y": [
            "Masculino"
           ],
           "yaxis": "y"
          },
          {
           "hovertemplate": "Sexo=%{y}<br>Anos=2000<br>Obitos=%{text}<extra></extra>",
           "ids": [
            "Feminino"
           ],
           "legendgroup": "Feminino",
           "marker": {
            "color": "pink",
            "pattern": {
             "shape": ""
            }
           },
           "name": "Feminino",
           "orientation": "h",
           "showlegend": true,
           "text": {
            "bdata": "AAAAAKCU6EA=",
            "dtype": "f8"
           },
           "textposition": "auto",
           "type": "bar",
           "x": {
            "bdata": "pcQAAA==",
            "dtype": "i4"
           },
           "xaxis": "x",
           "y": [
            "Feminino"
           ],
           "yaxis": "y"
          }
         ],
         "name": "2000"
        },
        {
         "data": [
          {
           "hovertemplate": "Sexo=%{y}<br>Anos=2001<br>Obitos=%{text}<extra></extra>",
           "ids": [
            "Masculino"
           ],
           "legendgroup": "Masculino",
           "marker": {
            "color": "blue",
            "pattern": {
             "shape": ""
            }
           },
           "name": "Masculino",
           "orientation": "h",
           "showlegend": true,
           "text": {
            "bdata": "AAAAAMDG6kA=",
            "dtype": "f8"
           },
           "textposition": "auto",
           "type": "bar",
           "x": {
            "bdata": "NtYAAA==",
            "dtype": "i4"
           },
           "xaxis": "x",
           "y": [
            "Masculino"
           ],
           "yaxis": "y"
          },
          {
           "hovertemplate": "Sexo=%{y}<br>Anos=2001<br>Obitos=%{text}<extra></extra>",
           "ids": [
            "Feminino"
           ],
           "legendgroup": "Feminino",
           "marker": {
            "color": "pink",
            "pattern": {
             "shape": ""
            }
           },
           "name": "Feminino",
           "orientation": "h",
           "showlegend": true,
           "text": {
            "bdata": "AAAAAMCJ6EA=",
            "dtype": "f8"
           },
           "textposition": "auto",
           "type": "bar",
           "x": {
            "bdata": "TsQAAA==",
            "dtype": "i4"
           },
           "xaxis": "x",
           "y": [
            "Feminino"
           ],
           "yaxis": "y"
          }
         ],
         "name": "2001"
        },
        {
         "data": [
          {
           "hovertemplate": "Sexo=%{y}<br>Anos=2002<br>Obitos=%{text}<extra></extra>",
           "ids": [
            "Masculino"
           ],
           "legendgroup": "Masculino",
           "marker": {
            "color": "blue",
            "pattern": {
             "shape": ""
            }
           },
           "name": "Masculino",
           "orientation": "h",
           "showlegend": true,
           "text": {
            "bdata": "AAAAACAK60A=",
            "dtype": "f8"
           },
           "textposition": "auto",
           "type": "bar",
           "x": {
            "bdata": "UdgAAA==",
            "dtype": "i4"
           },
           "xaxis": "x",
           "y": [
            "Masculino"
           ],
           "yaxis": "y"
          },
          {
           "hovertemplate": "Sexo=%{y}<br>Anos=2002<br>Obitos=%{text}<extra></extra>",
           "ids": [
            "Feminino"
           ],
           "legendgroup": "Feminino",
           "marker": {
            "color": "pink",
            "pattern": {
             "shape": ""
            }
           },
           "name": "Feminino",
           "orientation": "h",
           "showlegend": true,
           "text": {
            "bdata": "AAAAACDY6EA=",
            "dtype": "f8"
           },
           "textposition": "auto",
           "type": "bar",
           "x": {
            "bdata": "wcYAAA==",
            "dtype": "i4"
           },
           "xaxis": "x",
           "y": [
            "Feminino"
           ],
           "yaxis": "y"
          }
         ],
         "name": "2002"
        },
        {
         "data": [
          {
           "hovertemplate": "Sexo=%{y}<br>Anos=2003<br>Obitos=%{text}<extra></extra>",
           "ids": [
            "Masculino"
           ],
           "legendgroup": "Masculino",
           "marker": {
            "color": "blue",
            "pattern": {
             "shape": ""
            }
           },
           "name": "Masculino",
           "orientation": "h",
           "showlegend": true,
           "text": {
            "bdata": "AAAAAMBT60A=",
            "dtype": "f8"
           },
           "textposition": "auto",
           "type": "bar",
           "x": {
            "bdata": "ntoAAA==",
            "dtype": "i4"
           },
           "xaxis": "x",
           "y": [
            "Masculino"
           ],
           "yaxis": "y"
          },
          {
           "hovertemplate": "Sexo=%{y}<br>Anos=2003<br>Obitos=%{text}<extra></extra>",
           "ids": [
            "Feminino"
           ],
           "legendgroup": "Feminino",
           "marker": {
            "color": "pink",
            "pattern": {
             "shape": ""
            }
           },
           "name": "Feminino",
           "orientation": "h",
           "showlegend": true,
           "text": {
            "bdata": "AAAAAKDL6UA=",
            "dtype": "f8"
           },
           "textposition": "auto",
           "type": "bar",
           "x": {
            "bdata": "Xc4AAA==",
            "dtype": "i4"
           },
           "xaxis": "x",
           "y": [
            "Feminino"
           ],
           "yaxis": "y"
          }
         ],
         "name": "2003"
        },
        {
         "data": [
          {
           "hovertemplate": "Sexo=%{y}<br>Anos=2004<br>Obitos=%{text}<extra></extra>",
           "ids": [
            "Masculino"
           ],
           "legendgroup": "Masculino",
           "marker": {
            "color": "blue",
            "pattern": {
             "shape": ""
            }
           },
           "name": "Masculino",
           "orientation": "h",
           "showlegend": true,
           "text": {
            "bdata": "AAAAAED66UA=",
            "dtype": "f8"
           },
           "textposition": "auto",
           "type": "bar",
           "x": {
            "bdata": "0s8AAA==",
            "dtype": "i4"
           },
           "xaxis": "x",
           "y": [
            "Masculino"
           ],
           "yaxis": "y"
          },
          {
           "hovertemplate": "Sexo=%{y}<br>Anos=2004<br>Obitos=%{text}<extra></extra>",
           "ids": [
            "Feminino"
           ],
           "legendgroup": "Feminino",
           "marker": {
            "color": "pink",
            "pattern": {
             "shape": ""
            }
           },
           "name": "Feminino",
           "orientation": "h",
           "showlegend": true,
           "text": {
            "bdata": "AAAAAEDV50A=",
            "dtype": "f8"
           },
           "textposition": "auto",
           "type": "bar",
           "x": {
            "bdata": "qr4AAA==",
            "dtype": "i4"
           },
           "xaxis": "x",
           "y": [
            "Feminino"
           ],
           "yaxis": "y"
          }
         ],
         "name": "2004"
        },
        {
         "data": [
          {
           "hovertemplate": "Sexo=%{y}<br>Anos=2005<br>Obitos=%{text}<extra></extra>",
           "ids": [
            "Masculino"
           ],
           "legendgroup": "Masculino",
           "marker": {
            "color": "blue",
            "pattern": {
             "shape": ""
            }
           },
           "name": "Masculino",
           "orientation": "h",
           "showlegend": true,
           "text": {
            "bdata": "AAAAAKAY60A=",
            "dtype": "f8"
           },
           "textposition": "auto",
           "type": "bar",
           "x": {
            "bdata": "xdgAAA==",
            "dtype": "i4"
           },
           "xaxis": "x",
           "y": [
            "Masculino"
           ],
           "yaxis": "y"
          },
          {
           "hovertemplate": "Sexo=%{y}<br>Anos=2005<br>Obitos=%{text}<extra></extra>",
           "ids": [
            "Feminino"
           ],
           "legendgroup": "Feminino",
           "marker": {
            "color": "pink",
            "pattern": {
             "shape": ""
            }
           },
           "name": "Feminino",
           "orientation": "h",
           "showlegend": true,
           "text": {
            "bdata": "AAAAAGBg6UA=",
            "dtype": "f8"
           },
           "textposition": "auto",
           "type": "bar",
           "x": {
            "bdata": "A8sAAA==",
            "dtype": "i4"
           },
           "xaxis": "x",
           "y": [
            "Feminino"
           ],
           "yaxis": "y"
          }
         ],
         "name": "2005"
        },
        {
         "data": [
          {
           "hovertemplate": "Sexo=%{y}<br>Anos=2006<br>Obitos=%{text}<extra></extra>",
           "ids": [
            "Masculino"
           ],
           "legendgroup": "Masculino",
           "marker": {
            "color": "blue",
            "pattern": {
             "shape": ""
            }
           },
           "name": "Masculino",
           "orientation": "h",
           "showlegend": true,
           "text": {
            "bdata": "AAAAAOAb6kA=",
            "dtype": "f8"
           },
           "textposition": "auto",
           "type": "bar",
           "x": {
            "bdata": "39AAAA==",
            "dtype": "i4"
           },
           "xaxis": "x",
           "y": [
            "Masculino"
           ],
           "yaxis": "y"
          },
          {
           "hovertemplate": "Sexo=%{y}<br>Anos=2006<br>Obitos=%{text}<extra></extra>",
           "ids": [
            "Feminino"
           ],
           "legendgroup": "Feminino",
           "marker": {
            "color": "pink",
            "pattern": {
             "shape": ""
            }
           },
           "name": "Feminino",
           "orientation": "h",
           "showlegend": true,
           "text": {
            "bdata": "AAAAAOCw50A=",
            "dtype": "f8"
           },
           "textposition": "auto",
           "type": "bar",
           "x": {
            "bdata": "h70AAA==",
            "dtype": "i4"
           },
           "xaxis": "x",
           "y": [
            "Feminino"
           ],
           "yaxis": "y"
          }
         ],
         "name": "2006"
        },
        {
         "data": [
          {
           "hovertemplate": "Sexo=%{y}<br>Anos=2007<br>Obitos=%{text}<extra></extra>",
           "ids": [
            "Masculino"
           ],
           "legendgroup": "Masculino",
           "marker": {
            "color": "blue",
            "pattern": {
             "shape": ""
            }
           },
           "name": "Masculino",
           "orientation": "h",
           "showlegend": true,
           "text": {
            "bdata": "AAAAAGAQ6kA=",
            "dtype": "f8"
           },
           "textposition": "auto",
           "type": "bar",
           "x": {
            "bdata": "g9AAAA==",
            "dtype": "i4"
           },
           "xaxis": "x",
           "y": [
            "Masculino"
           ],
           "yaxis": "y"
          },
          {
           "hovertemplate": "Sexo=%{y}<br>Anos=2007<br>Obitos=%{text}<extra></extra>",
           "ids": [
            "Feminino"
           ],
           "legendgroup": "Feminino",
           "marker": {
            "color": "pink",
            "pattern": {
             "shape": ""
            }
           },
           "name": "Feminino",
           "orientation": "h",
           "showlegend": true,
           "text": {
            "bdata": "AAAAAKB66EA=",
            "dtype": "f8"
           },
           "textposition": "auto",
           "type": "bar",
           "x": {
            "bdata": "1cMAAA==",
            "dtype": "i4"
           },
           "xaxis": "x",
           "y": [
            "Feminino"
           ],
           "yaxis": "y"
          }
         ],
         "name": "2007"
        },
        {
         "data": [
          {
           "hovertemplate": "Sexo=%{y}<br>Anos=2008<br>Obitos=%{text}<extra></extra>",
           "ids": [
            "Masculino"
           ],
           "legendgroup": "Masculino",
           "marker": {
            "color": "blue",
            "pattern": {
             "shape": ""
            }
           },
           "name": "Masculino",
           "orientation": "h",
           "showlegend": true,
           "text": {
            "bdata": "AAAAAMAp6kA=",
            "dtype": "f8"
           },
           "textposition": "auto",
           "type": "bar",
           "x": {
            "bdata": "TtEAAA==",
            "dtype": "i4"
           },
           "xaxis": "x",
           "y": [
            "Masculino"
           ],
           "yaxis": "y"
          },
          {
           "hovertemplate": "Sexo=%{y}<br>Anos=2008<br>Obitos=%{text}<extra></extra>",
           "ids": [
            "Feminino"
           ],
           "legendgroup": "Feminino",
           "marker": {
            "color": "pink",
            "pattern": {
             "shape": ""
            }
           },
           "name": "Feminino",
           "orientation": "h",
           "showlegend": true,
           "text": {
            "bdata": "AAAAAEDB6EA=",
            "dtype": "f8"
           },
           "textposition": "auto",
           "type": "bar",
           "x": {
            "bdata": "CsYAAA==",
            "dtype": "i4"
           },
           "xaxis": "x",
           "y": [
            "Feminino"
           ],
           "yaxis": "y"
          }
         ],
         "name": "2008"
        },
        {
         "data": [
          {
           "hovertemplate": "Sexo=%{y}<br>Anos=2009<br>Obitos=%{text}<extra></extra>",
           "ids": [
            "Masculino"
           ],
           "legendgroup": "Masculino",
           "marker": {
            "color": "blue",
            "pattern": {
             "shape": ""
            }
           },
           "name": "Masculino",
           "orientation": "h",
           "showlegend": true,
           "text": {
            "bdata": "AAAAAMAH6kA=",
            "dtype": "f8"
           },
           "textposition": "auto",
           "type": "bar",
           "x": {
            "bdata": "PtAAAA==",
            "dtype": "i4"
           },
           "xaxis": "x",
           "y": [
            "Masculino"
           ],
           "yaxis": "y"
          },
          {
           "hovertemplate": "Sexo=%{y}<br>Anos=2009<br>Obitos=%{text}<extra></extra>",
           "ids": [
            "Feminino"
           ],
           "legendgroup": "Feminino",
           "marker": {
            "color": "pink",
            "pattern": {
             "shape": ""
            }
           },
           "name": "Feminino",
           "orientation": "h",
           "showlegend": true,
           "text": {
            "bdata": "AAAAAID26EA=",
            "dtype": "f8"
           },
           "textposition": "auto",
           "type": "bar",
           "x": {
            "bdata": "tMcAAA==",
            "dtype": "i4"
           },
           "xaxis": "x",
           "y": [
            "Feminino"
           ],
           "yaxis": "y"
          }
         ],
         "name": "2009"
        },
        {
         "data": [
          {
           "hovertemplate": "Sexo=%{y}<br>Anos=2010<br>Obitos=%{text}<extra></extra>",
           "ids": [
            "Masculino"
           ],
           "legendgroup": "Masculino",
           "marker": {
            "color": "blue",
            "pattern": {
             "shape": ""
            }
           },
           "name": "Masculino",
           "orientation": "h",
           "showlegend": true,
           "text": {
            "bdata": "AAAAAGB56kA=",
            "dtype": "f8"
           },
           "textposition": "auto",
           "type": "bar",
           "x": {
            "bdata": "y9MAAA==",
            "dtype": "i4"
           },
           "xaxis": "x",
           "y": [
            "Masculino"
           ],
           "yaxis": "y"
          },
          {
           "hovertemplate": "Sexo=%{y}<br>Anos=2010<br>Obitos=%{text}<extra></extra>",
           "ids": [
            "Feminino"
           ],
           "legendgroup": "Feminino",
           "marker": {
            "color": "pink",
            "pattern": {
             "shape": ""
            }
           },
           "name": "Feminino",
           "orientation": "h",
           "showlegend": true,
           "text": {
            "bdata": "AAAAAMBC6UA=",
            "dtype": "f8"
           },
           "textposition": "auto",
           "type": "bar",
           "x": {
            "bdata": "FsoAAA==",
            "dtype": "i4"
           },
           "xaxis": "x",
           "y": [
            "Feminino"
           ],
           "yaxis": "y"
          }
         ],
         "name": "2010"
        },
        {
         "data": [
          {
           "hovertemplate": "Sexo=%{y}<br>Anos=2011<br>Obitos=%{text}<extra></extra>",
           "ids": [
            "Masculino"
           ],
           "legendgroup": "Masculino",
           "marker": {
            "color": "blue",
            "pattern": {
             "shape": ""
            }
           },
           "name": "Masculino",
           "orientation": "h",
           "showlegend": true,
           "text": {
            "bdata": "AAAAAACo6UA=",
            "dtype": "f8"
           },
           "textposition": "auto",
           "type": "bar",
           "x": {
            "bdata": "QM0AAA==",
            "dtype": "i4"
           },
           "xaxis": "x",
           "y": [
            "Masculino"
           ],
           "yaxis": "y"
          },
          {
           "hovertemplate": "Sexo=%{y}<br>Anos=2011<br>Obitos=%{text}<extra></extra>",
           "ids": [
            "Feminino"
           ],
           "legendgroup": "Feminino",
           "marker": {
            "color": "pink",
            "pattern": {
             "shape": ""
            }
           },
           "name": "Feminino",
           "orientation": "h",
           "showlegend": true,
           "text": {
            "bdata": "AAAAAKCP6EA=",
            "dtype": "f8"
           },
           "textposition": "auto",
           "type": "bar",
           "x": {
            "bdata": "fcQAAA==",
            "dtype": "i4"
           },
           "xaxis": "x",
           "y": [
            "Feminino"
           ],
           "yaxis": "y"
          }
         ],
         "name": "2011"
        },
        {
         "data": [
          {
           "hovertemplate": "Sexo=%{y}<br>Anos=2012<br>Obitos=%{text}<extra></extra>",
           "ids": [
            "Masculino"
           ],
           "legendgroup": "Masculino",
           "marker": {
            "color": "blue",
            "pattern": {
             "shape": ""
            }
           },
           "name": "Masculino",
           "orientation": "h",
           "showlegend": true,
           "text": {
            "bdata": "AAAAACCZ6kA=",
            "dtype": "f8"
           },
           "textposition": "auto",
           "type": "bar",
           "x": {
            "bdata": "ydQAAA==",
            "dtype": "i4"
           },
           "xaxis": "x",
           "y": [
            "Masculino"
           ],
           "yaxis": "y"
          },
          {
           "hovertemplate": "Sexo=%{y}<br>Anos=2012<br>Obitos=%{text}<extra></extra>",
           "ids": [
            "Feminino"
           ],
           "legendgroup": "Feminino",
           "marker": {
            "color": "pink",
            "pattern": {
             "shape": ""
            }
           },
           "name": "Feminino",
           "orientation": "h",
           "showlegend": true,
           "text": {
            "bdata": "AAAAAGDy6UA=",
            "dtype": "f8"
           },
           "textposition": "auto",
           "type": "bar",
           "x": {
            "bdata": "k88AAA==",
            "dtype": "i4"
           },
           "xaxis": "x",
           "y": [
            "Feminino"
           ],
           "yaxis": "y"
          }
         ],
         "name": "2012"
        },
        {
         "data": [
          {
           "hovertemplate": "Sexo=%{y}<br>Anos=2013<br>Obitos=%{text}<extra></extra>",
           "ids": [
            "Masculino"
           ],
           "legendgroup": "Masculino",
           "marker": {
            "color": "blue",
            "pattern": {
             "shape": ""
            }
           },
           "name": "Masculino",
           "orientation": "h",
           "showlegend": true,
           "text": {
            "bdata": "AAAAAAB16kA=",
            "dtype": "f8"
           },
           "textposition": "auto",
           "type": "bar",
           "x": {
            "bdata": "qNMAAA==",
            "dtype": "i4"
           },
           "xaxis": "x",
           "y": [
            "Masculino"
           ],
           "yaxis": "y"
          },
          {
           "hovertemplate": "Sexo=%{y}<br>Anos=2013<br>Obitos=%{text}<extra></extra>",
           "ids": [
            "Feminino"
           ],
           "legendgroup": "Feminino",
           "marker": {
            "color": "pink",
            "pattern": {
             "shape": ""
            }
           },
           "name": "Feminino",
           "orientation": "h",
           "showlegend": true,
           "text": {
            "bdata": "AAAAACCS6UA=",
            "dtype": "f8"
           },
           "textposition": "auto",
           "type": "bar",
           "x": {
            "bdata": "kcwAAA==",
            "dtype": "i4"
           },
           "xaxis": "x",
           "y": [
            "Feminino"
           ],
           "yaxis": "y"
          }
         ],
         "name": "2013"
        },
        {
         "data": [
          {
           "hovertemplate": "Sexo=%{y}<br>Anos=2014<br>Obitos=%{text}<extra></extra>",
           "ids": [
            "Masculino"
           ],
           "legendgroup": "Masculino",
           "marker": {
            "color": "blue",
            "pattern": {
             "shape": ""
            }
           },
           "name": "Masculino",
           "orientation": "h",
           "showlegend": true,
           "text": {
            "bdata": "AAAAACD+6UA=",
            "dtype": "f8"
           },
           "textposition": "auto",
           "type": "bar",
           "x": {
            "bdata": "8c8AAA==",
            "dtype": "i4"
           },
           "xaxis": "x",
           "y": [
            "Masculino"
           ],
           "yaxis": "y"
          },
          {
           "hovertemplate": "Sexo=%{y}<br>Anos=2014<br>Obitos=%{text}<extra></extra>",
           "ids": [
            "Feminino"
           ],
           "legendgroup": "Feminino",
           "marker": {
            "color": "pink",
            "pattern": {
             "shape": ""
            }
           },
           "name": "Feminino",
           "orientation": "h",
           "showlegend": true,
           "text": {
            "bdata": "AAAAAEAz6UA=",
            "dtype": "f8"
           },
           "textposition": "auto",
           "type": "bar",
           "x": {
            "bdata": "mskAAA==",
            "dtype": "i4"
           },
           "xaxis": "x",
           "y": [
            "Feminino"
           ],
           "yaxis": "y"
          }
         ],
         "name": "2014"
        },
        {
         "data": [
          {
           "hovertemplate": "Sexo=%{y}<br>Anos=2015<br>Obitos=%{text}<extra></extra>",
           "ids": [
            "Masculino"
           ],
           "legendgroup": "Masculino",
           "marker": {
            "color": "blue",
            "pattern": {
             "shape": ""
            }
           },
           "name": "Masculino",
           "orientation": "h",
           "showlegend": true,
           "text": {
            "bdata": "AAAAAOBz6kA=",
            "dtype": "f8"
           },
           "textposition": "auto",
           "type": "bar",
           "x": {
            "bdata": "n9MAAA==",
            "dtype": "i4"
           },
           "xaxis": "x",
           "y": [
            "Masculino"
           ],
           "yaxis": "y"
          },
          {
           "hovertemplate": "Sexo=%{y}<br>Anos=2015<br>Obitos=%{text}<extra></extra>",
           "ids": [
            "Feminino"
           ],
           "legendgroup": "Feminino",
           "marker": {
            "color": "pink",
            "pattern": {
             "shape": ""
            }
           },
           "name": "Feminino",
           "orientation": "h",
           "showlegend": true,
           "text": {
            "bdata": "AAAAAICL6kA=",
            "dtype": "f8"
           },
           "textposition": "auto",
           "type": "bar",
           "x": {
            "bdata": "XNQAAA==",
            "dtype": "i4"
           },
           "xaxis": "x",
           "y": [
            "Feminino"
           ],
           "yaxis": "y"
          }
         ],
         "name": "2015"
        },
        {
         "data": [
          {
           "hovertemplate": "Sexo=%{y}<br>Anos=2016<br>Obitos=%{text}<extra></extra>",
           "ids": [
            "Masculino"
           ],
           "legendgroup": "Masculino",
           "marker": {
            "color": "blue",
            "pattern": {
             "shape": ""
            }
           },
           "name": "Masculino",
           "orientation": "h",
           "showlegend": true,
           "text": {
            "bdata": "AAAAAEAp60A=",
            "dtype": "f8"
           },
           "textposition": "auto",
           "type": "bar",
           "x": {
            "bdata": "StkAAA==",
            "dtype": "i4"
           },
           "xaxis": "x",
           "y": [
            "Masculino"
           ],
           "yaxis": "y"
          },
          {
           "hovertemplate": "Sexo=%{y}<br>Anos=2016<br>Obitos=%{text}<extra></extra>",
           "ids": [
            "Feminino"
           ],
           "legendgroup": "Feminino",
           "marker": {
            "color": "pink",
            "pattern": {
             "shape": ""
            }
           },
           "name": "Feminino",
           "orientation": "h",
           "showlegend": true,
           "text": {
            "bdata": "AAAAAGDU6kA=",
            "dtype": "f8"
           },
           "textposition": "auto",
           "type": "bar",
           "x": {
            "bdata": "o9YAAA==",
            "dtype": "i4"
           },
           "xaxis": "x",
           "y": [
            "Feminino"
           ],
           "yaxis": "y"
          }
         ],
         "name": "2016"
        },
        {
         "data": [
          {
           "hovertemplate": "Sexo=%{y}<br>Anos=2017<br>Obitos=%{text}<extra></extra>",
           "ids": [
            "Masculino"
           ],
           "legendgroup": "Masculino",
           "marker": {
            "color": "blue",
            "pattern": {
             "shape": ""
            }
           },
           "name": "Masculino",
           "orientation": "h",
           "showlegend": true,
           "text": {
            "bdata": "AAAAAADm6kA=",
            "dtype": "f8"
           },
           "textposition": "auto",
           "type": "bar",
           "x": {
            "bdata": "MNcAAA==",
            "dtype": "i4"
           },
           "xaxis": "x",
           "y": [
            "Masculino"
           ],
           "yaxis": "y"
          },
          {
           "hovertemplate": "Sexo=%{y}<br>Anos=2017<br>Obitos=%{text}<extra></extra>",
           "ids": [
            "Feminino"
           ],
           "legendgroup": "Feminino",
           "marker": {
            "color": "pink",
            "pattern": {
             "shape": ""
            }
           },
           "name": "Feminino",
           "orientation": "h",
           "showlegend": true,
           "text": {
            "bdata": "AAAAAMCx6kA=",
            "dtype": "f8"
           },
           "textposition": "auto",
           "type": "bar",
           "x": {
            "bdata": "jtUAAA==",
            "dtype": "i4"
           },
           "xaxis": "x",
           "y": [
            "Feminino"
           ],
           "yaxis": "y"
          }
         ],
         "name": "2017"
        },
        {
         "data": [
          {
           "hovertemplate": "Sexo=%{y}<br>Anos=2018<br>Obitos=%{text}<extra></extra>",
           "ids": [
            "Masculino"
           ],
           "legendgroup": "Masculino",
           "marker": {
            "color": "blue",
            "pattern": {
             "shape": ""
            }
           },
           "name": "Masculino",
           "orientation": "h",
           "showlegend": true,
           "text": {
            "bdata": "AAAAAACz60A=",
            "dtype": "f8"
           },
           "textposition": "auto",
           "type": "bar",
           "x": {
            "bdata": "mN0AAA==",
            "dtype": "i4"
           },
           "xaxis": "x",
           "y": [
            "Masculino"
           ],
           "yaxis": "y"
          },
          {
           "hovertemplate": "Sexo=%{y}<br>Anos=2018<br>Obitos=%{text}<extra></extra>",
           "ids": [
            "Feminino"
           ],
           "legendgroup": "Feminino",
           "marker": {
            "color": "pink",
            "pattern": {
             "shape": ""
            }
           },
           "name": "Feminino",
           "orientation": "h",
           "showlegend": true,
           "text": {
            "bdata": "AAAAAECA60A=",
            "dtype": "f8"
           },
           "textposition": "auto",
           "type": "bar",
           "x": {
            "bdata": "AtwAAA==",
            "dtype": "i4"
           },
           "xaxis": "x",
           "y": [
            "Feminino"
           ],
           "yaxis": "y"
          }
         ],
         "name": "2018"
        },
        {
         "data": [
          {
           "hovertemplate": "Sexo=%{y}<br>Anos=2019<br>Obitos=%{text}<extra></extra>",
           "ids": [
            "Masculino"
           ],
           "legendgroup": "Masculino",
           "marker": {
            "color": "blue",
            "pattern": {
             "shape": ""
            }
           },
           "name": "Masculino",
           "orientation": "h",
           "showlegend": true,
           "text": {
            "bdata": "AAAAAKBH60A=",
            "dtype": "f8"
           },
           "textposition": "auto",
           "type": "bar",
           "x": {
            "bdata": "PdoAAA==",
            "dtype": "i4"
           },
           "xaxis": "x",
           "y": [
            "Masculino"
           ],
           "yaxis": "y"
          },
          {
           "hovertemplate": "Sexo=%{y}<br>Anos=2019<br>Obitos=%{text}<extra></extra>",
           "ids": [
            "Feminino"
           ],
           "legendgroup": "Feminino",
           "marker": {
            "color": "pink",
            "pattern": {
             "shape": ""
            }
           },
           "name": "Feminino",
           "orientation": "h",
           "showlegend": true,
           "text": {
            "bdata": "AAAAAMBU60A=",
            "dtype": "f8"
           },
           "textposition": "auto",
           "type": "bar",
           "x": {
            "bdata": "ptoAAA==",
            "dtype": "i4"
           },
           "xaxis": "x",
           "y": [
            "Feminino"
           ],
           "yaxis": "y"
          }
         ],
         "name": "2019"
        },
        {
         "data": [
          {
           "hovertemplate": "Sexo=%{y}<br>Anos=2020<br>Obitos=%{text}<extra></extra>",
           "ids": [
            "Masculino"
           ],
           "legendgroup": "Masculino",
           "marker": {
            "color": "blue",
            "pattern": {
             "shape": ""
            }
           },
           "name": "Masculino",
           "orientation": "h",
           "showlegend": true,
           "text": {
            "bdata": "AAAAAGD67UA=",
            "dtype": "f8"
           },
           "textposition": "auto",
           "type": "bar",
           "x": {
            "bdata": "0+8AAA==",
            "dtype": "i4"
           },
           "xaxis": "x",
           "y": [
            "Masculino"
           ],
           "yaxis": "y"
          },
          {
           "hovertemplate": "Sexo=%{y}<br>Anos=2020<br>Obitos=%{text}<extra></extra>",
           "ids": [
            "Feminino"
           ],
           "legendgroup": "Feminino",
           "marker": {
            "color": "pink",
            "pattern": {
             "shape": ""
            }
           },
           "name": "Feminino",
           "orientation": "h",
           "showlegend": true,
           "text": {
            "bdata": "AAAAACBG7kA=",
            "dtype": "f8"
           },
           "textposition": "auto",
           "type": "bar",
           "x": {
            "bdata": "MfIAAA==",
            "dtype": "i4"
           },
           "xaxis": "x",
           "y": [
            "Feminino"
           ],
           "yaxis": "y"
          }
         ],
         "name": "2020"
        },
        {
         "data": [
          {
           "hovertemplate": "Sexo=%{y}<br>Anos=2021<br>Obitos=%{text}<extra></extra>",
           "ids": [
            "Masculino"
           ],
           "legendgroup": "Masculino",
           "marker": {
            "color": "blue",
            "pattern": {
             "shape": ""
            }
           },
           "name": "Masculino",
           "orientation": "h",
           "showlegend": true,
           "text": {
            "bdata": "AAAAAACh7kA=",
            "dtype": "f8"
           },
           "textposition": "auto",
           "type": "bar",
           "x": {
            "bdata": "CPUAAA==",
            "dtype": "i4"
           },
           "xaxis": "x",
           "y": [
            "Masculino"
           ],
           "yaxis": "y"
          },
          {
           "hovertemplate": "Sexo=%{y}<br>Anos=2021<br>Obitos=%{text}<extra></extra>",
           "ids": [
            "Feminino"
           ],
           "legendgroup": "Feminino",
           "marker": {
            "color": "pink",
            "pattern": {
             "shape": ""
            }
           },
           "name": "Feminino",
           "orientation": "h",
           "showlegend": true,
           "text": {
            "bdata": "AAAAACBU7kA=",
            "dtype": "f8"
           },
           "textposition": "auto",
           "type": "bar",
           "x": {
            "bdata": "ofIAAA==",
            "dtype": "i4"
           },
           "xaxis": "x",
           "y": [
            "Feminino"
           ],
           "yaxis": "y"
          }
         ],
         "name": "2021"
        },
        {
         "data": [
          {
           "hovertemplate": "Sexo=%{y}<br>Anos=2022<br>Obitos=%{text}<extra></extra>",
           "ids": [
            "Masculino"
           ],
           "legendgroup": "Masculino",
           "marker": {
            "color": "blue",
            "pattern": {
             "shape": ""
            }
           },
           "name": "Masculino",
           "orientation": "h",
           "showlegend": true,
           "text": {
            "bdata": "AAAAAGAl7kA=",
            "dtype": "f8"
           },
           "textposition": "auto",
           "type": "bar",
           "x": {
            "bdata": "K/EAAA==",
            "dtype": "i4"
           },
           "xaxis": "x",
           "y": [
            "Masculino"
           ],
           "yaxis": "y"
          },
          {
           "hovertemplate": "Sexo=%{y}<br>Anos=2022<br>Obitos=%{text}<extra></extra>",
           "ids": [
            "Feminino"
           ],
           "legendgroup": "Feminino",
           "marker": {
            "color": "pink",
            "pattern": {
             "shape": ""
            }
           },
           "name": "Feminino",
           "orientation": "h",
           "showlegend": true,
           "text": {
            "bdata": "AAAAAKCT7kA=",
            "dtype": "f8"
           },
           "textposition": "auto",
           "type": "bar",
           "x": {
            "bdata": "nfQAAA==",
            "dtype": "i4"
           },
           "xaxis": "x",
           "y": [
            "Feminino"
           ],
           "yaxis": "y"
          }
         ],
         "name": "2022"
        },
        {
         "data": [
          {
           "hovertemplate": "Sexo=%{y}<br>Anos=2023<br>Obitos=%{text}<extra></extra>",
           "ids": [
            "Masculino"
           ],
           "legendgroup": "Masculino",
           "marker": {
            "color": "blue",
            "pattern": {
             "shape": ""
            }
           },
           "name": "Masculino",
           "orientation": "h",
           "showlegend": true,
           "text": {
            "bdata": "AAAAAKDv7EA=",
            "dtype": "f8"
           },
           "textposition": "auto",
           "type": "bar",
           "x": {
            "bdata": "fecAAA==",
            "dtype": "i4"
           },
           "xaxis": "x",
           "y": [
            "Masculino"
           ],
           "yaxis": "y"
          },
          {
           "hovertemplate": "Sexo=%{y}<br>Anos=2023<br>Obitos=%{text}<extra></extra>",
           "ids": [
            "Feminino"
           ],
           "legendgroup": "Feminino",
           "marker": {
            "color": "pink",
            "pattern": {
             "shape": ""
            }
           },
           "name": "Feminino",
           "orientation": "h",
           "showlegend": true,
           "text": {
            "bdata": "AAAAAEDT7EA=",
            "dtype": "f8"
           },
           "textposition": "auto",
           "type": "bar",
           "x": {
            "bdata": "muYAAA==",
            "dtype": "i4"
           },
           "xaxis": "x",
           "y": [
            "Feminino"
           ],
           "yaxis": "y"
          }
         ],
         "name": "2023"
        }
       ],
       "layout": {
        "barmode": "relative",
        "legend": {
         "title": {
          "text": "Sexo"
         },
         "tracegroupgap": 0
        },
        "sliders": [
         {
          "active": 0,
          "currentvalue": {
           "prefix": "Anos="
          },
          "len": 0.9,
          "pad": {
           "b": 10,
           "t": 60
          },
          "steps": [
           {
            "args": [
             [
              "1900"
             ],
             {
              "frame": {
               "duration": 0,
               "redraw": true
              },
              "fromcurrent": true,
              "mode": "immediate",
              "transition": {
               "duration": 0,
               "easing": "linear"
              }
             }
            ],
            "label": "1900",
            "method": "animate"
           },
           {
            "args": [
             [
              "1910"
             ],
             {
              "frame": {
               "duration": 0,
               "redraw": true
              },
              "fromcurrent": true,
              "mode": "immediate",
              "transition": {
               "duration": 0,
               "easing": "linear"
              }
             }
            ],
            "label": "1910",
            "method": "animate"
           },
           {
            "args": [
             [
              "1920"
             ],
             {
              "frame": {
               "duration": 0,
               "redraw": true
              },
              "fromcurrent": true,
              "mode": "immediate",
              "transition": {
               "duration": 0,
               "easing": "linear"
              }
             }
            ],
            "label": "1920",
            "method": "animate"
           },
           {
            "args": [
             [
              "1930"
             ],
             {
              "frame": {
               "duration": 0,
               "redraw": true
              },
              "fromcurrent": true,
              "mode": "immediate",
              "transition": {
               "duration": 0,
               "easing": "linear"
              }
             }
            ],
            "label": "1930",
            "method": "animate"
           },
           {
            "args": [
             [
              "1940"
             ],
             {
              "frame": {
               "duration": 0,
               "redraw": true
              },
              "fromcurrent": true,
              "mode": "immediate",
              "transition": {
               "duration": 0,
               "easing": "linear"
              }
             }
            ],
            "label": "1940",
            "method": "animate"
           },
           {
            "args": [
             [
              "1950"
             ],
             {
              "frame": {
               "duration": 0,
               "redraw": true
              },
              "fromcurrent": true,
              "mode": "immediate",
              "transition": {
               "duration": 0,
               "easing": "linear"
              }
             }
            ],
            "label": "1950",
            "method": "animate"
           },
           {
            "args": [
             [
              "1960"
             ],
             {
              "frame": {
               "duration": 0,
               "redraw": true
              },
              "fromcurrent": true,
              "mode": "immediate",
              "transition": {
               "duration": 0,
               "easing": "linear"
              }
             }
            ],
            "label": "1960",
            "method": "animate"
           },
           {
            "args": [
             [
              "1970"
             ],
             {
              "frame": {
               "duration": 0,
               "redraw": true
              },
              "fromcurrent": true,
              "mode": "immediate",
              "transition": {
               "duration": 0,
               "easing": "linear"
              }
             }
            ],
            "label": "1970",
            "method": "animate"
           },
           {
            "args": [
             [
              "1980"
             ],
             {
              "frame": {
               "duration": 0,
               "redraw": true
              },
              "fromcurrent": true,
              "mode": "immediate",
              "transition": {
               "duration": 0,
               "easing": "linear"
              }
             }
            ],
            "label": "1980",
            "method": "animate"
           },
           {
            "args": [
             [
              "1981"
             ],
             {
              "frame": {
               "duration": 0,
               "redraw": true
              },
              "fromcurrent": true,
              "mode": "immediate",
              "transition": {
               "duration": 0,
               "easing": "linear"
              }
             }
            ],
            "label": "1981",
            "method": "animate"
           },
           {
            "args": [
             [
              "1982"
             ],
             {
              "frame": {
               "duration": 0,
               "redraw": true
              },
              "fromcurrent": true,
              "mode": "immediate",
              "transition": {
               "duration": 0,
               "easing": "linear"
              }
             }
            ],
            "label": "1982",
            "method": "animate"
           },
           {
            "args": [
             [
              "1983"
             ],
             {
              "frame": {
               "duration": 0,
               "redraw": true
              },
              "fromcurrent": true,
              "mode": "immediate",
              "transition": {
               "duration": 0,
               "easing": "linear"
              }
             }
            ],
            "label": "1983",
            "method": "animate"
           },
           {
            "args": [
             [
              "1984"
             ],
             {
              "frame": {
               "duration": 0,
               "redraw": true
              },
              "fromcurrent": true,
              "mode": "immediate",
              "transition": {
               "duration": 0,
               "easing": "linear"
              }
             }
            ],
            "label": "1984",
            "method": "animate"
           },
           {
            "args": [
             [
              "1985"
             ],
             {
              "frame": {
               "duration": 0,
               "redraw": true
              },
              "fromcurrent": true,
              "mode": "immediate",
              "transition": {
               "duration": 0,
               "easing": "linear"
              }
             }
            ],
            "label": "1985",
            "method": "animate"
           },
           {
            "args": [
             [
              "1986"
             ],
             {
              "frame": {
               "duration": 0,
               "redraw": true
              },
              "fromcurrent": true,
              "mode": "immediate",
              "transition": {
               "duration": 0,
               "easing": "linear"
              }
             }
            ],
            "label": "1986",
            "method": "animate"
           },
           {
            "args": [
             [
              "1987"
             ],
             {
              "frame": {
               "duration": 0,
               "redraw": true
              },
              "fromcurrent": true,
              "mode": "immediate",
              "transition": {
               "duration": 0,
               "easing": "linear"
              }
             }
            ],
            "label": "1987",
            "method": "animate"
           },
           {
            "args": [
             [
              "1988"
             ],
             {
              "frame": {
               "duration": 0,
               "redraw": true
              },
              "fromcurrent": true,
              "mode": "immediate",
              "transition": {
               "duration": 0,
               "easing": "linear"
              }
             }
            ],
            "label": "1988",
            "method": "animate"
           },
           {
            "args": [
             [
              "1989"
             ],
             {
              "frame": {
               "duration": 0,
               "redraw": true
              },
              "fromcurrent": true,
              "mode": "immediate",
              "transition": {
               "duration": 0,
               "easing": "linear"
              }
             }
            ],
            "label": "1989",
            "method": "animate"
           },
           {
            "args": [
             [
              "1990"
             ],
             {
              "frame": {
               "duration": 0,
               "redraw": true
              },
              "fromcurrent": true,
              "mode": "immediate",
              "transition": {
               "duration": 0,
               "easing": "linear"
              }
             }
            ],
            "label": "1990",
            "method": "animate"
           },
           {
            "args": [
             [
              "1991"
             ],
             {
              "frame": {
               "duration": 0,
               "redraw": true
              },
              "fromcurrent": true,
              "mode": "immediate",
              "transition": {
               "duration": 0,
               "easing": "linear"
              }
             }
            ],
            "label": "1991",
            "method": "animate"
           },
           {
            "args": [
             [
              "1992"
             ],
             {
              "frame": {
               "duration": 0,
               "redraw": true
              },
              "fromcurrent": true,
              "mode": "immediate",
              "transition": {
               "duration": 0,
               "easing": "linear"
              }
             }
            ],
            "label": "1992",
            "method": "animate"
           },
           {
            "args": [
             [
              "1993"
             ],
             {
              "frame": {
               "duration": 0,
               "redraw": true
              },
              "fromcurrent": true,
              "mode": "immediate",
              "transition": {
               "duration": 0,
               "easing": "linear"
              }
             }
            ],
            "label": "1993",
            "method": "animate"
           },
           {
            "args": [
             [
              "1994"
             ],
             {
              "frame": {
               "duration": 0,
               "redraw": true
              },
              "fromcurrent": true,
              "mode": "immediate",
              "transition": {
               "duration": 0,
               "easing": "linear"
              }
             }
            ],
            "label": "1994",
            "method": "animate"
           },
           {
            "args": [
             [
              "1995"
             ],
             {
              "frame": {
               "duration": 0,
               "redraw": true
              },
              "fromcurrent": true,
              "mode": "immediate",
              "transition": {
               "duration": 0,
               "easing": "linear"
              }
             }
            ],
            "label": "1995",
            "method": "animate"
           },
           {
            "args": [
             [
              "1996"
             ],
             {
              "frame": {
               "duration": 0,
               "redraw": true
              },
              "fromcurrent": true,
              "mode": "immediate",
              "transition": {
               "duration": 0,
               "easing": "linear"
              }
             }
            ],
            "label": "1996",
            "method": "animate"
           },
           {
            "args": [
             [
              "1997"
             ],
             {
              "frame": {
               "duration": 0,
               "redraw": true
              },
              "fromcurrent": true,
              "mode": "immediate",
              "transition": {
               "duration": 0,
               "easing": "linear"
              }
             }
            ],
            "label": "1997",
            "method": "animate"
           },
           {
            "args": [
             [
              "1998"
             ],
             {
              "frame": {
               "duration": 0,
               "redraw": true
              },
              "fromcurrent": true,
              "mode": "immediate",
              "transition": {
               "duration": 0,
               "easing": "linear"
              }
             }
            ],
            "label": "1998",
            "method": "animate"
           },
           {
            "args": [
             [
              "1999"
             ],
             {
              "frame": {
               "duration": 0,
               "redraw": true
              },
              "fromcurrent": true,
              "mode": "immediate",
              "transition": {
               "duration": 0,
               "easing": "linear"
              }
             }
            ],
            "label": "1999",
            "method": "animate"
           },
           {
            "args": [
             [
              "2000"
             ],
             {
              "frame": {
               "duration": 0,
               "redraw": true
              },
              "fromcurrent": true,
              "mode": "immediate",
              "transition": {
               "duration": 0,
               "easing": "linear"
              }
             }
            ],
            "label": "2000",
            "method": "animate"
           },
           {
            "args": [
             [
              "2001"
             ],
             {
              "frame": {
               "duration": 0,
               "redraw": true
              },
              "fromcurrent": true,
              "mode": "immediate",
              "transition": {
               "duration": 0,
               "easing": "linear"
              }
             }
            ],
            "label": "2001",
            "method": "animate"
           },
           {
            "args": [
             [
              "2002"
             ],
             {
              "frame": {
               "duration": 0,
               "redraw": true
              },
              "fromcurrent": true,
              "mode": "immediate",
              "transition": {
               "duration": 0,
               "easing": "linear"
              }
             }
            ],
            "label": "2002",
            "method": "animate"
           },
           {
            "args": [
             [
              "2003"
             ],
             {
              "frame": {
               "duration": 0,
               "redraw": true
              },
              "fromcurrent": true,
              "mode": "immediate",
              "transition": {
               "duration": 0,
               "easing": "linear"
              }
             }
            ],
            "label": "2003",
            "method": "animate"
           },
           {
            "args": [
             [
              "2004"
             ],
             {
              "frame": {
               "duration": 0,
               "redraw": true
              },
              "fromcurrent": true,
              "mode": "immediate",
              "transition": {
               "duration": 0,
               "easing": "linear"
              }
             }
            ],
            "label": "2004",
            "method": "animate"
           },
           {
            "args": [
             [
              "2005"
             ],
             {
              "frame": {
               "duration": 0,
               "redraw": true
              },
              "fromcurrent": true,
              "mode": "immediate",
              "transition": {
               "duration": 0,
               "easing": "linear"
              }
             }
            ],
            "label": "2005",
            "method": "animate"
           },
           {
            "args": [
             [
              "2006"
             ],
             {
              "frame": {
               "duration": 0,
               "redraw": true
              },
              "fromcurrent": true,
              "mode": "immediate",
              "transition": {
               "duration": 0,
               "easing": "linear"
              }
             }
            ],
            "label": "2006",
            "method": "animate"
           },
           {
            "args": [
             [
              "2007"
             ],
             {
              "frame": {
               "duration": 0,
               "redraw": true
              },
              "fromcurrent": true,
              "mode": "immediate",
              "transition": {
               "duration": 0,
               "easing": "linear"
              }
             }
            ],
            "label": "2007",
            "method": "animate"
           },
           {
            "args": [
             [
              "2008"
             ],
             {
              "frame": {
               "duration": 0,
               "redraw": true
              },
              "fromcurrent": true,
              "mode": "immediate",
              "transition": {
               "duration": 0,
               "easing": "linear"
              }
             }
            ],
            "label": "2008",
            "method": "animate"
           },
           {
            "args": [
             [
              "2009"
             ],
             {
              "frame": {
               "duration": 0,
               "redraw": true
              },
              "fromcurrent": true,
              "mode": "immediate",
              "transition": {
               "duration": 0,
               "easing": "linear"
              }
             }
            ],
            "label": "2009",
            "method": "animate"
           },
           {
            "args": [
             [
              "2010"
             ],
             {
              "frame": {
               "duration": 0,
               "redraw": true
              },
              "fromcurrent": true,
              "mode": "immediate",
              "transition": {
               "duration": 0,
               "easing": "linear"
              }
             }
            ],
            "label": "2010",
            "method": "animate"
           },
           {
            "args": [
             [
              "2011"
             ],
             {
              "frame": {
               "duration": 0,
               "redraw": true
              },
              "fromcurrent": true,
              "mode": "immediate",
              "transition": {
               "duration": 0,
               "easing": "linear"
              }
             }
            ],
            "label": "2011",
            "method": "animate"
           },
           {
            "args": [
             [
              "2012"
             ],
             {
              "frame": {
               "duration": 0,
               "redraw": true
              },
              "fromcurrent": true,
              "mode": "immediate",
              "transition": {
               "duration": 0,
               "easing": "linear"
              }
             }
            ],
            "label": "2012",
            "method": "animate"
           },
           {
            "args": [
             [
              "2013"
             ],
             {
              "frame": {
               "duration": 0,
               "redraw": true
              },
              "fromcurrent": true,
              "mode": "immediate",
              "transition": {
               "duration": 0,
               "easing": "linear"
              }
             }
            ],
            "label": "2013",
            "method": "animate"
           },
           {
            "args": [
             [
              "2014"
             ],
             {
              "frame": {
               "duration": 0,
               "redraw": true
              },
              "fromcurrent": true,
              "mode": "immediate",
              "transition": {
               "duration": 0,
               "easing": "linear"
              }
             }
            ],
            "label": "2014",
            "method": "animate"
           },
           {
            "args": [
             [
              "2015"
             ],
             {
              "frame": {
               "duration": 0,
               "redraw": true
              },
              "fromcurrent": true,
              "mode": "immediate",
              "transition": {
               "duration": 0,
               "easing": "linear"
              }
             }
            ],
            "label": "2015",
            "method": "animate"
           },
           {
            "args": [
             [
              "2016"
             ],
             {
              "frame": {
               "duration": 0,
               "redraw": true
              },
              "fromcurrent": true,
              "mode": "immediate",
              "transition": {
               "duration": 0,
               "easing": "linear"
              }
             }
            ],
            "label": "2016",
            "method": "animate"
           },
           {
            "args": [
             [
              "2017"
             ],
             {
              "frame": {
               "duration": 0,
               "redraw": true
              },
              "fromcurrent": true,
              "mode": "immediate",
              "transition": {
               "duration": 0,
               "easing": "linear"
              }
             }
            ],
            "label": "2017",
            "method": "animate"
           },
           {
            "args": [
             [
              "2018"
             ],
             {
              "frame": {
               "duration": 0,
               "redraw": true
              },
              "fromcurrent": true,
              "mode": "immediate",
              "transition": {
               "duration": 0,
               "easing": "linear"
              }
             }
            ],
            "label": "2018",
            "method": "animate"
           },
           {
            "args": [
             [
              "2019"
             ],
             {
              "frame": {
               "duration": 0,
               "redraw": true
              },
              "fromcurrent": true,
              "mode": "immediate",
              "transition": {
               "duration": 0,
               "easing": "linear"
              }
             }
            ],
            "label": "2019",
            "method": "animate"
           },
           {
            "args": [
             [
              "2020"
             ],
             {
              "frame": {
               "duration": 0,
               "redraw": true
              },
              "fromcurrent": true,
              "mode": "immediate",
              "transition": {
               "duration": 0,
               "easing": "linear"
              }
             }
            ],
            "label": "2020",
            "method": "animate"
           },
           {
            "args": [
             [
              "2021"
             ],
             {
              "frame": {
               "duration": 0,
               "redraw": true
              },
              "fromcurrent": true,
              "mode": "immediate",
              "transition": {
               "duration": 0,
               "easing": "linear"
              }
             }
            ],
            "label": "2021",
            "method": "animate"
           },
           {
            "args": [
             [
              "2022"
             ],
             {
              "frame": {
               "duration": 0,
               "redraw": true
              },
              "fromcurrent": true,
              "mode": "immediate",
              "transition": {
               "duration": 0,
               "easing": "linear"
              }
             }
            ],
            "label": "2022",
            "method": "animate"
           },
           {
            "args": [
             [
              "2023"
             ],
             {
              "frame": {
               "duration": 0,
               "redraw": true
              },
              "fromcurrent": true,
              "mode": "immediate",
              "transition": {
               "duration": 0,
               "easing": "linear"
              }
             }
            ],
            "label": "2023",
            "method": "animate"
           }
          ],
          "x": 0.1,
          "xanchor": "left",
          "y": 0,
          "yanchor": "top"
         }
        ],
        "template": {
         "data": {
          "bar": [
           {
            "error_x": {
             "color": "#2a3f5f"
            },
            "error_y": {
             "color": "#2a3f5f"
            },
            "marker": {
             "line": {
              "color": "#E5ECF6",
              "width": 0.5
             },
             "pattern": {
              "fillmode": "overlay",
              "size": 10,
              "solidity": 0.2
             }
            },
            "type": "bar"
           }
          ],
          "barpolar": [
           {
            "marker": {
             "line": {
              "color": "#E5ECF6",
              "width": 0.5
             },
             "pattern": {
              "fillmode": "overlay",
              "size": 10,
              "solidity": 0.2
             }
            },
            "type": "barpolar"
           }
          ],
          "carpet": [
           {
            "aaxis": {
             "endlinecolor": "#2a3f5f",
             "gridcolor": "white",
             "linecolor": "white",
             "minorgridcolor": "white",
             "startlinecolor": "#2a3f5f"
            },
            "baxis": {
             "endlinecolor": "#2a3f5f",
             "gridcolor": "white",
             "linecolor": "white",
             "minorgridcolor": "white",
             "startlinecolor": "#2a3f5f"
            },
            "type": "carpet"
           }
          ],
          "choropleth": [
           {
            "colorbar": {
             "outlinewidth": 0,
             "ticks": ""
            },
            "type": "choropleth"
           }
          ],
          "contour": [
           {
            "colorbar": {
             "outlinewidth": 0,
             "ticks": ""
            },
            "colorscale": [
             [
              0,
              "#0d0887"
             ],
             [
              0.1111111111111111,
              "#46039f"
             ],
             [
              0.2222222222222222,
              "#7201a8"
             ],
             [
              0.3333333333333333,
              "#9c179e"
             ],
             [
              0.4444444444444444,
              "#bd3786"
             ],
             [
              0.5555555555555556,
              "#d8576b"
             ],
             [
              0.6666666666666666,
              "#ed7953"
             ],
             [
              0.7777777777777778,
              "#fb9f3a"
             ],
             [
              0.8888888888888888,
              "#fdca26"
             ],
             [
              1,
              "#f0f921"
             ]
            ],
            "type": "contour"
           }
          ],
          "contourcarpet": [
           {
            "colorbar": {
             "outlinewidth": 0,
             "ticks": ""
            },
            "type": "contourcarpet"
           }
          ],
          "heatmap": [
           {
            "colorbar": {
             "outlinewidth": 0,
             "ticks": ""
            },
            "colorscale": [
             [
              0,
              "#0d0887"
             ],
             [
              0.1111111111111111,
              "#46039f"
             ],
             [
              0.2222222222222222,
              "#7201a8"
             ],
             [
              0.3333333333333333,
              "#9c179e"
             ],
             [
              0.4444444444444444,
              "#bd3786"
             ],
             [
              0.5555555555555556,
              "#d8576b"
             ],
             [
              0.6666666666666666,
              "#ed7953"
             ],
             [
              0.7777777777777778,
              "#fb9f3a"
             ],
             [
              0.8888888888888888,
              "#fdca26"
             ],
             [
              1,
              "#f0f921"
             ]
            ],
            "type": "heatmap"
           }
          ],
          "histogram": [
           {
            "marker": {
             "pattern": {
              "fillmode": "overlay",
              "size": 10,
              "solidity": 0.2
             }
            },
            "type": "histogram"
           }
          ],
          "histogram2d": [
           {
            "colorbar": {
             "outlinewidth": 0,
             "ticks": ""
            },
            "colorscale": [
             [
              0,
              "#0d0887"
             ],
             [
              0.1111111111111111,
              "#46039f"
             ],
             [
              0.2222222222222222,
              "#7201a8"
             ],
             [
              0.3333333333333333,
              "#9c179e"
             ],
             [
              0.4444444444444444,
              "#bd3786"
             ],
             [
              0.5555555555555556,
              "#d8576b"
             ],
             [
              0.6666666666666666,
              "#ed7953"
             ],
             [
              0.7777777777777778,
              "#fb9f3a"
             ],
             [
              0.8888888888888888,
              "#fdca26"
             ],
             [
              1,
              "#f0f921"
             ]
            ],
            "type": "histogram2d"
           }
          ],
          "histogram2dcontour": [
           {
            "colorbar": {
             "outlinewidth": 0,
             "ticks": ""
            },
            "colorscale": [
             [
              0,
              "#0d0887"
             ],
             [
              0.1111111111111111,
              "#46039f"
             ],
             [
              0.2222222222222222,
              "#7201a8"
             ],
             [
              0.3333333333333333,
              "#9c179e"
             ],
             [
              0.4444444444444444,
              "#bd3786"
             ],
             [
              0.5555555555555556,
              "#d8576b"
             ],
             [
              0.6666666666666666,
              "#ed7953"
             ],
             [
              0.7777777777777778,
              "#fb9f3a"
             ],
             [
              0.8888888888888888,
              "#fdca26"
             ],
             [
              1,
              "#f0f921"
             ]
            ],
            "type": "histogram2dcontour"
           }
          ],
          "mesh3d": [
           {
            "colorbar": {
             "outlinewidth": 0,
             "ticks": ""
            },
            "type": "mesh3d"
           }
          ],
          "parcoords": [
           {
            "line": {
             "colorbar": {
              "outlinewidth": 0,
              "ticks": ""
             }
            },
            "type": "parcoords"
           }
          ],
          "pie": [
           {
            "automargin": true,
            "type": "pie"
           }
          ],
          "scatter": [
           {
            "fillpattern": {
             "fillmode": "overlay",
             "size": 10,
             "solidity": 0.2
            },
            "type": "scatter"
           }
          ],
          "scatter3d": [
           {
            "line": {
             "colorbar": {
              "outlinewidth": 0,
              "ticks": ""
             }
            },
            "marker": {
             "colorbar": {
              "outlinewidth": 0,
              "ticks": ""
             }
            },
            "type": "scatter3d"
           }
          ],
          "scattercarpet": [
           {
            "marker": {
             "colorbar": {
              "outlinewidth": 0,
              "ticks": ""
             }
            },
            "type": "scattercarpet"
           }
          ],
          "scattergeo": [
           {
            "marker": {
             "colorbar": {
              "outlinewidth": 0,
              "ticks": ""
             }
            },
            "type": "scattergeo"
           }
          ],
          "scattergl": [
           {
            "marker": {
             "colorbar": {
              "outlinewidth": 0,
              "ticks": ""
             }
            },
            "type": "scattergl"
           }
          ],
          "scattermap": [
           {
            "marker": {
             "colorbar": {
              "outlinewidth": 0,
              "ticks": ""
             }
            },
            "type": "scattermap"
           }
          ],
          "scattermapbox": [
           {
            "marker": {
             "colorbar": {
              "outlinewidth": 0,
              "ticks": ""
             }
            },
            "type": "scattermapbox"
           }
          ],
          "scatterpolar": [
           {
            "marker": {
             "colorbar": {
              "outlinewidth": 0,
              "ticks": ""
             }
            },
            "type": "scatterpolar"
           }
          ],
          "scatterpolargl": [
           {
            "marker": {
             "colorbar": {
              "outlinewidth": 0,
              "ticks": ""
             }
            },
            "type": "scatterpolargl"
           }
          ],
          "scatterternary": [
           {
            "marker": {
             "colorbar": {
              "outlinewidth": 0,
              "ticks": ""
             }
            },
            "type": "scatterternary"
           }
          ],
          "surface": [
           {
            "colorbar": {
             "outlinewidth": 0,
             "ticks": ""
            },
            "colorscale": [
             [
              0,
              "#0d0887"
             ],
             [
              0.1111111111111111,
              "#46039f"
             ],
             [
              0.2222222222222222,
              "#7201a8"
             ],
             [
              0.3333333333333333,
              "#9c179e"
             ],
             [
              0.4444444444444444,
              "#bd3786"
             ],
             [
              0.5555555555555556,
              "#d8576b"
             ],
             [
              0.6666666666666666,
              "#ed7953"
             ],
             [
              0.7777777777777778,
              "#fb9f3a"
             ],
             [
              0.8888888888888888,
              "#fdca26"
             ],
             [
              1,
              "#f0f921"
             ]
            ],
            "type": "surface"
           }
          ],
          "table": [
           {
            "cells": {
             "fill": {
              "color": "#EBF0F8"
             },
             "line": {
              "color": "white"
             }
            },
            "header": {
             "fill": {
              "color": "#C8D4E3"
             },
             "line": {
              "color": "white"
             }
            },
            "type": "table"
           }
          ]
         },
         "layout": {
          "annotationdefaults": {
           "arrowcolor": "#2a3f5f",
           "arrowhead": 0,
           "arrowwidth": 1
          },
          "autotypenumbers": "strict",
          "coloraxis": {
           "colorbar": {
            "outlinewidth": 0,
            "ticks": ""
           }
          },
          "colorscale": {
           "diverging": [
            [
             0,
             "#8e0152"
            ],
            [
             0.1,
             "#c51b7d"
            ],
            [
             0.2,
             "#de77ae"
            ],
            [
             0.3,
             "#f1b6da"
            ],
            [
             0.4,
             "#fde0ef"
            ],
            [
             0.5,
             "#f7f7f7"
            ],
            [
             0.6,
             "#e6f5d0"
            ],
            [
             0.7,
             "#b8e186"
            ],
            [
             0.8,
             "#7fbc41"
            ],
            [
             0.9,
             "#4d9221"
            ],
            [
             1,
             "#276419"
            ]
           ],
           "sequential": [
            [
             0,
             "#0d0887"
            ],
            [
             0.1111111111111111,
             "#46039f"
            ],
            [
             0.2222222222222222,
             "#7201a8"
            ],
            [
             0.3333333333333333,
             "#9c179e"
            ],
            [
             0.4444444444444444,
             "#bd3786"
            ],
            [
             0.5555555555555556,
             "#d8576b"
            ],
            [
             0.6666666666666666,
             "#ed7953"
            ],
            [
             0.7777777777777778,
             "#fb9f3a"
            ],
            [
             0.8888888888888888,
             "#fdca26"
            ],
            [
             1,
             "#f0f921"
            ]
           ],
           "sequentialminus": [
            [
             0,
             "#0d0887"
            ],
            [
             0.1111111111111111,
             "#46039f"
            ],
            [
             0.2222222222222222,
             "#7201a8"
            ],
            [
             0.3333333333333333,
             "#9c179e"
            ],
            [
             0.4444444444444444,
             "#bd3786"
            ],
            [
             0.5555555555555556,
             "#d8576b"
            ],
            [
             0.6666666666666666,
             "#ed7953"
            ],
            [
             0.7777777777777778,
             "#fb9f3a"
            ],
            [
             0.8888888888888888,
             "#fdca26"
            ],
            [
             1,
             "#f0f921"
            ]
           ]
          },
          "colorway": [
           "#636efa",
           "#EF553B",
           "#00cc96",
           "#ab63fa",
           "#FFA15A",
           "#19d3f3",
           "#FF6692",
           "#B6E880",
           "#FF97FF",
           "#FECB52"
          ],
          "font": {
           "color": "#2a3f5f"
          },
          "geo": {
           "bgcolor": "white",
           "lakecolor": "white",
           "landcolor": "#E5ECF6",
           "showlakes": true,
           "showland": true,
           "subunitcolor": "white"
          },
          "hoverlabel": {
           "align": "left"
          },
          "hovermode": "closest",
          "mapbox": {
           "style": "light"
          },
          "paper_bgcolor": "white",
          "plot_bgcolor": "#E5ECF6",
          "polar": {
           "angularaxis": {
            "gridcolor": "white",
            "linecolor": "white",
            "ticks": ""
           },
           "bgcolor": "#E5ECF6",
           "radialaxis": {
            "gridcolor": "white",
            "linecolor": "white",
            "ticks": ""
           }
          },
          "scene": {
           "xaxis": {
            "backgroundcolor": "#E5ECF6",
            "gridcolor": "white",
            "gridwidth": 2,
            "linecolor": "white",
            "showbackground": true,
            "ticks": "",
            "zerolinecolor": "white"
           },
           "yaxis": {
            "backgroundcolor": "#E5ECF6",
            "gridcolor": "white",
            "gridwidth": 2,
            "linecolor": "white",
            "showbackground": true,
            "ticks": "",
            "zerolinecolor": "white"
           },
           "zaxis": {
            "backgroundcolor": "#E5ECF6",
            "gridcolor": "white",
            "gridwidth": 2,
            "linecolor": "white",
            "showbackground": true,
            "ticks": "",
            "zerolinecolor": "white"
           }
          },
          "shapedefaults": {
           "line": {
            "color": "#2a3f5f"
           }
          },
          "ternary": {
           "aaxis": {
            "gridcolor": "white",
            "linecolor": "white",
            "ticks": ""
           },
           "baxis": {
            "gridcolor": "white",
            "linecolor": "white",
            "ticks": ""
           },
           "bgcolor": "#E5ECF6",
           "caxis": {
            "gridcolor": "white",
            "linecolor": "white",
            "ticks": ""
           }
          },
          "title": {
           "x": 0.05
          },
          "xaxis": {
           "automargin": true,
           "gridcolor": "white",
           "linecolor": "white",
           "ticks": "",
           "title": {
            "standoff": 15
           },
           "zerolinecolor": "white",
           "zerolinewidth": 2
          },
          "yaxis": {
           "automargin": true,
           "gridcolor": "white",
           "linecolor": "white",
           "ticks": "",
           "title": {
            "standoff": 15
           },
           "zerolinecolor": "white",
           "zerolinewidth": 2
          }
         }
        },
        "title": {
         "text": "Obitos por Ano e Sexo (1900-2023)"
        },
        "updatemenus": [
         {
          "buttons": [
           {
            "args": [
             null,
             {
              "frame": {
               "duration": 500,
               "redraw": true
              },
              "fromcurrent": true,
              "mode": "immediate",
              "transition": {
               "duration": 500,
               "easing": "linear"
              }
             }
            ],
            "label": "&#9654;",
            "method": "animate"
           },
           {
            "args": [
             [
              null
             ],
             {
              "frame": {
               "duration": 0,
               "redraw": true
              },
              "fromcurrent": true,
              "mode": "immediate",
              "transition": {
               "duration": 0,
               "easing": "linear"
              }
             }
            ],
            "label": "&#9724;",
            "method": "animate"
           }
          ],
          "direction": "left",
          "pad": {
           "r": 10,
           "t": 70
          },
          "showactive": false,
          "type": "buttons",
          "x": 0.1,
          "xanchor": "right",
          "y": 0,
          "yanchor": "top"
         }
        ],
        "xaxis": {
         "anchor": "y",
         "domain": [
          0,
          1
         ],
         "range": [
          0,
          79442
         ],
         "title": {
          "text": "Obitos"
         }
        },
        "yaxis": {
         "anchor": "x",
         "categoryarray": [
          "Feminino",
          "Masculino"
         ],
         "categoryorder": "total ascending",
         "domain": [
          0,
          1
         ],
         "title": {
          "text": "Sexo"
         }
        }
       }
      }
     },
     "metadata": {},
     "output_type": "display_data"
    }
   ],
   "source": [
    "fig = px.bar(\n",
    "    tabela_long,\n",
    "    y='Sexo',           # barras horizontais para categorias Sexo\n",
    "    x='Obitos',\n",
    "    color='Sexo',\n",
    "    orientation='h',    # barras horizontais\n",
    "    animation_frame='Anos',    # animação por anos\n",
    "    animation_group='Sexo',    # grupo de animação\n",
    "    range_x=[0, tabela_long['Obitos'].max() * 1.1],\n",
    "    color_discrete_map={'Masculino': 'blue', 'Feminino': 'pink'},\n",
    "    title='Obitos por Ano e Sexo (1900-2023)',\n",
    "    text='Obitos',\n",
    ")\n",
    "\n",
    "fig.update_layout(yaxis={'categoryorder':'total ascending'})  # para ordem das barras\n",
    "fig.show()"
   ]
  },
  {
   "cell_type": "code",
   "execution_count": 10,
   "id": "c4de1357",
   "metadata": {},
   "outputs": [],
   "source": [
    "fig.write_html('grafico_dinamico_mortalidade.html') "
   ]
  }
 ],
 "metadata": {
  "kernelspec": {
   "display_name": "Python 3",
   "language": "python",
   "name": "python3"
  },
  "language_info": {
   "codemirror_mode": {
    "name": "ipython",
    "version": 3
   },
   "file_extension": ".py",
   "mimetype": "text/x-python",
   "name": "python",
   "nbconvert_exporter": "python",
   "pygments_lexer": "ipython3",
   "version": "3.12.7"
  }
 },
 "nbformat": 4,
 "nbformat_minor": 5
}
