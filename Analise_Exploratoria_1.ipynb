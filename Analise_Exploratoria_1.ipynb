{
 "cells": [
  {
   "cell_type": "code",
   "execution_count": 2,
   "id": "7365705d",
   "metadata": {},
   "outputs": [],
   "source": [
    "import pandas as pd \n",
    "import numpy as np\n",
    "import matplotlib.pyplot as plt\n",
    "import seaborn as sns"
   ]
  },
  {
   "cell_type": "code",
   "execution_count": 3,
   "id": "bc540b23",
   "metadata": {},
   "outputs": [],
   "source": [
    "pd.set_option('display.max_columns', None)\n",
    "pd.set_option('display.max_rows', None)\n",
    "pd.options.display.float_format = '{:.2f}'.format"
   ]
  },
  {
   "cell_type": "code",
   "execution_count": 4,
   "id": "ebdedad5",
   "metadata": {},
   "outputs": [
    {
     "data": {
      "text/html": [
       "<div>\n",
       "<style scoped>\n",
       "    .dataframe tbody tr th:only-of-type {\n",
       "        vertical-align: middle;\n",
       "    }\n",
       "\n",
       "    .dataframe tbody tr th {\n",
       "        vertical-align: top;\n",
       "    }\n",
       "\n",
       "    .dataframe thead th {\n",
       "        text-align: right;\n",
       "    }\n",
       "</style>\n",
       "<table border=\"1\" class=\"dataframe\">\n",
       "  <thead>\n",
       "    <tr style=\"text-align: right;\">\n",
       "      <th></th>\n",
       "      <th>Anos</th>\n",
       "      <th>Nascimentos</th>\n",
       "      <th>Nasc. M</th>\n",
       "      <th>Nasc. F</th>\n",
       "      <th>Obitos</th>\n",
       "      <th>Obitos M</th>\n",
       "      <th>Obitos F</th>\n",
       "      <th>Populacao Residente Total</th>\n",
       "      <th>Populacao Homens</th>\n",
       "      <th>Populacao Mulheres</th>\n",
       "    </tr>\n",
       "  </thead>\n",
       "  <tbody>\n",
       "    <tr>\n",
       "      <th>0</th>\n",
       "      <td>1900</td>\n",
       "      <td>165245</td>\n",
       "      <td>85274</td>\n",
       "      <td>79971</td>\n",
       "      <td>110330</td>\n",
       "      <td>56304</td>\n",
       "      <td>54026</td>\n",
       "      <td>5446760</td>\n",
       "      <td>NaN</td>\n",
       "      <td>NaN</td>\n",
       "    </tr>\n",
       "    <tr>\n",
       "      <th>1</th>\n",
       "      <td>1920</td>\n",
       "      <td>202908</td>\n",
       "      <td>103984</td>\n",
       "      <td>98924</td>\n",
       "      <td>142862</td>\n",
       "      <td>72220</td>\n",
       "      <td>70662</td>\n",
       "      <td>6080135</td>\n",
       "      <td>NaN</td>\n",
       "      <td>NaN</td>\n",
       "    </tr>\n",
       "    <tr>\n",
       "      <th>2</th>\n",
       "      <td>1930</td>\n",
       "      <td>202529</td>\n",
       "      <td>103928</td>\n",
       "      <td>98601</td>\n",
       "      <td>116352</td>\n",
       "      <td>59508</td>\n",
       "      <td>56844</td>\n",
       "      <td>6802429</td>\n",
       "      <td>NaN</td>\n",
       "      <td>NaN</td>\n",
       "    </tr>\n",
       "    <tr>\n",
       "      <th>3</th>\n",
       "      <td>1940</td>\n",
       "      <td>187892</td>\n",
       "      <td>97147</td>\n",
       "      <td>90745</td>\n",
       "      <td>120486</td>\n",
       "      <td>60930</td>\n",
       "      <td>59556</td>\n",
       "      <td>7755423</td>\n",
       "      <td>3734348.00</td>\n",
       "      <td>4021075.00</td>\n",
       "    </tr>\n",
       "    <tr>\n",
       "      <th>4</th>\n",
       "      <td>1950</td>\n",
       "      <td>205163</td>\n",
       "      <td>106025</td>\n",
       "      <td>99138</td>\n",
       "      <td>102798</td>\n",
       "      <td>52366</td>\n",
       "      <td>50432</td>\n",
       "      <td>8510240</td>\n",
       "      <td>4120184.00</td>\n",
       "      <td>4390056.00</td>\n",
       "    </tr>\n",
       "  </tbody>\n",
       "</table>\n",
       "</div>"
      ],
      "text/plain": [
       "   Anos  Nascimentos  Nasc. M  Nasc. F  Obitos  Obitos M  Obitos F  \\\n",
       "0  1900       165245    85274    79971  110330     56304     54026   \n",
       "1  1920       202908   103984    98924  142862     72220     70662   \n",
       "2  1930       202529   103928    98601  116352     59508     56844   \n",
       "3  1940       187892    97147    90745  120486     60930     59556   \n",
       "4  1950       205163   106025    99138  102798     52366     50432   \n",
       "\n",
       "   Populacao Residente Total  Populacao Homens  Populacao Mulheres  \n",
       "0                    5446760               NaN                 NaN  \n",
       "1                    6080135               NaN                 NaN  \n",
       "2                    6802429               NaN                 NaN  \n",
       "3                    7755423        3734348.00          4021075.00  \n",
       "4                    8510240        4120184.00          4390056.00  "
      ]
     },
     "execution_count": 4,
     "metadata": {},
     "output_type": "execute_result"
    }
   ],
   "source": [
    "df=pd.read_csv('ETL_Dados_Parcial.csv', sep=';')\n",
    "df.head()"
   ]
  },
  {
   "cell_type": "code",
   "execution_count": 5,
   "id": "3afb5ebe",
   "metadata": {},
   "outputs": [
    {
     "data": {
      "text/plain": [
       "(51, 10)"
      ]
     },
     "execution_count": 5,
     "metadata": {},
     "output_type": "execute_result"
    }
   ],
   "source": [
    "df.shape"
   ]
  },
  {
   "cell_type": "code",
   "execution_count": 6,
   "id": "9074023e",
   "metadata": {},
   "outputs": [
    {
     "name": "stdout",
     "output_type": "stream",
     "text": [
      "<class 'pandas.core.frame.DataFrame'>\n",
      "RangeIndex: 51 entries, 0 to 50\n",
      "Data columns (total 10 columns):\n",
      " #   Column                     Non-Null Count  Dtype  \n",
      "---  ------                     --------------  -----  \n",
      " 0   Anos                       51 non-null     int64  \n",
      " 1   Nascimentos                51 non-null     int64  \n",
      " 2   Nasc. M                    51 non-null     int64  \n",
      " 3   Nasc. F                    51 non-null     int64  \n",
      " 4   Obitos                     51 non-null     int64  \n",
      " 5   Obitos M                   51 non-null     int64  \n",
      " 6   Obitos F                   51 non-null     int64  \n",
      " 7   Populacao Residente Total  51 non-null     int64  \n",
      " 8   Populacao Homens           48 non-null     float64\n",
      " 9   Populacao Mulheres         48 non-null     float64\n",
      "dtypes: float64(2), int64(8)\n",
      "memory usage: 4.1 KB\n"
     ]
    }
   ],
   "source": [
    "df.info()"
   ]
  },
  {
   "cell_type": "code",
   "execution_count": 7,
   "id": "82262b43",
   "metadata": {},
   "outputs": [],
   "source": [
    "change_var_int = df\n",
    "change_var_int = ['Populacao Homens', 'Populacao Mulheres']\n",
    "\n",
    "for col in change_var_int:\n",
    "    df[col] = pd.to_numeric(df[col], errors='coerce').astype('Int64')"
   ]
  },
  {
   "cell_type": "code",
   "execution_count": 9,
   "id": "73ef1ad7",
   "metadata": {},
   "outputs": [
    {
     "name": "stdout",
     "output_type": "stream",
     "text": [
      "<class 'pandas.core.frame.DataFrame'>\n",
      "RangeIndex: 51 entries, 0 to 50\n",
      "Data columns (total 10 columns):\n",
      " #   Column                     Non-Null Count  Dtype\n",
      "---  ------                     --------------  -----\n",
      " 0   Anos                       51 non-null     int64\n",
      " 1   Nascimentos                51 non-null     int64\n",
      " 2   Nasc. M                    51 non-null     int64\n",
      " 3   Nasc. F                    51 non-null     int64\n",
      " 4   Obitos                     51 non-null     int64\n",
      " 5   Obitos M                   51 non-null     int64\n",
      " 6   Obitos F                   51 non-null     int64\n",
      " 7   Populacao Residente Total  51 non-null     int64\n",
      " 8   Populacao Homens           48 non-null     Int64\n",
      " 9   Populacao Mulheres         48 non-null     Int64\n",
      "dtypes: Int64(2), int64(8)\n",
      "memory usage: 4.2 KB\n"
     ]
    }
   ],
   "source": [
    "df.info()"
   ]
  },
  {
   "cell_type": "markdown",
   "id": "1c3f3eb5",
   "metadata": {},
   "source": [
    "#### Verificar se há dados nulos"
   ]
  },
  {
   "cell_type": "code",
   "execution_count": 10,
   "id": "3238bd4e",
   "metadata": {},
   "outputs": [
    {
     "data": {
      "text/plain": [
       "Anos                         0\n",
       "Nascimentos                  0\n",
       "Nasc. M                      0\n",
       "Nasc. F                      0\n",
       "Obitos                       0\n",
       "Obitos M                     0\n",
       "Obitos F                     0\n",
       "Populacao Residente Total    0\n",
       "Populacao Homens             3\n",
       "Populacao Mulheres           3\n",
       "dtype: int64"
      ]
     },
     "execution_count": 10,
     "metadata": {},
     "output_type": "execute_result"
    }
   ],
   "source": [
    "df.isnull().sum()"
   ]
  },
  {
   "cell_type": "code",
   "execution_count": 13,
   "id": "dd68f708",
   "metadata": {},
   "outputs": [
    {
     "name": "stdout",
     "output_type": "stream",
     "text": [
      "Anos : 51\n",
      "Nascimentos : 51\n",
      "Nasc. M : 51\n",
      "Nasc. F : 51\n",
      "Obitos : 51\n",
      "Obitos M : 51\n",
      "Obitos F : 51\n",
      "Populacao Residente Total : 51\n",
      "Populacao Homens : 48\n",
      "Populacao Mulheres : 48\n"
     ]
    }
   ],
   "source": [
    "valores_unicos = []\n",
    "for i in df.columns[0:11].tolist():\n",
    "    print(i, ':', len(df[i].astype('Int64').value_counts()))\n",
    "    valores_unicos.append(len(df[i].astype('Int64').value_counts()))"
   ]
  }
 ],
 "metadata": {
  "kernelspec": {
   "display_name": "Python 3",
   "language": "python",
   "name": "python3"
  },
  "language_info": {
   "codemirror_mode": {
    "name": "ipython",
    "version": 3
   },
   "file_extension": ".py",
   "mimetype": "text/x-python",
   "name": "python",
   "nbconvert_exporter": "python",
   "pygments_lexer": "ipython3",
   "version": "3.12.7"
  }
 },
 "nbformat": 4,
 "nbformat_minor": 5
}
